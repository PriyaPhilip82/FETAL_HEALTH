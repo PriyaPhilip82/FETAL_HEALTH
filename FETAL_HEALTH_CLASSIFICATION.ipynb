{
  "cells": [
    {
      "cell_type": "code",
      "execution_count": 45,
      "metadata": {
        "colab": {
          "base_uri": "https://localhost:8080/",
          "height": 505
        },
        "id": "uL1LQADa3FWz",
        "outputId": "f33c029c-2c97-446b-c277-459b80e8c88f"
      },
      "outputs": [
        {
          "output_type": "execute_result",
          "data": {
            "text/plain": [
              "      baseline value  accelerations  fetal_movement  uterine_contractions  \\\n",
              "0              120.0          0.000           0.000                 0.000   \n",
              "1              132.0          0.006           0.000                 0.006   \n",
              "2              133.0          0.003           0.000                 0.008   \n",
              "3              134.0          0.003           0.000                 0.008   \n",
              "4              132.0          0.007           0.000                 0.008   \n",
              "...              ...            ...             ...                   ...   \n",
              "2121           140.0          0.000           0.000                 0.007   \n",
              "2122           140.0          0.001           0.000                 0.007   \n",
              "2123           140.0          0.001           0.000                 0.007   \n",
              "2124           140.0          0.001           0.000                 0.006   \n",
              "2125           142.0          0.002           0.002                 0.008   \n",
              "\n",
              "      light_decelerations  severe_decelerations  prolongued_decelerations  \\\n",
              "0                   0.000                   0.0                       0.0   \n",
              "1                   0.003                   0.0                       0.0   \n",
              "2                   0.003                   0.0                       0.0   \n",
              "3                   0.003                   0.0                       0.0   \n",
              "4                   0.000                   0.0                       0.0   \n",
              "...                   ...                   ...                       ...   \n",
              "2121                0.000                   0.0                       0.0   \n",
              "2122                0.000                   0.0                       0.0   \n",
              "2123                0.000                   0.0                       0.0   \n",
              "2124                0.000                   0.0                       0.0   \n",
              "2125                0.000                   0.0                       0.0   \n",
              "\n",
              "      abnormal_short_term_variability  mean_value_of_short_term_variability  \\\n",
              "0                                73.0                                   0.5   \n",
              "1                                17.0                                   2.1   \n",
              "2                                16.0                                   2.1   \n",
              "3                                16.0                                   2.4   \n",
              "4                                16.0                                   2.4   \n",
              "...                               ...                                   ...   \n",
              "2121                             79.0                                   0.2   \n",
              "2122                             78.0                                   0.4   \n",
              "2123                             79.0                                   0.4   \n",
              "2124                             78.0                                   0.4   \n",
              "2125                             74.0                                   0.4   \n",
              "\n",
              "      percentage_of_time_with_abnormal_long_term_variability  ...  \\\n",
              "0                                                  43.0       ...   \n",
              "1                                                   0.0       ...   \n",
              "2                                                   0.0       ...   \n",
              "3                                                   0.0       ...   \n",
              "4                                                   0.0       ...   \n",
              "...                                                 ...       ...   \n",
              "2121                                               25.0       ...   \n",
              "2122                                               22.0       ...   \n",
              "2123                                               20.0       ...   \n",
              "2124                                               27.0       ...   \n",
              "2125                                               36.0       ...   \n",
              "\n",
              "      histogram_min  histogram_max  histogram_number_of_peaks  \\\n",
              "0              62.0          126.0                        2.0   \n",
              "1              68.0          198.0                        6.0   \n",
              "2              68.0          198.0                        5.0   \n",
              "3              53.0          170.0                       11.0   \n",
              "4              53.0          170.0                        9.0   \n",
              "...             ...            ...                        ...   \n",
              "2121          137.0          177.0                        4.0   \n",
              "2122          103.0          169.0                        6.0   \n",
              "2123          103.0          170.0                        5.0   \n",
              "2124          103.0          169.0                        6.0   \n",
              "2125          117.0          159.0                        2.0   \n",
              "\n",
              "      histogram_number_of_zeroes  histogram_mode  histogram_mean  \\\n",
              "0                            0.0           120.0           137.0   \n",
              "1                            1.0           141.0           136.0   \n",
              "2                            1.0           141.0           135.0   \n",
              "3                            0.0           137.0           134.0   \n",
              "4                            0.0           137.0           136.0   \n",
              "...                          ...             ...             ...   \n",
              "2121                         0.0           153.0           150.0   \n",
              "2122                         0.0           152.0           148.0   \n",
              "2123                         0.0           153.0           148.0   \n",
              "2124                         0.0           152.0           147.0   \n",
              "2125                         1.0           145.0           143.0   \n",
              "\n",
              "      histogram_median  histogram_variance  histogram_tendency  fetal_health  \n",
              "0                121.0                73.0                 1.0           2.0  \n",
              "1                140.0                12.0                 0.0           1.0  \n",
              "2                138.0                13.0                 0.0           1.0  \n",
              "3                137.0                13.0                 1.0           1.0  \n",
              "4                138.0                11.0                 1.0           1.0  \n",
              "...                ...                 ...                 ...           ...  \n",
              "2121             152.0                 2.0                 0.0           2.0  \n",
              "2122             151.0                 3.0                 1.0           2.0  \n",
              "2123             152.0                 4.0                 1.0           2.0  \n",
              "2124             151.0                 4.0                 1.0           2.0  \n",
              "2125             145.0                 1.0                 0.0           1.0  \n",
              "\n",
              "[2126 rows x 22 columns]"
            ],
            "text/html": [
              "\n",
              "  <div id=\"df-6a22d8f1-f36e-4fc5-bac5-77b27c06283f\">\n",
              "    <div class=\"colab-df-container\">\n",
              "      <div>\n",
              "<style scoped>\n",
              "    .dataframe tbody tr th:only-of-type {\n",
              "        vertical-align: middle;\n",
              "    }\n",
              "\n",
              "    .dataframe tbody tr th {\n",
              "        vertical-align: top;\n",
              "    }\n",
              "\n",
              "    .dataframe thead th {\n",
              "        text-align: right;\n",
              "    }\n",
              "</style>\n",
              "<table border=\"1\" class=\"dataframe\">\n",
              "  <thead>\n",
              "    <tr style=\"text-align: right;\">\n",
              "      <th></th>\n",
              "      <th>baseline value</th>\n",
              "      <th>accelerations</th>\n",
              "      <th>fetal_movement</th>\n",
              "      <th>uterine_contractions</th>\n",
              "      <th>light_decelerations</th>\n",
              "      <th>severe_decelerations</th>\n",
              "      <th>prolongued_decelerations</th>\n",
              "      <th>abnormal_short_term_variability</th>\n",
              "      <th>mean_value_of_short_term_variability</th>\n",
              "      <th>percentage_of_time_with_abnormal_long_term_variability</th>\n",
              "      <th>...</th>\n",
              "      <th>histogram_min</th>\n",
              "      <th>histogram_max</th>\n",
              "      <th>histogram_number_of_peaks</th>\n",
              "      <th>histogram_number_of_zeroes</th>\n",
              "      <th>histogram_mode</th>\n",
              "      <th>histogram_mean</th>\n",
              "      <th>histogram_median</th>\n",
              "      <th>histogram_variance</th>\n",
              "      <th>histogram_tendency</th>\n",
              "      <th>fetal_health</th>\n",
              "    </tr>\n",
              "  </thead>\n",
              "  <tbody>\n",
              "    <tr>\n",
              "      <th>0</th>\n",
              "      <td>120.0</td>\n",
              "      <td>0.000</td>\n",
              "      <td>0.000</td>\n",
              "      <td>0.000</td>\n",
              "      <td>0.000</td>\n",
              "      <td>0.0</td>\n",
              "      <td>0.0</td>\n",
              "      <td>73.0</td>\n",
              "      <td>0.5</td>\n",
              "      <td>43.0</td>\n",
              "      <td>...</td>\n",
              "      <td>62.0</td>\n",
              "      <td>126.0</td>\n",
              "      <td>2.0</td>\n",
              "      <td>0.0</td>\n",
              "      <td>120.0</td>\n",
              "      <td>137.0</td>\n",
              "      <td>121.0</td>\n",
              "      <td>73.0</td>\n",
              "      <td>1.0</td>\n",
              "      <td>2.0</td>\n",
              "    </tr>\n",
              "    <tr>\n",
              "      <th>1</th>\n",
              "      <td>132.0</td>\n",
              "      <td>0.006</td>\n",
              "      <td>0.000</td>\n",
              "      <td>0.006</td>\n",
              "      <td>0.003</td>\n",
              "      <td>0.0</td>\n",
              "      <td>0.0</td>\n",
              "      <td>17.0</td>\n",
              "      <td>2.1</td>\n",
              "      <td>0.0</td>\n",
              "      <td>...</td>\n",
              "      <td>68.0</td>\n",
              "      <td>198.0</td>\n",
              "      <td>6.0</td>\n",
              "      <td>1.0</td>\n",
              "      <td>141.0</td>\n",
              "      <td>136.0</td>\n",
              "      <td>140.0</td>\n",
              "      <td>12.0</td>\n",
              "      <td>0.0</td>\n",
              "      <td>1.0</td>\n",
              "    </tr>\n",
              "    <tr>\n",
              "      <th>2</th>\n",
              "      <td>133.0</td>\n",
              "      <td>0.003</td>\n",
              "      <td>0.000</td>\n",
              "      <td>0.008</td>\n",
              "      <td>0.003</td>\n",
              "      <td>0.0</td>\n",
              "      <td>0.0</td>\n",
              "      <td>16.0</td>\n",
              "      <td>2.1</td>\n",
              "      <td>0.0</td>\n",
              "      <td>...</td>\n",
              "      <td>68.0</td>\n",
              "      <td>198.0</td>\n",
              "      <td>5.0</td>\n",
              "      <td>1.0</td>\n",
              "      <td>141.0</td>\n",
              "      <td>135.0</td>\n",
              "      <td>138.0</td>\n",
              "      <td>13.0</td>\n",
              "      <td>0.0</td>\n",
              "      <td>1.0</td>\n",
              "    </tr>\n",
              "    <tr>\n",
              "      <th>3</th>\n",
              "      <td>134.0</td>\n",
              "      <td>0.003</td>\n",
              "      <td>0.000</td>\n",
              "      <td>0.008</td>\n",
              "      <td>0.003</td>\n",
              "      <td>0.0</td>\n",
              "      <td>0.0</td>\n",
              "      <td>16.0</td>\n",
              "      <td>2.4</td>\n",
              "      <td>0.0</td>\n",
              "      <td>...</td>\n",
              "      <td>53.0</td>\n",
              "      <td>170.0</td>\n",
              "      <td>11.0</td>\n",
              "      <td>0.0</td>\n",
              "      <td>137.0</td>\n",
              "      <td>134.0</td>\n",
              "      <td>137.0</td>\n",
              "      <td>13.0</td>\n",
              "      <td>1.0</td>\n",
              "      <td>1.0</td>\n",
              "    </tr>\n",
              "    <tr>\n",
              "      <th>4</th>\n",
              "      <td>132.0</td>\n",
              "      <td>0.007</td>\n",
              "      <td>0.000</td>\n",
              "      <td>0.008</td>\n",
              "      <td>0.000</td>\n",
              "      <td>0.0</td>\n",
              "      <td>0.0</td>\n",
              "      <td>16.0</td>\n",
              "      <td>2.4</td>\n",
              "      <td>0.0</td>\n",
              "      <td>...</td>\n",
              "      <td>53.0</td>\n",
              "      <td>170.0</td>\n",
              "      <td>9.0</td>\n",
              "      <td>0.0</td>\n",
              "      <td>137.0</td>\n",
              "      <td>136.0</td>\n",
              "      <td>138.0</td>\n",
              "      <td>11.0</td>\n",
              "      <td>1.0</td>\n",
              "      <td>1.0</td>\n",
              "    </tr>\n",
              "    <tr>\n",
              "      <th>...</th>\n",
              "      <td>...</td>\n",
              "      <td>...</td>\n",
              "      <td>...</td>\n",
              "      <td>...</td>\n",
              "      <td>...</td>\n",
              "      <td>...</td>\n",
              "      <td>...</td>\n",
              "      <td>...</td>\n",
              "      <td>...</td>\n",
              "      <td>...</td>\n",
              "      <td>...</td>\n",
              "      <td>...</td>\n",
              "      <td>...</td>\n",
              "      <td>...</td>\n",
              "      <td>...</td>\n",
              "      <td>...</td>\n",
              "      <td>...</td>\n",
              "      <td>...</td>\n",
              "      <td>...</td>\n",
              "      <td>...</td>\n",
              "      <td>...</td>\n",
              "    </tr>\n",
              "    <tr>\n",
              "      <th>2121</th>\n",
              "      <td>140.0</td>\n",
              "      <td>0.000</td>\n",
              "      <td>0.000</td>\n",
              "      <td>0.007</td>\n",
              "      <td>0.000</td>\n",
              "      <td>0.0</td>\n",
              "      <td>0.0</td>\n",
              "      <td>79.0</td>\n",
              "      <td>0.2</td>\n",
              "      <td>25.0</td>\n",
              "      <td>...</td>\n",
              "      <td>137.0</td>\n",
              "      <td>177.0</td>\n",
              "      <td>4.0</td>\n",
              "      <td>0.0</td>\n",
              "      <td>153.0</td>\n",
              "      <td>150.0</td>\n",
              "      <td>152.0</td>\n",
              "      <td>2.0</td>\n",
              "      <td>0.0</td>\n",
              "      <td>2.0</td>\n",
              "    </tr>\n",
              "    <tr>\n",
              "      <th>2122</th>\n",
              "      <td>140.0</td>\n",
              "      <td>0.001</td>\n",
              "      <td>0.000</td>\n",
              "      <td>0.007</td>\n",
              "      <td>0.000</td>\n",
              "      <td>0.0</td>\n",
              "      <td>0.0</td>\n",
              "      <td>78.0</td>\n",
              "      <td>0.4</td>\n",
              "      <td>22.0</td>\n",
              "      <td>...</td>\n",
              "      <td>103.0</td>\n",
              "      <td>169.0</td>\n",
              "      <td>6.0</td>\n",
              "      <td>0.0</td>\n",
              "      <td>152.0</td>\n",
              "      <td>148.0</td>\n",
              "      <td>151.0</td>\n",
              "      <td>3.0</td>\n",
              "      <td>1.0</td>\n",
              "      <td>2.0</td>\n",
              "    </tr>\n",
              "    <tr>\n",
              "      <th>2123</th>\n",
              "      <td>140.0</td>\n",
              "      <td>0.001</td>\n",
              "      <td>0.000</td>\n",
              "      <td>0.007</td>\n",
              "      <td>0.000</td>\n",
              "      <td>0.0</td>\n",
              "      <td>0.0</td>\n",
              "      <td>79.0</td>\n",
              "      <td>0.4</td>\n",
              "      <td>20.0</td>\n",
              "      <td>...</td>\n",
              "      <td>103.0</td>\n",
              "      <td>170.0</td>\n",
              "      <td>5.0</td>\n",
              "      <td>0.0</td>\n",
              "      <td>153.0</td>\n",
              "      <td>148.0</td>\n",
              "      <td>152.0</td>\n",
              "      <td>4.0</td>\n",
              "      <td>1.0</td>\n",
              "      <td>2.0</td>\n",
              "    </tr>\n",
              "    <tr>\n",
              "      <th>2124</th>\n",
              "      <td>140.0</td>\n",
              "      <td>0.001</td>\n",
              "      <td>0.000</td>\n",
              "      <td>0.006</td>\n",
              "      <td>0.000</td>\n",
              "      <td>0.0</td>\n",
              "      <td>0.0</td>\n",
              "      <td>78.0</td>\n",
              "      <td>0.4</td>\n",
              "      <td>27.0</td>\n",
              "      <td>...</td>\n",
              "      <td>103.0</td>\n",
              "      <td>169.0</td>\n",
              "      <td>6.0</td>\n",
              "      <td>0.0</td>\n",
              "      <td>152.0</td>\n",
              "      <td>147.0</td>\n",
              "      <td>151.0</td>\n",
              "      <td>4.0</td>\n",
              "      <td>1.0</td>\n",
              "      <td>2.0</td>\n",
              "    </tr>\n",
              "    <tr>\n",
              "      <th>2125</th>\n",
              "      <td>142.0</td>\n",
              "      <td>0.002</td>\n",
              "      <td>0.002</td>\n",
              "      <td>0.008</td>\n",
              "      <td>0.000</td>\n",
              "      <td>0.0</td>\n",
              "      <td>0.0</td>\n",
              "      <td>74.0</td>\n",
              "      <td>0.4</td>\n",
              "      <td>36.0</td>\n",
              "      <td>...</td>\n",
              "      <td>117.0</td>\n",
              "      <td>159.0</td>\n",
              "      <td>2.0</td>\n",
              "      <td>1.0</td>\n",
              "      <td>145.0</td>\n",
              "      <td>143.0</td>\n",
              "      <td>145.0</td>\n",
              "      <td>1.0</td>\n",
              "      <td>0.0</td>\n",
              "      <td>1.0</td>\n",
              "    </tr>\n",
              "  </tbody>\n",
              "</table>\n",
              "<p>2126 rows × 22 columns</p>\n",
              "</div>\n",
              "      <button class=\"colab-df-convert\" onclick=\"convertToInteractive('df-6a22d8f1-f36e-4fc5-bac5-77b27c06283f')\"\n",
              "              title=\"Convert this dataframe to an interactive table.\"\n",
              "              style=\"display:none;\">\n",
              "        \n",
              "  <svg xmlns=\"http://www.w3.org/2000/svg\" height=\"24px\"viewBox=\"0 0 24 24\"\n",
              "       width=\"24px\">\n",
              "    <path d=\"M0 0h24v24H0V0z\" fill=\"none\"/>\n",
              "    <path d=\"M18.56 5.44l.94 2.06.94-2.06 2.06-.94-2.06-.94-.94-2.06-.94 2.06-2.06.94zm-11 1L8.5 8.5l.94-2.06 2.06-.94-2.06-.94L8.5 2.5l-.94 2.06-2.06.94zm10 10l.94 2.06.94-2.06 2.06-.94-2.06-.94-.94-2.06-.94 2.06-2.06.94z\"/><path d=\"M17.41 7.96l-1.37-1.37c-.4-.4-.92-.59-1.43-.59-.52 0-1.04.2-1.43.59L10.3 9.45l-7.72 7.72c-.78.78-.78 2.05 0 2.83L4 21.41c.39.39.9.59 1.41.59.51 0 1.02-.2 1.41-.59l7.78-7.78 2.81-2.81c.8-.78.8-2.07 0-2.86zM5.41 20L4 18.59l7.72-7.72 1.47 1.35L5.41 20z\"/>\n",
              "  </svg>\n",
              "      </button>\n",
              "      \n",
              "  <style>\n",
              "    .colab-df-container {\n",
              "      display:flex;\n",
              "      flex-wrap:wrap;\n",
              "      gap: 12px;\n",
              "    }\n",
              "\n",
              "    .colab-df-convert {\n",
              "      background-color: #E8F0FE;\n",
              "      border: none;\n",
              "      border-radius: 50%;\n",
              "      cursor: pointer;\n",
              "      display: none;\n",
              "      fill: #1967D2;\n",
              "      height: 32px;\n",
              "      padding: 0 0 0 0;\n",
              "      width: 32px;\n",
              "    }\n",
              "\n",
              "    .colab-df-convert:hover {\n",
              "      background-color: #E2EBFA;\n",
              "      box-shadow: 0px 1px 2px rgba(60, 64, 67, 0.3), 0px 1px 3px 1px rgba(60, 64, 67, 0.15);\n",
              "      fill: #174EA6;\n",
              "    }\n",
              "\n",
              "    [theme=dark] .colab-df-convert {\n",
              "      background-color: #3B4455;\n",
              "      fill: #D2E3FC;\n",
              "    }\n",
              "\n",
              "    [theme=dark] .colab-df-convert:hover {\n",
              "      background-color: #434B5C;\n",
              "      box-shadow: 0px 1px 3px 1px rgba(0, 0, 0, 0.15);\n",
              "      filter: drop-shadow(0px 1px 2px rgba(0, 0, 0, 0.3));\n",
              "      fill: #FFFFFF;\n",
              "    }\n",
              "  </style>\n",
              "\n",
              "      <script>\n",
              "        const buttonEl =\n",
              "          document.querySelector('#df-6a22d8f1-f36e-4fc5-bac5-77b27c06283f button.colab-df-convert');\n",
              "        buttonEl.style.display =\n",
              "          google.colab.kernel.accessAllowed ? 'block' : 'none';\n",
              "\n",
              "        async function convertToInteractive(key) {\n",
              "          const element = document.querySelector('#df-6a22d8f1-f36e-4fc5-bac5-77b27c06283f');\n",
              "          const dataTable =\n",
              "            await google.colab.kernel.invokeFunction('convertToInteractive',\n",
              "                                                     [key], {});\n",
              "          if (!dataTable) return;\n",
              "\n",
              "          const docLinkHtml = 'Like what you see? Visit the ' +\n",
              "            '<a target=\"_blank\" href=https://colab.research.google.com/notebooks/data_table.ipynb>data table notebook</a>'\n",
              "            + ' to learn more about interactive tables.';\n",
              "          element.innerHTML = '';\n",
              "          dataTable['output_type'] = 'display_data';\n",
              "          await google.colab.output.renderOutput(dataTable, element);\n",
              "          const docLink = document.createElement('div');\n",
              "          docLink.innerHTML = docLinkHtml;\n",
              "          element.appendChild(docLink);\n",
              "        }\n",
              "      </script>\n",
              "    </div>\n",
              "  </div>\n",
              "  "
            ]
          },
          "metadata": {},
          "execution_count": 45
        }
      ],
      "source": [
        "import numpy as np\n",
        "import pandas as pd\n",
        "df=pd.read_csv(\"/content/fetal_health.csv\")\n",
        "df"
      ]
    },
    {
      "cell_type": "code",
      "execution_count": 46,
      "metadata": {
        "colab": {
          "base_uri": "https://localhost:8080/"
        },
        "id": "4AqGx5ua3WdT",
        "outputId": "7cb95999-995f-4198-9c0e-36fe12df96ac"
      },
      "outputs": [
        {
          "output_type": "execute_result",
          "data": {
            "text/plain": [
              "(2126, 22)"
            ]
          },
          "metadata": {},
          "execution_count": 46
        }
      ],
      "source": [
        "df.shape"
      ]
    },
    {
      "cell_type": "code",
      "execution_count": 47,
      "metadata": {
        "colab": {
          "base_uri": "https://localhost:8080/"
        },
        "id": "u8fYkuBL3XCm",
        "outputId": "5a9cda84-7885-4496-d71e-78eb62d89f01"
      },
      "outputs": [
        {
          "output_type": "execute_result",
          "data": {
            "text/plain": [
              "46772"
            ]
          },
          "metadata": {},
          "execution_count": 47
        }
      ],
      "source": [
        "df.size"
      ]
    },
    {
      "cell_type": "code",
      "execution_count": 48,
      "metadata": {
        "colab": {
          "base_uri": "https://localhost:8080/",
          "height": 317
        },
        "id": "pK5zizly3XNc",
        "outputId": "2ed53ad2-725d-4f12-f03d-34fa406c7ab6"
      },
      "outputs": [
        {
          "output_type": "execute_result",
          "data": {
            "text/plain": [
              "   baseline value  accelerations  fetal_movement  uterine_contractions  \\\n",
              "0           120.0          0.000             0.0                 0.000   \n",
              "1           132.0          0.006             0.0                 0.006   \n",
              "2           133.0          0.003             0.0                 0.008   \n",
              "3           134.0          0.003             0.0                 0.008   \n",
              "4           132.0          0.007             0.0                 0.008   \n",
              "\n",
              "   light_decelerations  severe_decelerations  prolongued_decelerations  \\\n",
              "0                0.000                   0.0                       0.0   \n",
              "1                0.003                   0.0                       0.0   \n",
              "2                0.003                   0.0                       0.0   \n",
              "3                0.003                   0.0                       0.0   \n",
              "4                0.000                   0.0                       0.0   \n",
              "\n",
              "   abnormal_short_term_variability  mean_value_of_short_term_variability  \\\n",
              "0                             73.0                                   0.5   \n",
              "1                             17.0                                   2.1   \n",
              "2                             16.0                                   2.1   \n",
              "3                             16.0                                   2.4   \n",
              "4                             16.0                                   2.4   \n",
              "\n",
              "   percentage_of_time_with_abnormal_long_term_variability  ...  histogram_min  \\\n",
              "0                                               43.0       ...           62.0   \n",
              "1                                                0.0       ...           68.0   \n",
              "2                                                0.0       ...           68.0   \n",
              "3                                                0.0       ...           53.0   \n",
              "4                                                0.0       ...           53.0   \n",
              "\n",
              "   histogram_max  histogram_number_of_peaks  histogram_number_of_zeroes  \\\n",
              "0          126.0                        2.0                         0.0   \n",
              "1          198.0                        6.0                         1.0   \n",
              "2          198.0                        5.0                         1.0   \n",
              "3          170.0                       11.0                         0.0   \n",
              "4          170.0                        9.0                         0.0   \n",
              "\n",
              "   histogram_mode  histogram_mean  histogram_median  histogram_variance  \\\n",
              "0           120.0           137.0             121.0                73.0   \n",
              "1           141.0           136.0             140.0                12.0   \n",
              "2           141.0           135.0             138.0                13.0   \n",
              "3           137.0           134.0             137.0                13.0   \n",
              "4           137.0           136.0             138.0                11.0   \n",
              "\n",
              "   histogram_tendency  fetal_health  \n",
              "0                 1.0           2.0  \n",
              "1                 0.0           1.0  \n",
              "2                 0.0           1.0  \n",
              "3                 1.0           1.0  \n",
              "4                 1.0           1.0  \n",
              "\n",
              "[5 rows x 22 columns]"
            ],
            "text/html": [
              "\n",
              "  <div id=\"df-ae183465-8848-452d-b466-313e5833bb73\">\n",
              "    <div class=\"colab-df-container\">\n",
              "      <div>\n",
              "<style scoped>\n",
              "    .dataframe tbody tr th:only-of-type {\n",
              "        vertical-align: middle;\n",
              "    }\n",
              "\n",
              "    .dataframe tbody tr th {\n",
              "        vertical-align: top;\n",
              "    }\n",
              "\n",
              "    .dataframe thead th {\n",
              "        text-align: right;\n",
              "    }\n",
              "</style>\n",
              "<table border=\"1\" class=\"dataframe\">\n",
              "  <thead>\n",
              "    <tr style=\"text-align: right;\">\n",
              "      <th></th>\n",
              "      <th>baseline value</th>\n",
              "      <th>accelerations</th>\n",
              "      <th>fetal_movement</th>\n",
              "      <th>uterine_contractions</th>\n",
              "      <th>light_decelerations</th>\n",
              "      <th>severe_decelerations</th>\n",
              "      <th>prolongued_decelerations</th>\n",
              "      <th>abnormal_short_term_variability</th>\n",
              "      <th>mean_value_of_short_term_variability</th>\n",
              "      <th>percentage_of_time_with_abnormal_long_term_variability</th>\n",
              "      <th>...</th>\n",
              "      <th>histogram_min</th>\n",
              "      <th>histogram_max</th>\n",
              "      <th>histogram_number_of_peaks</th>\n",
              "      <th>histogram_number_of_zeroes</th>\n",
              "      <th>histogram_mode</th>\n",
              "      <th>histogram_mean</th>\n",
              "      <th>histogram_median</th>\n",
              "      <th>histogram_variance</th>\n",
              "      <th>histogram_tendency</th>\n",
              "      <th>fetal_health</th>\n",
              "    </tr>\n",
              "  </thead>\n",
              "  <tbody>\n",
              "    <tr>\n",
              "      <th>0</th>\n",
              "      <td>120.0</td>\n",
              "      <td>0.000</td>\n",
              "      <td>0.0</td>\n",
              "      <td>0.000</td>\n",
              "      <td>0.000</td>\n",
              "      <td>0.0</td>\n",
              "      <td>0.0</td>\n",
              "      <td>73.0</td>\n",
              "      <td>0.5</td>\n",
              "      <td>43.0</td>\n",
              "      <td>...</td>\n",
              "      <td>62.0</td>\n",
              "      <td>126.0</td>\n",
              "      <td>2.0</td>\n",
              "      <td>0.0</td>\n",
              "      <td>120.0</td>\n",
              "      <td>137.0</td>\n",
              "      <td>121.0</td>\n",
              "      <td>73.0</td>\n",
              "      <td>1.0</td>\n",
              "      <td>2.0</td>\n",
              "    </tr>\n",
              "    <tr>\n",
              "      <th>1</th>\n",
              "      <td>132.0</td>\n",
              "      <td>0.006</td>\n",
              "      <td>0.0</td>\n",
              "      <td>0.006</td>\n",
              "      <td>0.003</td>\n",
              "      <td>0.0</td>\n",
              "      <td>0.0</td>\n",
              "      <td>17.0</td>\n",
              "      <td>2.1</td>\n",
              "      <td>0.0</td>\n",
              "      <td>...</td>\n",
              "      <td>68.0</td>\n",
              "      <td>198.0</td>\n",
              "      <td>6.0</td>\n",
              "      <td>1.0</td>\n",
              "      <td>141.0</td>\n",
              "      <td>136.0</td>\n",
              "      <td>140.0</td>\n",
              "      <td>12.0</td>\n",
              "      <td>0.0</td>\n",
              "      <td>1.0</td>\n",
              "    </tr>\n",
              "    <tr>\n",
              "      <th>2</th>\n",
              "      <td>133.0</td>\n",
              "      <td>0.003</td>\n",
              "      <td>0.0</td>\n",
              "      <td>0.008</td>\n",
              "      <td>0.003</td>\n",
              "      <td>0.0</td>\n",
              "      <td>0.0</td>\n",
              "      <td>16.0</td>\n",
              "      <td>2.1</td>\n",
              "      <td>0.0</td>\n",
              "      <td>...</td>\n",
              "      <td>68.0</td>\n",
              "      <td>198.0</td>\n",
              "      <td>5.0</td>\n",
              "      <td>1.0</td>\n",
              "      <td>141.0</td>\n",
              "      <td>135.0</td>\n",
              "      <td>138.0</td>\n",
              "      <td>13.0</td>\n",
              "      <td>0.0</td>\n",
              "      <td>1.0</td>\n",
              "    </tr>\n",
              "    <tr>\n",
              "      <th>3</th>\n",
              "      <td>134.0</td>\n",
              "      <td>0.003</td>\n",
              "      <td>0.0</td>\n",
              "      <td>0.008</td>\n",
              "      <td>0.003</td>\n",
              "      <td>0.0</td>\n",
              "      <td>0.0</td>\n",
              "      <td>16.0</td>\n",
              "      <td>2.4</td>\n",
              "      <td>0.0</td>\n",
              "      <td>...</td>\n",
              "      <td>53.0</td>\n",
              "      <td>170.0</td>\n",
              "      <td>11.0</td>\n",
              "      <td>0.0</td>\n",
              "      <td>137.0</td>\n",
              "      <td>134.0</td>\n",
              "      <td>137.0</td>\n",
              "      <td>13.0</td>\n",
              "      <td>1.0</td>\n",
              "      <td>1.0</td>\n",
              "    </tr>\n",
              "    <tr>\n",
              "      <th>4</th>\n",
              "      <td>132.0</td>\n",
              "      <td>0.007</td>\n",
              "      <td>0.0</td>\n",
              "      <td>0.008</td>\n",
              "      <td>0.000</td>\n",
              "      <td>0.0</td>\n",
              "      <td>0.0</td>\n",
              "      <td>16.0</td>\n",
              "      <td>2.4</td>\n",
              "      <td>0.0</td>\n",
              "      <td>...</td>\n",
              "      <td>53.0</td>\n",
              "      <td>170.0</td>\n",
              "      <td>9.0</td>\n",
              "      <td>0.0</td>\n",
              "      <td>137.0</td>\n",
              "      <td>136.0</td>\n",
              "      <td>138.0</td>\n",
              "      <td>11.0</td>\n",
              "      <td>1.0</td>\n",
              "      <td>1.0</td>\n",
              "    </tr>\n",
              "  </tbody>\n",
              "</table>\n",
              "<p>5 rows × 22 columns</p>\n",
              "</div>\n",
              "      <button class=\"colab-df-convert\" onclick=\"convertToInteractive('df-ae183465-8848-452d-b466-313e5833bb73')\"\n",
              "              title=\"Convert this dataframe to an interactive table.\"\n",
              "              style=\"display:none;\">\n",
              "        \n",
              "  <svg xmlns=\"http://www.w3.org/2000/svg\" height=\"24px\"viewBox=\"0 0 24 24\"\n",
              "       width=\"24px\">\n",
              "    <path d=\"M0 0h24v24H0V0z\" fill=\"none\"/>\n",
              "    <path d=\"M18.56 5.44l.94 2.06.94-2.06 2.06-.94-2.06-.94-.94-2.06-.94 2.06-2.06.94zm-11 1L8.5 8.5l.94-2.06 2.06-.94-2.06-.94L8.5 2.5l-.94 2.06-2.06.94zm10 10l.94 2.06.94-2.06 2.06-.94-2.06-.94-.94-2.06-.94 2.06-2.06.94z\"/><path d=\"M17.41 7.96l-1.37-1.37c-.4-.4-.92-.59-1.43-.59-.52 0-1.04.2-1.43.59L10.3 9.45l-7.72 7.72c-.78.78-.78 2.05 0 2.83L4 21.41c.39.39.9.59 1.41.59.51 0 1.02-.2 1.41-.59l7.78-7.78 2.81-2.81c.8-.78.8-2.07 0-2.86zM5.41 20L4 18.59l7.72-7.72 1.47 1.35L5.41 20z\"/>\n",
              "  </svg>\n",
              "      </button>\n",
              "      \n",
              "  <style>\n",
              "    .colab-df-container {\n",
              "      display:flex;\n",
              "      flex-wrap:wrap;\n",
              "      gap: 12px;\n",
              "    }\n",
              "\n",
              "    .colab-df-convert {\n",
              "      background-color: #E8F0FE;\n",
              "      border: none;\n",
              "      border-radius: 50%;\n",
              "      cursor: pointer;\n",
              "      display: none;\n",
              "      fill: #1967D2;\n",
              "      height: 32px;\n",
              "      padding: 0 0 0 0;\n",
              "      width: 32px;\n",
              "    }\n",
              "\n",
              "    .colab-df-convert:hover {\n",
              "      background-color: #E2EBFA;\n",
              "      box-shadow: 0px 1px 2px rgba(60, 64, 67, 0.3), 0px 1px 3px 1px rgba(60, 64, 67, 0.15);\n",
              "      fill: #174EA6;\n",
              "    }\n",
              "\n",
              "    [theme=dark] .colab-df-convert {\n",
              "      background-color: #3B4455;\n",
              "      fill: #D2E3FC;\n",
              "    }\n",
              "\n",
              "    [theme=dark] .colab-df-convert:hover {\n",
              "      background-color: #434B5C;\n",
              "      box-shadow: 0px 1px 3px 1px rgba(0, 0, 0, 0.15);\n",
              "      filter: drop-shadow(0px 1px 2px rgba(0, 0, 0, 0.3));\n",
              "      fill: #FFFFFF;\n",
              "    }\n",
              "  </style>\n",
              "\n",
              "      <script>\n",
              "        const buttonEl =\n",
              "          document.querySelector('#df-ae183465-8848-452d-b466-313e5833bb73 button.colab-df-convert');\n",
              "        buttonEl.style.display =\n",
              "          google.colab.kernel.accessAllowed ? 'block' : 'none';\n",
              "\n",
              "        async function convertToInteractive(key) {\n",
              "          const element = document.querySelector('#df-ae183465-8848-452d-b466-313e5833bb73');\n",
              "          const dataTable =\n",
              "            await google.colab.kernel.invokeFunction('convertToInteractive',\n",
              "                                                     [key], {});\n",
              "          if (!dataTable) return;\n",
              "\n",
              "          const docLinkHtml = 'Like what you see? Visit the ' +\n",
              "            '<a target=\"_blank\" href=https://colab.research.google.com/notebooks/data_table.ipynb>data table notebook</a>'\n",
              "            + ' to learn more about interactive tables.';\n",
              "          element.innerHTML = '';\n",
              "          dataTable['output_type'] = 'display_data';\n",
              "          await google.colab.output.renderOutput(dataTable, element);\n",
              "          const docLink = document.createElement('div');\n",
              "          docLink.innerHTML = docLinkHtml;\n",
              "          element.appendChild(docLink);\n",
              "        }\n",
              "      </script>\n",
              "    </div>\n",
              "  </div>\n",
              "  "
            ]
          },
          "metadata": {},
          "execution_count": 48
        }
      ],
      "source": [
        "df.head()"
      ]
    },
    {
      "cell_type": "code",
      "execution_count": 49,
      "metadata": {
        "colab": {
          "base_uri": "https://localhost:8080/",
          "height": 317
        },
        "id": "ybQHu01i3XXt",
        "outputId": "01c08650-05f5-471f-8267-063d9070e7fe"
      },
      "outputs": [
        {
          "output_type": "execute_result",
          "data": {
            "text/plain": [
              "      baseline value  accelerations  fetal_movement  uterine_contractions  \\\n",
              "2121           140.0          0.000           0.000                 0.007   \n",
              "2122           140.0          0.001           0.000                 0.007   \n",
              "2123           140.0          0.001           0.000                 0.007   \n",
              "2124           140.0          0.001           0.000                 0.006   \n",
              "2125           142.0          0.002           0.002                 0.008   \n",
              "\n",
              "      light_decelerations  severe_decelerations  prolongued_decelerations  \\\n",
              "2121                  0.0                   0.0                       0.0   \n",
              "2122                  0.0                   0.0                       0.0   \n",
              "2123                  0.0                   0.0                       0.0   \n",
              "2124                  0.0                   0.0                       0.0   \n",
              "2125                  0.0                   0.0                       0.0   \n",
              "\n",
              "      abnormal_short_term_variability  mean_value_of_short_term_variability  \\\n",
              "2121                             79.0                                   0.2   \n",
              "2122                             78.0                                   0.4   \n",
              "2123                             79.0                                   0.4   \n",
              "2124                             78.0                                   0.4   \n",
              "2125                             74.0                                   0.4   \n",
              "\n",
              "      percentage_of_time_with_abnormal_long_term_variability  ...  \\\n",
              "2121                                               25.0       ...   \n",
              "2122                                               22.0       ...   \n",
              "2123                                               20.0       ...   \n",
              "2124                                               27.0       ...   \n",
              "2125                                               36.0       ...   \n",
              "\n",
              "      histogram_min  histogram_max  histogram_number_of_peaks  \\\n",
              "2121          137.0          177.0                        4.0   \n",
              "2122          103.0          169.0                        6.0   \n",
              "2123          103.0          170.0                        5.0   \n",
              "2124          103.0          169.0                        6.0   \n",
              "2125          117.0          159.0                        2.0   \n",
              "\n",
              "      histogram_number_of_zeroes  histogram_mode  histogram_mean  \\\n",
              "2121                         0.0           153.0           150.0   \n",
              "2122                         0.0           152.0           148.0   \n",
              "2123                         0.0           153.0           148.0   \n",
              "2124                         0.0           152.0           147.0   \n",
              "2125                         1.0           145.0           143.0   \n",
              "\n",
              "      histogram_median  histogram_variance  histogram_tendency  fetal_health  \n",
              "2121             152.0                 2.0                 0.0           2.0  \n",
              "2122             151.0                 3.0                 1.0           2.0  \n",
              "2123             152.0                 4.0                 1.0           2.0  \n",
              "2124             151.0                 4.0                 1.0           2.0  \n",
              "2125             145.0                 1.0                 0.0           1.0  \n",
              "\n",
              "[5 rows x 22 columns]"
            ],
            "text/html": [
              "\n",
              "  <div id=\"df-fa6ad4b3-ea6d-47f5-b371-8745c6954236\">\n",
              "    <div class=\"colab-df-container\">\n",
              "      <div>\n",
              "<style scoped>\n",
              "    .dataframe tbody tr th:only-of-type {\n",
              "        vertical-align: middle;\n",
              "    }\n",
              "\n",
              "    .dataframe tbody tr th {\n",
              "        vertical-align: top;\n",
              "    }\n",
              "\n",
              "    .dataframe thead th {\n",
              "        text-align: right;\n",
              "    }\n",
              "</style>\n",
              "<table border=\"1\" class=\"dataframe\">\n",
              "  <thead>\n",
              "    <tr style=\"text-align: right;\">\n",
              "      <th></th>\n",
              "      <th>baseline value</th>\n",
              "      <th>accelerations</th>\n",
              "      <th>fetal_movement</th>\n",
              "      <th>uterine_contractions</th>\n",
              "      <th>light_decelerations</th>\n",
              "      <th>severe_decelerations</th>\n",
              "      <th>prolongued_decelerations</th>\n",
              "      <th>abnormal_short_term_variability</th>\n",
              "      <th>mean_value_of_short_term_variability</th>\n",
              "      <th>percentage_of_time_with_abnormal_long_term_variability</th>\n",
              "      <th>...</th>\n",
              "      <th>histogram_min</th>\n",
              "      <th>histogram_max</th>\n",
              "      <th>histogram_number_of_peaks</th>\n",
              "      <th>histogram_number_of_zeroes</th>\n",
              "      <th>histogram_mode</th>\n",
              "      <th>histogram_mean</th>\n",
              "      <th>histogram_median</th>\n",
              "      <th>histogram_variance</th>\n",
              "      <th>histogram_tendency</th>\n",
              "      <th>fetal_health</th>\n",
              "    </tr>\n",
              "  </thead>\n",
              "  <tbody>\n",
              "    <tr>\n",
              "      <th>2121</th>\n",
              "      <td>140.0</td>\n",
              "      <td>0.000</td>\n",
              "      <td>0.000</td>\n",
              "      <td>0.007</td>\n",
              "      <td>0.0</td>\n",
              "      <td>0.0</td>\n",
              "      <td>0.0</td>\n",
              "      <td>79.0</td>\n",
              "      <td>0.2</td>\n",
              "      <td>25.0</td>\n",
              "      <td>...</td>\n",
              "      <td>137.0</td>\n",
              "      <td>177.0</td>\n",
              "      <td>4.0</td>\n",
              "      <td>0.0</td>\n",
              "      <td>153.0</td>\n",
              "      <td>150.0</td>\n",
              "      <td>152.0</td>\n",
              "      <td>2.0</td>\n",
              "      <td>0.0</td>\n",
              "      <td>2.0</td>\n",
              "    </tr>\n",
              "    <tr>\n",
              "      <th>2122</th>\n",
              "      <td>140.0</td>\n",
              "      <td>0.001</td>\n",
              "      <td>0.000</td>\n",
              "      <td>0.007</td>\n",
              "      <td>0.0</td>\n",
              "      <td>0.0</td>\n",
              "      <td>0.0</td>\n",
              "      <td>78.0</td>\n",
              "      <td>0.4</td>\n",
              "      <td>22.0</td>\n",
              "      <td>...</td>\n",
              "      <td>103.0</td>\n",
              "      <td>169.0</td>\n",
              "      <td>6.0</td>\n",
              "      <td>0.0</td>\n",
              "      <td>152.0</td>\n",
              "      <td>148.0</td>\n",
              "      <td>151.0</td>\n",
              "      <td>3.0</td>\n",
              "      <td>1.0</td>\n",
              "      <td>2.0</td>\n",
              "    </tr>\n",
              "    <tr>\n",
              "      <th>2123</th>\n",
              "      <td>140.0</td>\n",
              "      <td>0.001</td>\n",
              "      <td>0.000</td>\n",
              "      <td>0.007</td>\n",
              "      <td>0.0</td>\n",
              "      <td>0.0</td>\n",
              "      <td>0.0</td>\n",
              "      <td>79.0</td>\n",
              "      <td>0.4</td>\n",
              "      <td>20.0</td>\n",
              "      <td>...</td>\n",
              "      <td>103.0</td>\n",
              "      <td>170.0</td>\n",
              "      <td>5.0</td>\n",
              "      <td>0.0</td>\n",
              "      <td>153.0</td>\n",
              "      <td>148.0</td>\n",
              "      <td>152.0</td>\n",
              "      <td>4.0</td>\n",
              "      <td>1.0</td>\n",
              "      <td>2.0</td>\n",
              "    </tr>\n",
              "    <tr>\n",
              "      <th>2124</th>\n",
              "      <td>140.0</td>\n",
              "      <td>0.001</td>\n",
              "      <td>0.000</td>\n",
              "      <td>0.006</td>\n",
              "      <td>0.0</td>\n",
              "      <td>0.0</td>\n",
              "      <td>0.0</td>\n",
              "      <td>78.0</td>\n",
              "      <td>0.4</td>\n",
              "      <td>27.0</td>\n",
              "      <td>...</td>\n",
              "      <td>103.0</td>\n",
              "      <td>169.0</td>\n",
              "      <td>6.0</td>\n",
              "      <td>0.0</td>\n",
              "      <td>152.0</td>\n",
              "      <td>147.0</td>\n",
              "      <td>151.0</td>\n",
              "      <td>4.0</td>\n",
              "      <td>1.0</td>\n",
              "      <td>2.0</td>\n",
              "    </tr>\n",
              "    <tr>\n",
              "      <th>2125</th>\n",
              "      <td>142.0</td>\n",
              "      <td>0.002</td>\n",
              "      <td>0.002</td>\n",
              "      <td>0.008</td>\n",
              "      <td>0.0</td>\n",
              "      <td>0.0</td>\n",
              "      <td>0.0</td>\n",
              "      <td>74.0</td>\n",
              "      <td>0.4</td>\n",
              "      <td>36.0</td>\n",
              "      <td>...</td>\n",
              "      <td>117.0</td>\n",
              "      <td>159.0</td>\n",
              "      <td>2.0</td>\n",
              "      <td>1.0</td>\n",
              "      <td>145.0</td>\n",
              "      <td>143.0</td>\n",
              "      <td>145.0</td>\n",
              "      <td>1.0</td>\n",
              "      <td>0.0</td>\n",
              "      <td>1.0</td>\n",
              "    </tr>\n",
              "  </tbody>\n",
              "</table>\n",
              "<p>5 rows × 22 columns</p>\n",
              "</div>\n",
              "      <button class=\"colab-df-convert\" onclick=\"convertToInteractive('df-fa6ad4b3-ea6d-47f5-b371-8745c6954236')\"\n",
              "              title=\"Convert this dataframe to an interactive table.\"\n",
              "              style=\"display:none;\">\n",
              "        \n",
              "  <svg xmlns=\"http://www.w3.org/2000/svg\" height=\"24px\"viewBox=\"0 0 24 24\"\n",
              "       width=\"24px\">\n",
              "    <path d=\"M0 0h24v24H0V0z\" fill=\"none\"/>\n",
              "    <path d=\"M18.56 5.44l.94 2.06.94-2.06 2.06-.94-2.06-.94-.94-2.06-.94 2.06-2.06.94zm-11 1L8.5 8.5l.94-2.06 2.06-.94-2.06-.94L8.5 2.5l-.94 2.06-2.06.94zm10 10l.94 2.06.94-2.06 2.06-.94-2.06-.94-.94-2.06-.94 2.06-2.06.94z\"/><path d=\"M17.41 7.96l-1.37-1.37c-.4-.4-.92-.59-1.43-.59-.52 0-1.04.2-1.43.59L10.3 9.45l-7.72 7.72c-.78.78-.78 2.05 0 2.83L4 21.41c.39.39.9.59 1.41.59.51 0 1.02-.2 1.41-.59l7.78-7.78 2.81-2.81c.8-.78.8-2.07 0-2.86zM5.41 20L4 18.59l7.72-7.72 1.47 1.35L5.41 20z\"/>\n",
              "  </svg>\n",
              "      </button>\n",
              "      \n",
              "  <style>\n",
              "    .colab-df-container {\n",
              "      display:flex;\n",
              "      flex-wrap:wrap;\n",
              "      gap: 12px;\n",
              "    }\n",
              "\n",
              "    .colab-df-convert {\n",
              "      background-color: #E8F0FE;\n",
              "      border: none;\n",
              "      border-radius: 50%;\n",
              "      cursor: pointer;\n",
              "      display: none;\n",
              "      fill: #1967D2;\n",
              "      height: 32px;\n",
              "      padding: 0 0 0 0;\n",
              "      width: 32px;\n",
              "    }\n",
              "\n",
              "    .colab-df-convert:hover {\n",
              "      background-color: #E2EBFA;\n",
              "      box-shadow: 0px 1px 2px rgba(60, 64, 67, 0.3), 0px 1px 3px 1px rgba(60, 64, 67, 0.15);\n",
              "      fill: #174EA6;\n",
              "    }\n",
              "\n",
              "    [theme=dark] .colab-df-convert {\n",
              "      background-color: #3B4455;\n",
              "      fill: #D2E3FC;\n",
              "    }\n",
              "\n",
              "    [theme=dark] .colab-df-convert:hover {\n",
              "      background-color: #434B5C;\n",
              "      box-shadow: 0px 1px 3px 1px rgba(0, 0, 0, 0.15);\n",
              "      filter: drop-shadow(0px 1px 2px rgba(0, 0, 0, 0.3));\n",
              "      fill: #FFFFFF;\n",
              "    }\n",
              "  </style>\n",
              "\n",
              "      <script>\n",
              "        const buttonEl =\n",
              "          document.querySelector('#df-fa6ad4b3-ea6d-47f5-b371-8745c6954236 button.colab-df-convert');\n",
              "        buttonEl.style.display =\n",
              "          google.colab.kernel.accessAllowed ? 'block' : 'none';\n",
              "\n",
              "        async function convertToInteractive(key) {\n",
              "          const element = document.querySelector('#df-fa6ad4b3-ea6d-47f5-b371-8745c6954236');\n",
              "          const dataTable =\n",
              "            await google.colab.kernel.invokeFunction('convertToInteractive',\n",
              "                                                     [key], {});\n",
              "          if (!dataTable) return;\n",
              "\n",
              "          const docLinkHtml = 'Like what you see? Visit the ' +\n",
              "            '<a target=\"_blank\" href=https://colab.research.google.com/notebooks/data_table.ipynb>data table notebook</a>'\n",
              "            + ' to learn more about interactive tables.';\n",
              "          element.innerHTML = '';\n",
              "          dataTable['output_type'] = 'display_data';\n",
              "          await google.colab.output.renderOutput(dataTable, element);\n",
              "          const docLink = document.createElement('div');\n",
              "          docLink.innerHTML = docLinkHtml;\n",
              "          element.appendChild(docLink);\n",
              "        }\n",
              "      </script>\n",
              "    </div>\n",
              "  </div>\n",
              "  "
            ]
          },
          "metadata": {},
          "execution_count": 49
        }
      ],
      "source": [
        "df.tail()"
      ]
    },
    {
      "cell_type": "code",
      "execution_count": 50,
      "metadata": {
        "colab": {
          "base_uri": "https://localhost:8080/"
        },
        "id": "AFbEq0aO3gD7",
        "outputId": "13214186-535e-4fd5-a756-4ac2cbc4f0b2"
      },
      "outputs": [
        {
          "output_type": "execute_result",
          "data": {
            "text/plain": [
              "Index(['baseline value', 'accelerations', 'fetal_movement',\n",
              "       'uterine_contractions', 'light_decelerations', 'severe_decelerations',\n",
              "       'prolongued_decelerations', 'abnormal_short_term_variability',\n",
              "       'mean_value_of_short_term_variability',\n",
              "       'percentage_of_time_with_abnormal_long_term_variability',\n",
              "       'mean_value_of_long_term_variability', 'histogram_width',\n",
              "       'histogram_min', 'histogram_max', 'histogram_number_of_peaks',\n",
              "       'histogram_number_of_zeroes', 'histogram_mode', 'histogram_mean',\n",
              "       'histogram_median', 'histogram_variance', 'histogram_tendency',\n",
              "       'fetal_health'],\n",
              "      dtype='object')"
            ]
          },
          "metadata": {},
          "execution_count": 50
        }
      ],
      "source": [
        "df.columns"
      ]
    },
    {
      "cell_type": "code",
      "execution_count": 51,
      "metadata": {
        "colab": {
          "base_uri": "https://localhost:8080/"
        },
        "id": "2o363iO03h7P",
        "outputId": "0bfd1815-97f9-447b-ffdd-603c27baa01b"
      },
      "outputs": [
        {
          "output_type": "execute_result",
          "data": {
            "text/plain": [
              "baseline value                                            float64\n",
              "accelerations                                             float64\n",
              "fetal_movement                                            float64\n",
              "uterine_contractions                                      float64\n",
              "light_decelerations                                       float64\n",
              "severe_decelerations                                      float64\n",
              "prolongued_decelerations                                  float64\n",
              "abnormal_short_term_variability                           float64\n",
              "mean_value_of_short_term_variability                      float64\n",
              "percentage_of_time_with_abnormal_long_term_variability    float64\n",
              "mean_value_of_long_term_variability                       float64\n",
              "histogram_width                                           float64\n",
              "histogram_min                                             float64\n",
              "histogram_max                                             float64\n",
              "histogram_number_of_peaks                                 float64\n",
              "histogram_number_of_zeroes                                float64\n",
              "histogram_mode                                            float64\n",
              "histogram_mean                                            float64\n",
              "histogram_median                                          float64\n",
              "histogram_variance                                        float64\n",
              "histogram_tendency                                        float64\n",
              "fetal_health                                              float64\n",
              "dtype: object"
            ]
          },
          "metadata": {},
          "execution_count": 51
        }
      ],
      "source": [
        "df.dtypes"
      ]
    },
    {
      "cell_type": "code",
      "execution_count": 52,
      "metadata": {
        "colab": {
          "base_uri": "https://localhost:8080/"
        },
        "id": "zvvnLpWk4eGQ",
        "outputId": "0426751b-5b87-4ecb-e8cf-6846be9b04aa"
      },
      "outputs": [
        {
          "output_type": "execute_result",
          "data": {
            "text/plain": [
              "baseline value                                            0\n",
              "accelerations                                             0\n",
              "fetal_movement                                            0\n",
              "uterine_contractions                                      0\n",
              "light_decelerations                                       0\n",
              "severe_decelerations                                      0\n",
              "prolongued_decelerations                                  0\n",
              "abnormal_short_term_variability                           0\n",
              "mean_value_of_short_term_variability                      0\n",
              "percentage_of_time_with_abnormal_long_term_variability    0\n",
              "mean_value_of_long_term_variability                       0\n",
              "histogram_width                                           0\n",
              "histogram_min                                             0\n",
              "histogram_max                                             0\n",
              "histogram_number_of_peaks                                 0\n",
              "histogram_number_of_zeroes                                0\n",
              "histogram_mode                                            0\n",
              "histogram_mean                                            0\n",
              "histogram_median                                          0\n",
              "histogram_variance                                        0\n",
              "histogram_tendency                                        0\n",
              "fetal_health                                              0\n",
              "dtype: int64"
            ]
          },
          "metadata": {},
          "execution_count": 52
        }
      ],
      "source": [
        "df.isna().sum()"
      ]
    },
    {
      "cell_type": "code",
      "execution_count": 53,
      "metadata": {
        "colab": {
          "base_uri": "https://localhost:8080/",
          "height": 564
        },
        "id": "aSLqsMPL5Cnp",
        "outputId": "8fdb2d92-7b21-4756-daa2-5423a26b15df"
      },
      "outputs": [
        {
          "output_type": "execute_result",
          "data": {
            "text/plain": [
              "<matplotlib.axes._subplots.AxesSubplot at 0x7f474def8640>"
            ]
          },
          "metadata": {},
          "execution_count": 53
        },
        {
          "output_type": "display_data",
          "data": {
            "text/plain": [
              "<Figure size 432x288 with 2 Axes>"
            ],
            "image/png": "[encoded data removed]"
          },
          "metadata": {
            "needs_background": "light"
          }
        }
      ],
      "source": [
        "# CORRELATION PLOT\n",
        "import seaborn as snc\n",
        "snc.heatmap(df.corr())"
      ]
    },
    {
      "cell_type": "code",
      "execution_count": 54,
      "metadata": {
        "id": "ErfTa56u6VJu"
      },
      "outputs": [],
      "source": [
        "# SEPERATING INPUT X AND OUTPUT Y\n",
        "x=df.iloc[:,:-1].values\n",
        "y=df.iloc[:,-1].values"
      ]
    },
    {
      "cell_type": "code",
      "execution_count": 55,
      "metadata": {
        "id": "Wj4CklsB6jgY"
      },
      "outputs": [],
      "source": [
        "# SEPERATING TRAIN & TEST DATA\n",
        "from sklearn.model_selection import train_test_split\n",
        "x_train,x_test,y_train,y_test=train_test_split(x,y,test_size=0.30,random_state=42)"
      ]
    },
    {
      "cell_type": "code",
      "execution_count": 56,
      "metadata": {
        "id": "g3CuM1A864w7"
      },
      "outputs": [],
      "source": [
        "# NORMALIZATION\n",
        "from sklearn.preprocessing import StandardScaler\n",
        "scaler=StandardScaler()\n",
        "scaler.fit(x_train)\n",
        "x_train=scaler.transform(x_train)\n",
        "x_test=scaler.transform(x_test)"
      ]
    },
    {
      "cell_type": "markdown",
      "metadata": {
        "id": "D7A-8a-m8lQu"
      },
      "source": [
        "**1.KNN**"
      ]
    },
    {
      "cell_type": "code",
      "execution_count": 57,
      "metadata": {
        "id": "hq7PZ8Ok7q_M"
      },
      "outputs": [],
      "source": [
        "# ML ALGORITHM\n",
        "from sklearn.neighbors import KNeighborsClassifier\n",
        "model_knn=KNeighborsClassifier(n_neighbors=7)\n",
        "model_knn.fit(x_train,y_train)\n",
        "y_pred_knn=model_knn.predict(x_test)"
      ]
    },
    {
      "cell_type": "code",
      "execution_count": 58,
      "metadata": {
        "colab": {
          "base_uri": "https://localhost:8080/"
        },
        "id": "ToH8ppi-8in9",
        "outputId": "1e48e7d4-286b-44f4-8bb5-91e9b5b93a80"
      },
      "outputs": [
        {
          "output_type": "execute_result",
          "data": {
            "text/plain": [
              "array([[478,  29,   8],\n",
              "       [ 18,  66,   3],\n",
              "       [  0,   6,  30]])"
            ]
          },
          "metadata": {},
          "execution_count": 58
        }
      ],
      "source": [
        "# PERFORMANCE EVALUATION\n",
        "from sklearn.metrics import confusion_matrix,ConfusionMatrixDisplay,accuracy_score,classification_report\n",
        "mat=confusion_matrix(y_pred_knn,y_test)\n",
        "mat"
      ]
    },
    {
      "cell_type": "code",
      "execution_count": 59,
      "metadata": {
        "colab": {
          "base_uri": "https://localhost:8080/",
          "height": 296
        },
        "id": "pKKOv3ML9DyM",
        "outputId": "98a3200f-bc8d-4bed-b10d-685edd8b012a"
      },
      "outputs": [
        {
          "output_type": "execute_result",
          "data": {
            "text/plain": [
              "<sklearn.metrics._plot.confusion_matrix.ConfusionMatrixDisplay at 0x7f47533d1fa0>"
            ]
          },
          "metadata": {},
          "execution_count": 59
        },
        {
          "output_type": "display_data",
          "data": {
            "text/plain": [
              "<Figure size 432x288 with 2 Axes>"
            ],
            "image/png": "[encoded data removed]"
          },
          "metadata": {
            "needs_background": "light"
          }
        }
      ],
      "source": [
        "label=['1','2','3']\n",
        "cmd=ConfusionMatrixDisplay(mat,display_labels=label)\n",
        "cmd.plot()"
      ]
    },
    {
      "cell_type": "code",
      "execution_count": 60,
      "metadata": {
        "colab": {
          "base_uri": "https://localhost:8080/"
        },
        "id": "yXMca6Iy9jVy",
        "outputId": "dc5c126e-d235-4246-ad99-9ab260571f41"
      },
      "outputs": [
        {
          "output_type": "execute_result",
          "data": {
            "text/plain": [
              "0.8996865203761756"
            ]
          },
          "metadata": {},
          "execution_count": 60
        }
      ],
      "source": [
        "score_knn=accuracy_score(y_pred_knn,y_test)\n",
        "score_knn"
      ]
    },
    {
      "cell_type": "code",
      "execution_count": 61,
      "metadata": {
        "colab": {
          "base_uri": "https://localhost:8080/"
        },
        "id": "kB30wrmo9q9q",
        "outputId": "51be260a-225a-4aaa-c712-98f9e4b10d26"
      },
      "outputs": [
        {
          "output_type": "stream",
          "name": "stdout",
          "text": [
            "              precision    recall  f1-score   support\n",
            "\n",
            "         1.0       0.93      0.96      0.95       496\n",
            "         2.0       0.76      0.65      0.70       101\n",
            "         3.0       0.83      0.73      0.78        41\n",
            "\n",
            "    accuracy                           0.90       638\n",
            "   macro avg       0.84      0.78      0.81       638\n",
            "weighted avg       0.90      0.90      0.90       638\n",
            "\n"
          ]
        }
      ],
      "source": [
        "report=classification_report(y_test,y_pred_knn)\n",
        "print(report)"
      ]
    },
    {
      "cell_type": "markdown",
      "metadata": {
        "id": "8FCAXzSE9-sg"
      },
      "source": [
        "**2.NAIVE_BAYES**"
      ]
    },
    {
      "cell_type": "code",
      "execution_count": 62,
      "metadata": {
        "id": "jfJQS-aQ-Ddp"
      },
      "outputs": [],
      "source": [
        "# ML ALGORITHM\n",
        "from sklearn.naive_bayes import GaussianNB\n",
        "model_nb=GaussianNB()\n",
        "model_nb.fit(x_train,y_train)\n",
        "y_pred_nb=model_nb.predict(x_test)"
      ]
    },
    {
      "cell_type": "code",
      "execution_count": 63,
      "metadata": {
        "colab": {
          "base_uri": "https://localhost:8080/"
        },
        "id": "ehb8l4DN-GYQ",
        "outputId": "4467cccd-fb91-4b3e-c56a-05cbc5f35809"
      },
      "outputs": [
        {
          "output_type": "execute_result",
          "data": {
            "text/plain": [
              "array([[325,   3,   0],\n",
              "       [146,  95,  16],\n",
              "       [ 25,   3,  25]])"
            ]
          },
          "metadata": {},
          "execution_count": 63
        }
      ],
      "source": [
        "# PERFORMANCE EVALUATION\n",
        "mat_nb=confusion_matrix(y_pred_nb,y_test)\n",
        "mat_nb"
      ]
    },
    {
      "cell_type": "code",
      "execution_count": 64,
      "metadata": {
        "colab": {
          "base_uri": "https://localhost:8080/",
          "height": 296
        },
        "id": "ev2BeAFh-GbJ",
        "outputId": "c012a8b8-33d8-4efc-f14f-092ee7587cfc"
      },
      "outputs": [
        {
          "output_type": "execute_result",
          "data": {
            "text/plain": [
              "<sklearn.metrics._plot.confusion_matrix.ConfusionMatrixDisplay at 0x7f474d58e310>"
            ]
          },
          "metadata": {},
          "execution_count": 64
        },
        {
          "output_type": "display_data",
          "data": {
            "text/plain": [
              "<Figure size 432x288 with 2 Axes>"
            ],
            "image/png": "[encoded data removed]"
          },
          "metadata": {
            "needs_background": "light"
          }
        }
      ],
      "source": [
        "cmd_nb=ConfusionMatrixDisplay(mat_nb,display_labels=label)\n",
        "cmd_nb.plot()"
      ]
    },
    {
      "cell_type": "code",
      "execution_count": 65,
      "metadata": {
        "colab": {
          "base_uri": "https://localhost:8080/"
        },
        "id": "6XFMimTZ-GeX",
        "outputId": "f4d25455-17d9-4059-dd1a-a38eb1cb7494"
      },
      "outputs": [
        {
          "output_type": "execute_result",
          "data": {
            "text/plain": [
              "0.6974921630094044"
            ]
          },
          "metadata": {},
          "execution_count": 65
        }
      ],
      "source": [
        "score_nb=accuracy_score(y_pred_nb,y_test)\n",
        "score_nb"
      ]
    },
    {
      "cell_type": "code",
      "execution_count": 66,
      "metadata": {
        "colab": {
          "base_uri": "https://localhost:8080/"
        },
        "id": "UbNdAImK-Ghf",
        "outputId": "98570c32-1dfb-46c8-895f-c3f25df03a32"
      },
      "outputs": [
        {
          "output_type": "stream",
          "name": "stdout",
          "text": [
            "              precision    recall  f1-score   support\n",
            "\n",
            "         1.0       0.99      0.66      0.79       496\n",
            "         2.0       0.37      0.94      0.53       101\n",
            "         3.0       0.47      0.61      0.53        41\n",
            "\n",
            "    accuracy                           0.70       638\n",
            "   macro avg       0.61      0.74      0.62       638\n",
            "weighted avg       0.86      0.70      0.73       638\n",
            "\n"
          ]
        }
      ],
      "source": [
        "report_nb=classification_report(y_test,y_pred_nb)\n",
        "print(report_nb)"
      ]
    },
    {
      "cell_type": "markdown",
      "metadata": {
        "id": "mKt5YS6R_QXl"
      },
      "source": [
        "**3.SVM**"
      ]
    },
    {
      "cell_type": "code",
      "execution_count": 67,
      "metadata": {
        "id": "2S2G8-Ju-GkK"
      },
      "outputs": [],
      "source": [
        "# ML ALGORITHM\n",
        "from sklearn.svm import SVC\n",
        "model_svm=SVC()\n",
        "model_svm.fit(x_train,y_train)\n",
        "y_pred_svm=model_svm.predict(x_test)"
      ]
    },
    {
      "cell_type": "code",
      "execution_count": 68,
      "metadata": {
        "colab": {
          "base_uri": "https://localhost:8080/"
        },
        "id": "AL5l2g2-_vFj",
        "outputId": "5929c078-d823-4004-a1b9-f72cdd64a7d9"
      },
      "outputs": [
        {
          "output_type": "execute_result",
          "data": {
            "text/plain": [
              "array([[479,  23,   4],\n",
              "       [ 15,  75,   5],\n",
              "       [  2,   3,  32]])"
            ]
          },
          "metadata": {},
          "execution_count": 68
        }
      ],
      "source": [
        "# PERFORMANCE EVALUATION\n",
        "mat_svm=confusion_matrix(y_pred_svm,y_test)\n",
        "mat_svm"
      ]
    },
    {
      "cell_type": "code",
      "execution_count": 69,
      "metadata": {
        "colab": {
          "base_uri": "https://localhost:8080/",
          "height": 296
        },
        "id": "TlF3A1t4_vIR",
        "outputId": "0e446db9-06dd-4278-a07c-6030b25dc3e6"
      },
      "outputs": [
        {
          "output_type": "execute_result",
          "data": {
            "text/plain": [
              "<sklearn.metrics._plot.confusion_matrix.ConfusionMatrixDisplay at 0x7f474d58ed90>"
            ]
          },
          "metadata": {},
          "execution_count": 69
        },
        {
          "output_type": "display_data",
          "data": {
            "text/plain": [
              "<Figure size 432x288 with 2 Axes>"
            ],
            "image/png": "[encoded data removed]"
          },
          "metadata": {
            "needs_background": "light"
          }
        }
      ],
      "source": [
        "cmd_svm=ConfusionMatrixDisplay(mat_svm,display_labels=label)\n",
        "cmd_svm.plot()"
      ]
    },
    {
      "cell_type": "code",
      "execution_count": 70,
      "metadata": {
        "colab": {
          "base_uri": "https://localhost:8080/"
        },
        "id": "TmpY6Uef_vLJ",
        "outputId": "7c1c6218-aa1a-4ade-c9e1-09dec8f75efb"
      },
      "outputs": [
        {
          "output_type": "execute_result",
          "data": {
            "text/plain": [
              "0.9184952978056427"
            ]
          },
          "metadata": {},
          "execution_count": 70
        }
      ],
      "source": [
        "score_svm=accuracy_score(y_pred_svm,y_test)\n",
        "score_svm"
      ]
    },
    {
      "cell_type": "code",
      "execution_count": 71,
      "metadata": {
        "colab": {
          "base_uri": "https://localhost:8080/"
        },
        "id": "Sh_1JpkH_vOA",
        "outputId": "186617c9-4eb1-4e1f-e8bf-1e4f619e0bd6"
      },
      "outputs": [
        {
          "output_type": "stream",
          "name": "stdout",
          "text": [
            "              precision    recall  f1-score   support\n",
            "\n",
            "         1.0       0.95      0.97      0.96       496\n",
            "         2.0       0.79      0.74      0.77       101\n",
            "         3.0       0.86      0.78      0.82        41\n",
            "\n",
            "    accuracy                           0.92       638\n",
            "   macro avg       0.87      0.83      0.85       638\n",
            "weighted avg       0.92      0.92      0.92       638\n",
            "\n"
          ]
        }
      ],
      "source": [
        "report_svm=classification_report(y_test,y_pred_svm)\n",
        "print(report_svm)"
      ]
    },
    {
      "cell_type": "markdown",
      "metadata": {
        "id": "3F1q7ucGAY7I"
      },
      "source": [
        "**4.DECISION TREE**"
      ]
    },
    {
      "cell_type": "code",
      "execution_count": 72,
      "metadata": {
        "id": "Nl6Fs0tE_vQ_"
      },
      "outputs": [],
      "source": [
        "# ML ALGORITHM\n",
        "from sklearn.tree import DecisionTreeClassifier\n",
        "model_tree=DecisionTreeClassifier(criterion='entropy')\n",
        "model_tree.fit(x_train,y_train)\n",
        "y_pred_tree=model_tree.predict(x_test)"
      ]
    },
    {
      "cell_type": "code",
      "execution_count": 75,
      "metadata": {
        "colab": {
          "base_uri": "https://localhost:8080/",
          "height": 1000
        },
        "id": "Xq6KQPTUD872",
        "outputId": "6800a2ec-dc8d-4b9c-9e12-8737b76add66"
      },
      "outputs": [
        {
          "output_type": "execute_result",
          "data": {
            "text/plain": [
              "<graphviz.files.Source at 0x7f474d54cbe0>"
            ],
            "image/svg+xml": "<?xml version=\"1.0\" encoding=\"UTF-8\" standalone=\"no\"?>\n<!DOCTYPE svg PUBLIC \"-//W3C//DTD SVG 1.1//EN\"\n \"http://www.w3.org/Graphics/SVG/1.1/DTD/svg11.dtd\">\n<!-- Generated by graphviz version 2.43.0 (0)\n -->\n<!-- Title: Tree Pages: 1 -->\n<svg width=\"5511pt\" height=\"1742pt\"\n viewBox=\"0.00 0.00 5511.00 1742.00\" xmlns=\"http://www.w3.org/2000/svg\" xmlns:xlink=\"http://www.w3.org/1999/xlink\">\n<g id=\"graph0\" class=\"graph\" transform=\"scale(1 1) rotate(0) translate(4 1738)\">\n<title>Tree</title>\n<polygon fill=\"white\" stroke=\"transparent\" points=\"-4,4 -4,-1738 5507,-1738 5507,4 -4,4\"/>\n<!-- 0 -->\n<g id=\"node1\" class=\"node\">\n<title>0</title>\n<polygon fill=\"#eca16b\" stroke=\"black\" points=\"2491.5,-1734 2231.5,-1734 2231.5,-1651 2491.5,-1651 2491.5,-1734\"/>\n<text text-anchor=\"middle\" x=\"2361.5\" y=\"-1718.8\" font-family=\"Helvetica,sans-Serif\" font-size=\"14.00\">abnormal_short_term_variability &lt;= 0.75</text>\n<text text-anchor=\"middle\" x=\"2361.5\" y=\"-1703.8\" font-family=\"Helvetica,sans-Serif\" font-size=\"14.00\">entropy = 0.978</text>\n<text text-anchor=\"middle\" x=\"2361.5\" y=\"-1688.8\" font-family=\"Helvetica,sans-Serif\" font-size=\"14.00\">samples = 1488</text>\n<text text-anchor=\"middle\" x=\"2361.5\" y=\"-1673.8\" font-family=\"Helvetica,sans-Serif\" font-size=\"14.00\">value = [1159, 194, 135]</text>\n<text text-anchor=\"middle\" x=\"2361.5\" y=\"-1658.8\" font-family=\"Helvetica,sans-Serif\" font-size=\"14.00\">class = 1</text>\n</g>\n<!-- 1 -->\n<g id=\"node2\" class=\"node\">\n<title>1</title>\n<polygon fill=\"#e78b48\" stroke=\"black\" points=\"1736,-1615 1563,-1615 1563,-1532 1736,-1532 1736,-1615\"/>\n<text text-anchor=\"middle\" x=\"1649.5\" y=\"-1599.8\" font-family=\"Helvetica,sans-Serif\" font-size=\"14.00\">histogram_mean &lt;= &#45;1.57</text>\n<text text-anchor=\"middle\" x=\"1649.5\" y=\"-1584.8\" font-family=\"Helvetica,sans-Serif\" font-size=\"14.00\">entropy = 0.444</text>\n<text text-anchor=\"middle\" x=\"1649.5\" y=\"-1569.8\" font-family=\"Helvetica,sans-Serif\" font-size=\"14.00\">samples = 1059</text>\n<text text-anchor=\"middle\" x=\"1649.5\" y=\"-1554.8\" font-family=\"Helvetica,sans-Serif\" font-size=\"14.00\">value = [981, 55, 23]</text>\n<text text-anchor=\"middle\" x=\"1649.5\" y=\"-1539.8\" font-family=\"Helvetica,sans-Serif\" font-size=\"14.00\">class = 1</text>\n</g>\n<!-- 0&#45;&gt;1 -->\n<g id=\"edge1\" class=\"edge\">\n<title>0&#45;&gt;1</title>\n<path fill=\"none\" stroke=\"black\" d=\"M2231.32,-1670.11C2091.26,-1647.09 1871.76,-1611.02 1746.23,-1590.39\"/>\n<polygon fill=\"black\" stroke=\"black\" points=\"1746.67,-1586.92 1736.24,-1588.75 1745.54,-1593.83 1746.67,-1586.92\"/>\n<text text-anchor=\"middle\" x=\"1750.82\" y=\"-1605.36\" font-family=\"Helvetica,sans-Serif\" font-size=\"14.00\">True</text>\n</g>\n<!-- 86 -->\n<g id=\"node87\" class=\"node\">\n<title>86</title>\n<polygon fill=\"#fceee4\" stroke=\"black\" points=\"3276,-1615 2849,-1615 2849,-1532 3276,-1532 3276,-1615\"/>\n<text text-anchor=\"middle\" x=\"3062.5\" y=\"-1599.8\" font-family=\"Helvetica,sans-Serif\" font-size=\"14.00\">percentage_of_time_with_abnormal_long_term_variability &lt;= &#45;0.159</text>\n<text text-anchor=\"middle\" x=\"3062.5\" y=\"-1584.8\" font-family=\"Helvetica,sans-Serif\" font-size=\"14.00\">entropy = 1.559</text>\n<text text-anchor=\"middle\" x=\"3062.5\" y=\"-1569.8\" font-family=\"Helvetica,sans-Serif\" font-size=\"14.00\">samples = 429</text>\n<text text-anchor=\"middle\" x=\"3062.5\" y=\"-1554.8\" font-family=\"Helvetica,sans-Serif\" font-size=\"14.00\">value = [178, 139, 112]</text>\n<text text-anchor=\"middle\" x=\"3062.5\" y=\"-1539.8\" font-family=\"Helvetica,sans-Serif\" font-size=\"14.00\">class = 1</text>\n</g>\n<!-- 0&#45;&gt;86 -->\n<g id=\"edge86\" class=\"edge\">\n<title>0&#45;&gt;86</title>\n<path fill=\"none\" stroke=\"black\" d=\"M2491.71,-1669.77C2589.05,-1653.52 2724.5,-1630.91 2839.03,-1611.8\"/>\n<polygon fill=\"black\" stroke=\"black\" points=\"2839.7,-1615.23 2848.99,-1610.14 2838.55,-1608.33 2839.7,-1615.23\"/>\n<text text-anchor=\"middle\" x=\"2834.46\" y=\"-1626.78\" font-family=\"Helvetica,sans-Serif\" font-size=\"14.00\">False</text>\n</g>\n<!-- 2 -->\n<g id=\"node3\" class=\"node\">\n<title>2</title>\n<polygon fill=\"#9c63ea\" stroke=\"black\" points=\"1337,-1496 1168,-1496 1168,-1413 1337,-1413 1337,-1496\"/>\n<text text-anchor=\"middle\" x=\"1252.5\" y=\"-1480.8\" font-family=\"Helvetica,sans-Serif\" font-size=\"14.00\">histogram_min &lt;= &#45;0.773</text>\n<text text-anchor=\"middle\" x=\"1252.5\" y=\"-1465.8\" font-family=\"Helvetica,sans-Serif\" font-size=\"14.00\">entropy = 0.832</text>\n<text text-anchor=\"middle\" x=\"1252.5\" y=\"-1450.8\" font-family=\"Helvetica,sans-Serif\" font-size=\"14.00\">samples = 22</text>\n<text text-anchor=\"middle\" x=\"1252.5\" y=\"-1435.8\" font-family=\"Helvetica,sans-Serif\" font-size=\"14.00\">value = [3, 1, 18]</text>\n<text text-anchor=\"middle\" x=\"1252.5\" y=\"-1420.8\" font-family=\"Helvetica,sans-Serif\" font-size=\"14.00\">class = 3</text>\n</g>\n<!-- 1&#45;&gt;2 -->\n<g id=\"edge2\" class=\"edge\">\n<title>1&#45;&gt;2</title>\n<path fill=\"none\" stroke=\"black\" d=\"M1562.87,-1546.97C1499.17,-1528.2 1412.67,-1502.7 1347.16,-1483.4\"/>\n<polygon fill=\"black\" stroke=\"black\" points=\"1347.83,-1479.94 1337.24,-1480.47 1345.85,-1486.66 1347.83,-1479.94\"/>\n</g>\n<!-- 7 -->\n<g id=\"node8\" class=\"node\">\n<title>7</title>\n<polygon fill=\"#e78945\" stroke=\"black\" points=\"1728.5,-1496 1570.5,-1496 1570.5,-1413 1728.5,-1413 1728.5,-1496\"/>\n<text text-anchor=\"middle\" x=\"1649.5\" y=\"-1480.8\" font-family=\"Helvetica,sans-Serif\" font-size=\"14.00\">accelerations &lt;= &#45;0.194</text>\n<text text-anchor=\"middle\" x=\"1649.5\" y=\"-1465.8\" font-family=\"Helvetica,sans-Serif\" font-size=\"14.00\">entropy = 0.339</text>\n<text text-anchor=\"middle\" x=\"1649.5\" y=\"-1450.8\" font-family=\"Helvetica,sans-Serif\" font-size=\"14.00\">samples = 1037</text>\n<text text-anchor=\"middle\" x=\"1649.5\" y=\"-1435.8\" font-family=\"Helvetica,sans-Serif\" font-size=\"14.00\">value = [978, 54, 5]</text>\n<text text-anchor=\"middle\" x=\"1649.5\" y=\"-1420.8\" font-family=\"Helvetica,sans-Serif\" font-size=\"14.00\">class = 1</text>\n</g>\n<!-- 1&#45;&gt;7 -->\n<g id=\"edge7\" class=\"edge\">\n<title>1&#45;&gt;7</title>\n<path fill=\"none\" stroke=\"black\" d=\"M1649.5,-1531.91C1649.5,-1523.65 1649.5,-1514.86 1649.5,-1506.3\"/>\n<polygon fill=\"black\" stroke=\"black\" points=\"1653,-1506.02 1649.5,-1496.02 1646,-1506.02 1653,-1506.02\"/>\n</g>\n<!-- 3 -->\n<g id=\"node4\" class=\"node\">\n<title>3</title>\n<polygon fill=\"#8844e6\" stroke=\"black\" points=\"1138.5,-1377 866.5,-1377 866.5,-1294 1138.5,-1294 1138.5,-1377\"/>\n<text text-anchor=\"middle\" x=\"1002.5\" y=\"-1361.8\" font-family=\"Helvetica,sans-Serif\" font-size=\"14.00\">abnormal_short_term_variability &lt;= &#45;1.274</text>\n<text text-anchor=\"middle\" x=\"1002.5\" y=\"-1346.8\" font-family=\"Helvetica,sans-Serif\" font-size=\"14.00\">entropy = 0.297</text>\n<text text-anchor=\"middle\" x=\"1002.5\" y=\"-1331.8\" font-family=\"Helvetica,sans-Serif\" font-size=\"14.00\">samples = 19</text>\n<text text-anchor=\"middle\" x=\"1002.5\" y=\"-1316.8\" font-family=\"Helvetica,sans-Serif\" font-size=\"14.00\">value = [0, 1, 18]</text>\n<text text-anchor=\"middle\" x=\"1002.5\" y=\"-1301.8\" font-family=\"Helvetica,sans-Serif\" font-size=\"14.00\">class = 3</text>\n</g>\n<!-- 2&#45;&gt;3 -->\n<g id=\"edge3\" class=\"edge\">\n<title>2&#45;&gt;3</title>\n<path fill=\"none\" stroke=\"black\" d=\"M1167.86,-1413.89C1145.58,-1403.46 1121.37,-1392.13 1098.53,-1381.44\"/>\n<polygon fill=\"black\" stroke=\"black\" points=\"1099.72,-1378.14 1089.18,-1377.07 1096.76,-1384.48 1099.72,-1378.14\"/>\n</g>\n<!-- 6 -->\n<g id=\"node7\" class=\"node\">\n<title>6</title>\n<polygon fill=\"#e58139\" stroke=\"black\" points=\"1307.5,-1369.5 1197.5,-1369.5 1197.5,-1301.5 1307.5,-1301.5 1307.5,-1369.5\"/>\n<text text-anchor=\"middle\" x=\"1252.5\" y=\"-1354.3\" font-family=\"Helvetica,sans-Serif\" font-size=\"14.00\">entropy = 0.0</text>\n<text text-anchor=\"middle\" x=\"1252.5\" y=\"-1339.3\" font-family=\"Helvetica,sans-Serif\" font-size=\"14.00\">samples = 3</text>\n<text text-anchor=\"middle\" x=\"1252.5\" y=\"-1324.3\" font-family=\"Helvetica,sans-Serif\" font-size=\"14.00\">value = [3, 0, 0]</text>\n<text text-anchor=\"middle\" x=\"1252.5\" y=\"-1309.3\" font-family=\"Helvetica,sans-Serif\" font-size=\"14.00\">class = 1</text>\n</g>\n<!-- 2&#45;&gt;6 -->\n<g id=\"edge6\" class=\"edge\">\n<title>2&#45;&gt;6</title>\n<path fill=\"none\" stroke=\"black\" d=\"M1252.5,-1412.91C1252.5,-1402.2 1252.5,-1390.62 1252.5,-1379.78\"/>\n<polygon fill=\"black\" stroke=\"black\" points=\"1256,-1379.67 1252.5,-1369.67 1249,-1379.67 1256,-1379.67\"/>\n</g>\n<!-- 4 -->\n<g id=\"node5\" class=\"node\">\n<title>4</title>\n<polygon fill=\"#39e581\" stroke=\"black\" points=\"925.5,-1250.5 815.5,-1250.5 815.5,-1182.5 925.5,-1182.5 925.5,-1250.5\"/>\n<text text-anchor=\"middle\" x=\"870.5\" y=\"-1235.3\" font-family=\"Helvetica,sans-Serif\" font-size=\"14.00\">entropy = 0.0</text>\n<text text-anchor=\"middle\" x=\"870.5\" y=\"-1220.3\" font-family=\"Helvetica,sans-Serif\" font-size=\"14.00\">samples = 1</text>\n<text text-anchor=\"middle\" x=\"870.5\" y=\"-1205.3\" font-family=\"Helvetica,sans-Serif\" font-size=\"14.00\">value = [0, 1, 0]</text>\n<text text-anchor=\"middle\" x=\"870.5\" y=\"-1190.3\" font-family=\"Helvetica,sans-Serif\" font-size=\"14.00\">class = 2</text>\n</g>\n<!-- 3&#45;&gt;4 -->\n<g id=\"edge4\" class=\"edge\">\n<title>3&#45;&gt;4</title>\n<path fill=\"none\" stroke=\"black\" d=\"M956.7,-1293.91C943.38,-1282.1 928.85,-1269.22 915.57,-1257.45\"/>\n<polygon fill=\"black\" stroke=\"black\" points=\"917.72,-1254.68 907.92,-1250.67 913.08,-1259.92 917.72,-1254.68\"/>\n</g>\n<!-- 5 -->\n<g id=\"node6\" class=\"node\">\n<title>5</title>\n<polygon fill=\"#8139e5\" stroke=\"black\" points=\"1061,-1250.5 944,-1250.5 944,-1182.5 1061,-1182.5 1061,-1250.5\"/>\n<text text-anchor=\"middle\" x=\"1002.5\" y=\"-1235.3\" font-family=\"Helvetica,sans-Serif\" font-size=\"14.00\">entropy = 0.0</text>\n<text text-anchor=\"middle\" x=\"1002.5\" y=\"-1220.3\" font-family=\"Helvetica,sans-Serif\" font-size=\"14.00\">samples = 18</text>\n<text text-anchor=\"middle\" x=\"1002.5\" y=\"-1205.3\" font-family=\"Helvetica,sans-Serif\" font-size=\"14.00\">value = [0, 0, 18]</text>\n<text text-anchor=\"middle\" x=\"1002.5\" y=\"-1190.3\" font-family=\"Helvetica,sans-Serif\" font-size=\"14.00\">class = 3</text>\n</g>\n<!-- 3&#45;&gt;5 -->\n<g id=\"edge5\" class=\"edge\">\n<title>3&#45;&gt;5</title>\n<path fill=\"none\" stroke=\"black\" d=\"M1002.5,-1293.91C1002.5,-1283.2 1002.5,-1271.62 1002.5,-1260.78\"/>\n<polygon fill=\"black\" stroke=\"black\" points=\"1006,-1260.67 1002.5,-1250.67 999,-1260.67 1006,-1260.67\"/>\n</g>\n<!-- 8 -->\n<g id=\"node9\" class=\"node\">\n<title>8</title>\n<polygon fill=\"#e99254\" stroke=\"black\" points=\"1594,-1377 1407,-1377 1407,-1294 1594,-1294 1594,-1377\"/>\n<text text-anchor=\"middle\" x=\"1500.5\" y=\"-1361.8\" font-family=\"Helvetica,sans-Serif\" font-size=\"14.00\">histogram_median &lt;= 0.859</text>\n<text text-anchor=\"middle\" x=\"1500.5\" y=\"-1346.8\" font-family=\"Helvetica,sans-Serif\" font-size=\"14.00\">entropy = 0.585</text>\n<text text-anchor=\"middle\" x=\"1500.5\" y=\"-1331.8\" font-family=\"Helvetica,sans-Serif\" font-size=\"14.00\">samples = 455</text>\n<text text-anchor=\"middle\" x=\"1500.5\" y=\"-1316.8\" font-family=\"Helvetica,sans-Serif\" font-size=\"14.00\">value = [400, 50, 5]</text>\n<text text-anchor=\"middle\" x=\"1500.5\" y=\"-1301.8\" font-family=\"Helvetica,sans-Serif\" font-size=\"14.00\">class = 1</text>\n</g>\n<!-- 7&#45;&gt;8 -->\n<g id=\"edge8\" class=\"edge\">\n<title>7&#45;&gt;8</title>\n<path fill=\"none\" stroke=\"black\" d=\"M1597.81,-1412.91C1585.67,-1403.38 1572.64,-1393.15 1560.19,-1383.37\"/>\n<polygon fill=\"black\" stroke=\"black\" points=\"1562.13,-1380.44 1552.1,-1377.02 1557.81,-1385.95 1562.13,-1380.44\"/>\n</g>\n<!-- 75 -->\n<g id=\"node76\" class=\"node\">\n<title>75</title>\n<polygon fill=\"#e5823a\" stroke=\"black\" points=\"2054.5,-1377 1876.5,-1377 1876.5,-1294 2054.5,-1294 2054.5,-1377\"/>\n<text text-anchor=\"middle\" x=\"1965.5\" y=\"-1361.8\" font-family=\"Helvetica,sans-Serif\" font-size=\"14.00\">histogram_width &lt;= &#45;1.135</text>\n<text text-anchor=\"middle\" x=\"1965.5\" y=\"-1346.8\" font-family=\"Helvetica,sans-Serif\" font-size=\"14.00\">entropy = 0.059</text>\n<text text-anchor=\"middle\" x=\"1965.5\" y=\"-1331.8\" font-family=\"Helvetica,sans-Serif\" font-size=\"14.00\">samples = 582</text>\n<text text-anchor=\"middle\" x=\"1965.5\" y=\"-1316.8\" font-family=\"Helvetica,sans-Serif\" font-size=\"14.00\">value = [578, 4, 0]</text>\n<text text-anchor=\"middle\" x=\"1965.5\" y=\"-1301.8\" font-family=\"Helvetica,sans-Serif\" font-size=\"14.00\">class = 1</text>\n</g>\n<!-- 7&#45;&gt;75 -->\n<g id=\"edge75\" class=\"edge\">\n<title>7&#45;&gt;75</title>\n<path fill=\"none\" stroke=\"black\" d=\"M1728.83,-1424.13C1770.65,-1408.64 1822.33,-1389.51 1866.72,-1373.07\"/>\n<polygon fill=\"black\" stroke=\"black\" points=\"1868.21,-1376.26 1876.37,-1369.5 1865.78,-1369.69 1868.21,-1376.26\"/>\n</g>\n<!-- 9 -->\n<g id=\"node10\" class=\"node\">\n<title>9</title>\n<polygon fill=\"#e68843\" stroke=\"black\" points=\"1251.5,-1258 1079.5,-1258 1079.5,-1175 1251.5,-1175 1251.5,-1258\"/>\n<text text-anchor=\"middle\" x=\"1165.5\" y=\"-1242.8\" font-family=\"Helvetica,sans-Serif\" font-size=\"14.00\">fetal_movement &lt;= 2.255</text>\n<text text-anchor=\"middle\" x=\"1165.5\" y=\"-1227.8\" font-family=\"Helvetica,sans-Serif\" font-size=\"14.00\">entropy = 0.327</text>\n<text text-anchor=\"middle\" x=\"1165.5\" y=\"-1212.8\" font-family=\"Helvetica,sans-Serif\" font-size=\"14.00\">samples = 375</text>\n<text text-anchor=\"middle\" x=\"1165.5\" y=\"-1197.8\" font-family=\"Helvetica,sans-Serif\" font-size=\"14.00\">value = [356, 15, 4]</text>\n<text text-anchor=\"middle\" x=\"1165.5\" y=\"-1182.8\" font-family=\"Helvetica,sans-Serif\" font-size=\"14.00\">class = 1</text>\n</g>\n<!-- 8&#45;&gt;9 -->\n<g id=\"edge9\" class=\"edge\">\n<title>8&#45;&gt;9</title>\n<path fill=\"none\" stroke=\"black\" d=\"M1406.74,-1301.75C1361.38,-1285.91 1307.01,-1266.92 1261.38,-1250.98\"/>\n<polygon fill=\"black\" stroke=\"black\" points=\"1262.37,-1247.63 1251.78,-1247.63 1260.06,-1254.23 1262.37,-1247.63\"/>\n</g>\n<!-- 40 -->\n<g id=\"node41\" class=\"node\">\n<title>40</title>\n<polygon fill=\"#fae6d7\" stroke=\"black\" points=\"1581,-1258 1420,-1258 1420,-1175 1581,-1175 1581,-1258\"/>\n<text text-anchor=\"middle\" x=\"1500.5\" y=\"-1242.8\" font-family=\"Helvetica,sans-Serif\" font-size=\"14.00\">baseline value &lt;= 1.251</text>\n<text text-anchor=\"middle\" x=\"1500.5\" y=\"-1227.8\" font-family=\"Helvetica,sans-Serif\" font-size=\"14.00\">entropy = 1.075</text>\n<text text-anchor=\"middle\" x=\"1500.5\" y=\"-1212.8\" font-family=\"Helvetica,sans-Serif\" font-size=\"14.00\">samples = 80</text>\n<text text-anchor=\"middle\" x=\"1500.5\" y=\"-1197.8\" font-family=\"Helvetica,sans-Serif\" font-size=\"14.00\">value = [44, 35, 1]</text>\n<text text-anchor=\"middle\" x=\"1500.5\" y=\"-1182.8\" font-family=\"Helvetica,sans-Serif\" font-size=\"14.00\">class = 1</text>\n</g>\n<!-- 8&#45;&gt;40 -->\n<g id=\"edge40\" class=\"edge\">\n<title>8&#45;&gt;40</title>\n<path fill=\"none\" stroke=\"black\" d=\"M1500.5,-1293.91C1500.5,-1285.65 1500.5,-1276.86 1500.5,-1268.3\"/>\n<polygon fill=\"black\" stroke=\"black\" points=\"1504,-1268.02 1500.5,-1258.02 1497,-1268.02 1504,-1268.02\"/>\n</g>\n<!-- 10 -->\n<g id=\"node11\" class=\"node\">\n<title>10</title>\n<polygon fill=\"#e68641\" stroke=\"black\" points=\"846,-1139 655,-1139 655,-1056 846,-1056 846,-1139\"/>\n<text text-anchor=\"middle\" x=\"750.5\" y=\"-1123.8\" font-family=\"Helvetica,sans-Serif\" font-size=\"14.00\">histogram_median &lt;= &#45;0.161</text>\n<text text-anchor=\"middle\" x=\"750.5\" y=\"-1108.8\" font-family=\"Helvetica,sans-Serif\" font-size=\"14.00\">entropy = 0.255</text>\n<text text-anchor=\"middle\" x=\"750.5\" y=\"-1093.8\" font-family=\"Helvetica,sans-Serif\" font-size=\"14.00\">samples = 370</text>\n<text text-anchor=\"middle\" x=\"750.5\" y=\"-1078.8\" font-family=\"Helvetica,sans-Serif\" font-size=\"14.00\">value = [356, 12, 2]</text>\n<text text-anchor=\"middle\" x=\"750.5\" y=\"-1063.8\" font-family=\"Helvetica,sans-Serif\" font-size=\"14.00\">class = 1</text>\n</g>\n<!-- 9&#45;&gt;10 -->\n<g id=\"edge10\" class=\"edge\">\n<title>9&#45;&gt;10</title>\n<path fill=\"none\" stroke=\"black\" d=\"M1079.4,-1178.39C1076.07,-1177.21 1072.77,-1176.07 1069.5,-1175 999.52,-1152.02 918.83,-1132.73 856.11,-1119.27\"/>\n<polygon fill=\"black\" stroke=\"black\" points=\"856.72,-1115.82 846.21,-1117.16 855.26,-1122.67 856.72,-1115.82\"/>\n</g>\n<!-- 37 -->\n<g id=\"node38\" class=\"node\">\n<title>37</title>\n<polygon fill=\"#bdf6d5\" stroke=\"black\" points=\"1218,-1139 1031,-1139 1031,-1056 1218,-1056 1218,-1139\"/>\n<text text-anchor=\"middle\" x=\"1124.5\" y=\"-1123.8\" font-family=\"Helvetica,sans-Serif\" font-size=\"14.00\">light_decelerations &lt;= 0.721</text>\n<text text-anchor=\"middle\" x=\"1124.5\" y=\"-1108.8\" font-family=\"Helvetica,sans-Serif\" font-size=\"14.00\">entropy = 0.971</text>\n<text text-anchor=\"middle\" x=\"1124.5\" y=\"-1093.8\" font-family=\"Helvetica,sans-Serif\" font-size=\"14.00\">samples = 5</text>\n<text text-anchor=\"middle\" x=\"1124.5\" y=\"-1078.8\" font-family=\"Helvetica,sans-Serif\" font-size=\"14.00\">value = [0, 3, 2]</text>\n<text text-anchor=\"middle\" x=\"1124.5\" y=\"-1063.8\" font-family=\"Helvetica,sans-Serif\" font-size=\"14.00\">class = 2</text>\n</g>\n<!-- 9&#45;&gt;37 -->\n<g id=\"edge37\" class=\"edge\">\n<title>9&#45;&gt;37</title>\n<path fill=\"none\" stroke=\"black\" d=\"M1151.28,-1174.91C1148.32,-1166.47 1145.17,-1157.48 1142.1,-1148.74\"/>\n<polygon fill=\"black\" stroke=\"black\" points=\"1145.31,-1147.3 1138.7,-1139.02 1138.7,-1149.62 1145.31,-1147.3\"/>\n</g>\n<!-- 11 -->\n<g id=\"node12\" class=\"node\">\n<title>11</title>\n<polygon fill=\"#e5823b\" stroke=\"black\" points=\"591,-1020 410,-1020 410,-937 591,-937 591,-1020\"/>\n<text text-anchor=\"middle\" x=\"500.5\" y=\"-1004.8\" font-family=\"Helvetica,sans-Serif\" font-size=\"14.00\">histogram_mode &lt;= &#45;2.042</text>\n<text text-anchor=\"middle\" x=\"500.5\" y=\"-989.8\" font-family=\"Helvetica,sans-Serif\" font-size=\"14.00\">entropy = 0.081</text>\n<text text-anchor=\"middle\" x=\"500.5\" y=\"-974.8\" font-family=\"Helvetica,sans-Serif\" font-size=\"14.00\">samples = 198</text>\n<text text-anchor=\"middle\" x=\"500.5\" y=\"-959.8\" font-family=\"Helvetica,sans-Serif\" font-size=\"14.00\">value = [196, 0, 2]</text>\n<text text-anchor=\"middle\" x=\"500.5\" y=\"-944.8\" font-family=\"Helvetica,sans-Serif\" font-size=\"14.00\">class = 1</text>\n</g>\n<!-- 10&#45;&gt;11 -->\n<g id=\"edge11\" class=\"edge\">\n<title>10&#45;&gt;11</title>\n<path fill=\"none\" stroke=\"black\" d=\"M663.76,-1055.91C641.95,-1045.7 618.41,-1034.68 596.19,-1024.28\"/>\n<polygon fill=\"black\" stroke=\"black\" points=\"597.62,-1021.09 587.08,-1020.02 594.66,-1027.43 597.62,-1021.09\"/>\n</g>\n<!-- 16 -->\n<g id=\"node17\" class=\"node\">\n<title>16</title>\n<polygon fill=\"#e78a48\" stroke=\"black\" points=\"865.5,-1020 635.5,-1020 635.5,-937 865.5,-937 865.5,-1020\"/>\n<text text-anchor=\"middle\" x=\"750.5\" y=\"-1004.8\" font-family=\"Helvetica,sans-Serif\" font-size=\"14.00\">prolongued_decelerations &lt;= 0.533</text>\n<text text-anchor=\"middle\" x=\"750.5\" y=\"-989.8\" font-family=\"Helvetica,sans-Serif\" font-size=\"14.00\">entropy = 0.365</text>\n<text text-anchor=\"middle\" x=\"750.5\" y=\"-974.8\" font-family=\"Helvetica,sans-Serif\" font-size=\"14.00\">samples = 172</text>\n<text text-anchor=\"middle\" x=\"750.5\" y=\"-959.8\" font-family=\"Helvetica,sans-Serif\" font-size=\"14.00\">value = [160, 12, 0]</text>\n<text text-anchor=\"middle\" x=\"750.5\" y=\"-944.8\" font-family=\"Helvetica,sans-Serif\" font-size=\"14.00\">class = 1</text>\n</g>\n<!-- 10&#45;&gt;16 -->\n<g id=\"edge16\" class=\"edge\">\n<title>10&#45;&gt;16</title>\n<path fill=\"none\" stroke=\"black\" d=\"M750.5,-1055.91C750.5,-1047.65 750.5,-1038.86 750.5,-1030.3\"/>\n<polygon fill=\"black\" stroke=\"black\" points=\"754,-1030.02 750.5,-1020.02 747,-1030.02 754,-1030.02\"/>\n</g>\n<!-- 12 -->\n<g id=\"node13\" class=\"node\">\n<title>12</title>\n<polygon fill=\"#c09cf2\" stroke=\"black\" points=\"419.5,-901 253.5,-901 253.5,-818 419.5,-818 419.5,-901\"/>\n<text text-anchor=\"middle\" x=\"336.5\" y=\"-885.8\" font-family=\"Helvetica,sans-Serif\" font-size=\"14.00\">histogram_width &lt;= 0.67</text>\n<text text-anchor=\"middle\" x=\"336.5\" y=\"-870.8\" font-family=\"Helvetica,sans-Serif\" font-size=\"14.00\">entropy = 0.918</text>\n<text text-anchor=\"middle\" x=\"336.5\" y=\"-855.8\" font-family=\"Helvetica,sans-Serif\" font-size=\"14.00\">samples = 3</text>\n<text text-anchor=\"middle\" x=\"336.5\" y=\"-840.8\" font-family=\"Helvetica,sans-Serif\" font-size=\"14.00\">value = [1, 0, 2]</text>\n<text text-anchor=\"middle\" x=\"336.5\" y=\"-825.8\" font-family=\"Helvetica,sans-Serif\" font-size=\"14.00\">class = 3</text>\n</g>\n<!-- 11&#45;&gt;12 -->\n<g id=\"edge12\" class=\"edge\">\n<title>11&#45;&gt;12</title>\n<path fill=\"none\" stroke=\"black\" d=\"M443.6,-936.91C430.12,-927.29 415.63,-916.95 401.81,-907.09\"/>\n<polygon fill=\"black\" stroke=\"black\" points=\"403.47,-903.98 393.3,-901.02 399.41,-909.68 403.47,-903.98\"/>\n</g>\n<!-- 15 -->\n<g id=\"node16\" class=\"node\">\n<title>15</title>\n<polygon fill=\"#e58139\" stroke=\"black\" points=\"563,-893.5 438,-893.5 438,-825.5 563,-825.5 563,-893.5\"/>\n<text text-anchor=\"middle\" x=\"500.5\" y=\"-878.3\" font-family=\"Helvetica,sans-Serif\" font-size=\"14.00\">entropy = 0.0</text>\n<text text-anchor=\"middle\" x=\"500.5\" y=\"-863.3\" font-family=\"Helvetica,sans-Serif\" font-size=\"14.00\">samples = 195</text>\n<text text-anchor=\"middle\" x=\"500.5\" y=\"-848.3\" font-family=\"Helvetica,sans-Serif\" font-size=\"14.00\">value = [195, 0, 0]</text>\n<text text-anchor=\"middle\" x=\"500.5\" y=\"-833.3\" font-family=\"Helvetica,sans-Serif\" font-size=\"14.00\">class = 1</text>\n</g>\n<!-- 11&#45;&gt;15 -->\n<g id=\"edge15\" class=\"edge\">\n<title>11&#45;&gt;15</title>\n<path fill=\"none\" stroke=\"black\" d=\"M500.5,-936.91C500.5,-926.2 500.5,-914.62 500.5,-903.78\"/>\n<polygon fill=\"black\" stroke=\"black\" points=\"504,-903.67 500.5,-893.67 497,-903.67 504,-903.67\"/>\n</g>\n<!-- 13 -->\n<g id=\"node14\" class=\"node\">\n<title>13</title>\n<polygon fill=\"#8139e5\" stroke=\"black\" points=\"306.5,-774.5 196.5,-774.5 196.5,-706.5 306.5,-706.5 306.5,-774.5\"/>\n<text text-anchor=\"middle\" x=\"251.5\" y=\"-759.3\" font-family=\"Helvetica,sans-Serif\" font-size=\"14.00\">entropy = 0.0</text>\n<text text-anchor=\"middle\" x=\"251.5\" y=\"-744.3\" font-family=\"Helvetica,sans-Serif\" font-size=\"14.00\">samples = 2</text>\n<text text-anchor=\"middle\" x=\"251.5\" y=\"-729.3\" font-family=\"Helvetica,sans-Serif\" font-size=\"14.00\">value = [0, 0, 2]</text>\n<text text-anchor=\"middle\" x=\"251.5\" y=\"-714.3\" font-family=\"Helvetica,sans-Serif\" font-size=\"14.00\">class = 3</text>\n</g>\n<!-- 12&#45;&gt;13 -->\n<g id=\"edge13\" class=\"edge\">\n<title>12&#45;&gt;13</title>\n<path fill=\"none\" stroke=\"black\" d=\"M307.01,-817.91C298.75,-806.54 289.77,-794.18 281.49,-782.77\"/>\n<polygon fill=\"black\" stroke=\"black\" points=\"284.3,-780.7 275.6,-774.67 278.64,-784.81 284.3,-780.7\"/>\n</g>\n<!-- 14 -->\n<g id=\"node15\" class=\"node\">\n<title>14</title>\n<polygon fill=\"#e58139\" stroke=\"black\" points=\"434.5,-774.5 324.5,-774.5 324.5,-706.5 434.5,-706.5 434.5,-774.5\"/>\n<text text-anchor=\"middle\" x=\"379.5\" y=\"-759.3\" font-family=\"Helvetica,sans-Serif\" font-size=\"14.00\">entropy = 0.0</text>\n<text text-anchor=\"middle\" x=\"379.5\" y=\"-744.3\" font-family=\"Helvetica,sans-Serif\" font-size=\"14.00\">samples = 1</text>\n<text text-anchor=\"middle\" x=\"379.5\" y=\"-729.3\" font-family=\"Helvetica,sans-Serif\" font-size=\"14.00\">value = [1, 0, 0]</text>\n<text text-anchor=\"middle\" x=\"379.5\" y=\"-714.3\" font-family=\"Helvetica,sans-Serif\" font-size=\"14.00\">class = 1</text>\n</g>\n<!-- 12&#45;&gt;14 -->\n<g id=\"edge14\" class=\"edge\">\n<title>12&#45;&gt;14</title>\n<path fill=\"none\" stroke=\"black\" d=\"M351.42,-817.91C355.43,-806.98 359.79,-795.14 363.84,-784.11\"/>\n<polygon fill=\"black\" stroke=\"black\" points=\"367.15,-785.26 367.31,-774.67 360.58,-782.85 367.15,-785.26\"/>\n</g>\n<!-- 17 -->\n<g id=\"node18\" class=\"node\">\n<title>17</title>\n<polygon fill=\"#e68844\" stroke=\"black\" points=\"853.5,-901 581.5,-901 581.5,-818 853.5,-818 853.5,-901\"/>\n<text text-anchor=\"middle\" x=\"717.5\" y=\"-885.8\" font-family=\"Helvetica,sans-Serif\" font-size=\"14.00\">abnormal_short_term_variability &lt;= &#45;0.233</text>\n<text text-anchor=\"middle\" x=\"717.5\" y=\"-870.8\" font-family=\"Helvetica,sans-Serif\" font-size=\"14.00\">entropy = 0.3</text>\n<text text-anchor=\"middle\" x=\"717.5\" y=\"-855.8\" font-family=\"Helvetica,sans-Serif\" font-size=\"14.00\">samples = 169</text>\n<text text-anchor=\"middle\" x=\"717.5\" y=\"-840.8\" font-family=\"Helvetica,sans-Serif\" font-size=\"14.00\">value = [160, 9, 0]</text>\n<text text-anchor=\"middle\" x=\"717.5\" y=\"-825.8\" font-family=\"Helvetica,sans-Serif\" font-size=\"14.00\">class = 1</text>\n</g>\n<!-- 16&#45;&gt;17 -->\n<g id=\"edge17\" class=\"edge\">\n<title>16&#45;&gt;17</title>\n<path fill=\"none\" stroke=\"black\" d=\"M739.05,-936.91C736.67,-928.47 734.13,-919.48 731.67,-910.74\"/>\n<polygon fill=\"black\" stroke=\"black\" points=\"735.01,-909.7 728.93,-901.02 728.28,-911.6 735.01,-909.7\"/>\n</g>\n<!-- 36 -->\n<g id=\"node37\" class=\"node\">\n<title>36</title>\n<polygon fill=\"#39e581\" stroke=\"black\" points=\"981.5,-893.5 871.5,-893.5 871.5,-825.5 981.5,-825.5 981.5,-893.5\"/>\n<text text-anchor=\"middle\" x=\"926.5\" y=\"-878.3\" font-family=\"Helvetica,sans-Serif\" font-size=\"14.00\">entropy = 0.0</text>\n<text text-anchor=\"middle\" x=\"926.5\" y=\"-863.3\" font-family=\"Helvetica,sans-Serif\" font-size=\"14.00\">samples = 3</text>\n<text text-anchor=\"middle\" x=\"926.5\" y=\"-848.3\" font-family=\"Helvetica,sans-Serif\" font-size=\"14.00\">value = [0, 3, 0]</text>\n<text text-anchor=\"middle\" x=\"926.5\" y=\"-833.3\" font-family=\"Helvetica,sans-Serif\" font-size=\"14.00\">class = 2</text>\n</g>\n<!-- 16&#45;&gt;36 -->\n<g id=\"edge36\" class=\"edge\">\n<title>16&#45;&gt;36</title>\n<path fill=\"none\" stroke=\"black\" d=\"M811.56,-936.91C829.82,-924.77 849.79,-911.49 867.89,-899.46\"/>\n<polygon fill=\"black\" stroke=\"black\" points=\"870.22,-902.12 876.61,-893.67 866.34,-896.29 870.22,-902.12\"/>\n</g>\n<!-- 18 -->\n<g id=\"node19\" class=\"node\">\n<title>18</title>\n<polygon fill=\"#e58139\" stroke=\"black\" points=\"613,-774.5 496,-774.5 496,-706.5 613,-706.5 613,-774.5\"/>\n<text text-anchor=\"middle\" x=\"554.5\" y=\"-759.3\" font-family=\"Helvetica,sans-Serif\" font-size=\"14.00\">entropy = 0.0</text>\n<text text-anchor=\"middle\" x=\"554.5\" y=\"-744.3\" font-family=\"Helvetica,sans-Serif\" font-size=\"14.00\">samples = 90</text>\n<text text-anchor=\"middle\" x=\"554.5\" y=\"-729.3\" font-family=\"Helvetica,sans-Serif\" font-size=\"14.00\">value = [90, 0, 0]</text>\n<text text-anchor=\"middle\" x=\"554.5\" y=\"-714.3\" font-family=\"Helvetica,sans-Serif\" font-size=\"14.00\">class = 1</text>\n</g>\n<!-- 17&#45;&gt;18 -->\n<g id=\"edge18\" class=\"edge\">\n<title>17&#45;&gt;18</title>\n<path fill=\"none\" stroke=\"black\" d=\"M660.95,-817.91C644.19,-805.88 625.88,-792.73 609.24,-780.79\"/>\n<polygon fill=\"black\" stroke=\"black\" points=\"610.87,-777.65 600.71,-774.67 606.79,-783.34 610.87,-777.65\"/>\n</g>\n<!-- 19 -->\n<g id=\"node20\" class=\"node\">\n<title>19</title>\n<polygon fill=\"#e89152\" stroke=\"black\" points=\"804,-782 631,-782 631,-699 804,-699 804,-782\"/>\n<text text-anchor=\"middle\" x=\"717.5\" y=\"-766.8\" font-family=\"Helvetica,sans-Serif\" font-size=\"14.00\">histogram_width &lt;= 1.482</text>\n<text text-anchor=\"middle\" x=\"717.5\" y=\"-751.8\" font-family=\"Helvetica,sans-Serif\" font-size=\"14.00\">entropy = 0.512</text>\n<text text-anchor=\"middle\" x=\"717.5\" y=\"-736.8\" font-family=\"Helvetica,sans-Serif\" font-size=\"14.00\">samples = 79</text>\n<text text-anchor=\"middle\" x=\"717.5\" y=\"-721.8\" font-family=\"Helvetica,sans-Serif\" font-size=\"14.00\">value = [70, 9, 0]</text>\n<text text-anchor=\"middle\" x=\"717.5\" y=\"-706.8\" font-family=\"Helvetica,sans-Serif\" font-size=\"14.00\">class = 1</text>\n</g>\n<!-- 17&#45;&gt;19 -->\n<g id=\"edge19\" class=\"edge\">\n<title>17&#45;&gt;19</title>\n<path fill=\"none\" stroke=\"black\" d=\"M717.5,-817.91C717.5,-809.65 717.5,-800.86 717.5,-792.3\"/>\n<polygon fill=\"black\" stroke=\"black\" points=\"721,-792.02 717.5,-782.02 714,-792.02 721,-792.02\"/>\n</g>\n<!-- 20 -->\n<g id=\"node21\" class=\"node\">\n<title>20</title>\n<polygon fill=\"#e88e4d\" stroke=\"black\" points=\"652,-663 237,-663 237,-580 652,-580 652,-663\"/>\n<text text-anchor=\"middle\" x=\"444.5\" y=\"-647.8\" font-family=\"Helvetica,sans-Serif\" font-size=\"14.00\">percentage_of_time_with_abnormal_long_term_variability &lt;= 2.81</text>\n<text text-anchor=\"middle\" x=\"444.5\" y=\"-632.8\" font-family=\"Helvetica,sans-Serif\" font-size=\"14.00\">entropy = 0.439</text>\n<text text-anchor=\"middle\" x=\"444.5\" y=\"-617.8\" font-family=\"Helvetica,sans-Serif\" font-size=\"14.00\">samples = 77</text>\n<text text-anchor=\"middle\" x=\"444.5\" y=\"-602.8\" font-family=\"Helvetica,sans-Serif\" font-size=\"14.00\">value = [70, 7, 0]</text>\n<text text-anchor=\"middle\" x=\"444.5\" y=\"-587.8\" font-family=\"Helvetica,sans-Serif\" font-size=\"14.00\">class = 1</text>\n</g>\n<!-- 19&#45;&gt;20 -->\n<g id=\"edge20\" class=\"edge\">\n<title>19&#45;&gt;20</title>\n<path fill=\"none\" stroke=\"black\" d=\"M630.75,-702.32C604.63,-691.13 575.7,-678.73 548.58,-667.1\"/>\n<polygon fill=\"black\" stroke=\"black\" points=\"549.64,-663.75 539.07,-663.03 546.88,-670.19 549.64,-663.75\"/>\n</g>\n<!-- 35 -->\n<g id=\"node36\" class=\"node\">\n<title>35</title>\n<polygon fill=\"#39e581\" stroke=\"black\" points=\"780.5,-655.5 670.5,-655.5 670.5,-587.5 780.5,-587.5 780.5,-655.5\"/>\n<text text-anchor=\"middle\" x=\"725.5\" y=\"-640.3\" font-family=\"Helvetica,sans-Serif\" font-size=\"14.00\">entropy = 0.0</text>\n<text text-anchor=\"middle\" x=\"725.5\" y=\"-625.3\" font-family=\"Helvetica,sans-Serif\" font-size=\"14.00\">samples = 2</text>\n<text text-anchor=\"middle\" x=\"725.5\" y=\"-610.3\" font-family=\"Helvetica,sans-Serif\" font-size=\"14.00\">value = [0, 2, 0]</text>\n<text text-anchor=\"middle\" x=\"725.5\" y=\"-595.3\" font-family=\"Helvetica,sans-Serif\" font-size=\"14.00\">class = 2</text>\n</g>\n<!-- 19&#45;&gt;35 -->\n<g id=\"edge35\" class=\"edge\">\n<title>19&#45;&gt;35</title>\n<path fill=\"none\" stroke=\"black\" d=\"M720.28,-698.91C721.01,-688.2 721.8,-676.62 722.54,-665.78\"/>\n<polygon fill=\"black\" stroke=\"black\" points=\"726.04,-665.88 723.23,-655.67 719.06,-665.4 726.04,-665.88\"/>\n</g>\n<!-- 21 -->\n<g id=\"node22\" class=\"node\">\n<title>21</title>\n<polygon fill=\"#e78a47\" stroke=\"black\" points=\"452.5,-544 276.5,-544 276.5,-461 452.5,-461 452.5,-544\"/>\n<text text-anchor=\"middle\" x=\"364.5\" y=\"-528.8\" font-family=\"Helvetica,sans-Serif\" font-size=\"14.00\">fetal_movement &lt;= &#45;0.058</text>\n<text text-anchor=\"middle\" x=\"364.5\" y=\"-513.8\" font-family=\"Helvetica,sans-Serif\" font-size=\"14.00\">entropy = 0.353</text>\n<text text-anchor=\"middle\" x=\"364.5\" y=\"-498.8\" font-family=\"Helvetica,sans-Serif\" font-size=\"14.00\">samples = 75</text>\n<text text-anchor=\"middle\" x=\"364.5\" y=\"-483.8\" font-family=\"Helvetica,sans-Serif\" font-size=\"14.00\">value = [70, 5, 0]</text>\n<text text-anchor=\"middle\" x=\"364.5\" y=\"-468.8\" font-family=\"Helvetica,sans-Serif\" font-size=\"14.00\">class = 1</text>\n</g>\n<!-- 20&#45;&gt;21 -->\n<g id=\"edge21\" class=\"edge\">\n<title>20&#45;&gt;21</title>\n<path fill=\"none\" stroke=\"black\" d=\"M416.74,-579.91C410.66,-571.01 404.16,-561.51 397.89,-552.33\"/>\n<polygon fill=\"black\" stroke=\"black\" points=\"400.74,-550.3 392.21,-544.02 394.96,-554.25 400.74,-550.3\"/>\n</g>\n<!-- 34 -->\n<g id=\"node35\" class=\"node\">\n<title>34</title>\n<polygon fill=\"#39e581\" stroke=\"black\" points=\"580.5,-536.5 470.5,-536.5 470.5,-468.5 580.5,-468.5 580.5,-536.5\"/>\n<text text-anchor=\"middle\" x=\"525.5\" y=\"-521.3\" font-family=\"Helvetica,sans-Serif\" font-size=\"14.00\">entropy = 0.0</text>\n<text text-anchor=\"middle\" x=\"525.5\" y=\"-506.3\" font-family=\"Helvetica,sans-Serif\" font-size=\"14.00\">samples = 2</text>\n<text text-anchor=\"middle\" x=\"525.5\" y=\"-491.3\" font-family=\"Helvetica,sans-Serif\" font-size=\"14.00\">value = [0, 2, 0]</text>\n<text text-anchor=\"middle\" x=\"525.5\" y=\"-476.3\" font-family=\"Helvetica,sans-Serif\" font-size=\"14.00\">class = 2</text>\n</g>\n<!-- 20&#45;&gt;34 -->\n<g id=\"edge34\" class=\"edge\">\n<title>20&#45;&gt;34</title>\n<path fill=\"none\" stroke=\"black\" d=\"M472.6,-579.91C480.39,-568.65 488.86,-556.42 496.7,-545.11\"/>\n<polygon fill=\"black\" stroke=\"black\" points=\"499.72,-546.88 502.54,-536.67 493.97,-542.9 499.72,-546.88\"/>\n</g>\n<!-- 22 -->\n<g id=\"node23\" class=\"node\">\n<title>22</title>\n<polygon fill=\"#e6853f\" stroke=\"black\" points=\"415,-425 0,-425 0,-342 415,-342 415,-425\"/>\n<text text-anchor=\"middle\" x=\"207.5\" y=\"-409.8\" font-family=\"Helvetica,sans-Serif\" font-size=\"14.00\">percentage_of_time_with_abnormal_long_term_variability &lt;= 1.13</text>\n<text text-anchor=\"middle\" x=\"207.5\" y=\"-394.8\" font-family=\"Helvetica,sans-Serif\" font-size=\"14.00\">entropy = 0.191</text>\n<text text-anchor=\"middle\" x=\"207.5\" y=\"-379.8\" font-family=\"Helvetica,sans-Serif\" font-size=\"14.00\">samples = 68</text>\n<text text-anchor=\"middle\" x=\"207.5\" y=\"-364.8\" font-family=\"Helvetica,sans-Serif\" font-size=\"14.00\">value = [66, 2, 0]</text>\n<text text-anchor=\"middle\" x=\"207.5\" y=\"-349.8\" font-family=\"Helvetica,sans-Serif\" font-size=\"14.00\">class = 1</text>\n</g>\n<!-- 21&#45;&gt;22 -->\n<g id=\"edge22\" class=\"edge\">\n<title>21&#45;&gt;22</title>\n<path fill=\"none\" stroke=\"black\" d=\"M310.03,-460.91C297.12,-451.29 283.25,-440.95 270.02,-431.09\"/>\n<polygon fill=\"black\" stroke=\"black\" points=\"271.98,-428.19 261.87,-425.02 267.8,-433.8 271.98,-428.19\"/>\n</g>\n<!-- 29 -->\n<g id=\"node30\" class=\"node\">\n<title>29</title>\n<polygon fill=\"#f8e0ce\" stroke=\"black\" points=\"610.5,-425 432.5,-425 432.5,-342 610.5,-342 610.5,-425\"/>\n<text text-anchor=\"middle\" x=\"521.5\" y=\"-409.8\" font-family=\"Helvetica,sans-Serif\" font-size=\"14.00\">histogram_width &lt;= &#45;0.516</text>\n<text text-anchor=\"middle\" x=\"521.5\" y=\"-394.8\" font-family=\"Helvetica,sans-Serif\" font-size=\"14.00\">entropy = 0.985</text>\n<text text-anchor=\"middle\" x=\"521.5\" y=\"-379.8\" font-family=\"Helvetica,sans-Serif\" font-size=\"14.00\">samples = 7</text>\n<text text-anchor=\"middle\" x=\"521.5\" y=\"-364.8\" font-family=\"Helvetica,sans-Serif\" font-size=\"14.00\">value = [4, 3, 0]</text>\n<text text-anchor=\"middle\" x=\"521.5\" y=\"-349.8\" font-family=\"Helvetica,sans-Serif\" font-size=\"14.00\">class = 1</text>\n</g>\n<!-- 21&#45;&gt;29 -->\n<g id=\"edge29\" class=\"edge\">\n<title>21&#45;&gt;29</title>\n<path fill=\"none\" stroke=\"black\" d=\"M418.97,-460.91C431.88,-451.29 445.75,-440.95 458.98,-431.09\"/>\n<polygon fill=\"black\" stroke=\"black\" points=\"461.2,-433.8 467.13,-425.02 457.02,-428.19 461.2,-433.8\"/>\n</g>\n<!-- 23 -->\n<g id=\"node24\" class=\"node\">\n<title>23</title>\n<polygon fill=\"#e58139\" stroke=\"black\" points=\"188,-298.5 71,-298.5 71,-230.5 188,-230.5 188,-298.5\"/>\n<text text-anchor=\"middle\" x=\"129.5\" y=\"-283.3\" font-family=\"Helvetica,sans-Serif\" font-size=\"14.00\">entropy = 0.0</text>\n<text text-anchor=\"middle\" x=\"129.5\" y=\"-268.3\" font-family=\"Helvetica,sans-Serif\" font-size=\"14.00\">samples = 52</text>\n<text text-anchor=\"middle\" x=\"129.5\" y=\"-253.3\" font-family=\"Helvetica,sans-Serif\" font-size=\"14.00\">value = [52, 0, 0]</text>\n<text text-anchor=\"middle\" x=\"129.5\" y=\"-238.3\" font-family=\"Helvetica,sans-Serif\" font-size=\"14.00\">class = 1</text>\n</g>\n<!-- 22&#45;&gt;23 -->\n<g id=\"edge23\" class=\"edge\">\n<title>22&#45;&gt;23</title>\n<path fill=\"none\" stroke=\"black\" d=\"M180.44,-341.91C172.93,-330.65 164.78,-318.42 157.24,-307.11\"/>\n<polygon fill=\"black\" stroke=\"black\" points=\"160.07,-305.05 151.61,-298.67 154.25,-308.93 160.07,-305.05\"/>\n</g>\n<!-- 24 -->\n<g id=\"node25\" class=\"node\">\n<title>24</title>\n<polygon fill=\"#e99355\" stroke=\"black\" points=\"367,-306 206,-306 206,-223 367,-223 367,-306\"/>\n<text text-anchor=\"middle\" x=\"286.5\" y=\"-290.8\" font-family=\"Helvetica,sans-Serif\" font-size=\"14.00\">baseline value &lt;= 0.095</text>\n<text text-anchor=\"middle\" x=\"286.5\" y=\"-275.8\" font-family=\"Helvetica,sans-Serif\" font-size=\"14.00\">entropy = 0.544</text>\n<text text-anchor=\"middle\" x=\"286.5\" y=\"-260.8\" font-family=\"Helvetica,sans-Serif\" font-size=\"14.00\">samples = 16</text>\n<text text-anchor=\"middle\" x=\"286.5\" y=\"-245.8\" font-family=\"Helvetica,sans-Serif\" font-size=\"14.00\">value = [14, 2, 0]</text>\n<text text-anchor=\"middle\" x=\"286.5\" y=\"-230.8\" font-family=\"Helvetica,sans-Serif\" font-size=\"14.00\">class = 1</text>\n</g>\n<!-- 22&#45;&gt;24 -->\n<g id=\"edge24\" class=\"edge\">\n<title>22&#45;&gt;24</title>\n<path fill=\"none\" stroke=\"black\" d=\"M234.91,-341.91C240.91,-333.01 247.33,-323.51 253.53,-314.33\"/>\n<polygon fill=\"black\" stroke=\"black\" points=\"256.44,-316.27 259.14,-306.02 250.64,-312.35 256.44,-316.27\"/>\n</g>\n<!-- 25 -->\n<g id=\"node26\" class=\"node\">\n<title>25</title>\n<polygon fill=\"#ffffff\" stroke=\"black\" points=\"257.5,-187 81.5,-187 81.5,-104 257.5,-104 257.5,-187\"/>\n<text text-anchor=\"middle\" x=\"169.5\" y=\"-171.8\" font-family=\"Helvetica,sans-Serif\" font-size=\"14.00\">histogram_mean &lt;= 0.226</text>\n<text text-anchor=\"middle\" x=\"169.5\" y=\"-156.8\" font-family=\"Helvetica,sans-Serif\" font-size=\"14.00\">entropy = 1.0</text>\n<text text-anchor=\"middle\" x=\"169.5\" y=\"-141.8\" font-family=\"Helvetica,sans-Serif\" font-size=\"14.00\">samples = 4</text>\n<text text-anchor=\"middle\" x=\"169.5\" y=\"-126.8\" font-family=\"Helvetica,sans-Serif\" font-size=\"14.00\">value = [2, 2, 0]</text>\n<text text-anchor=\"middle\" x=\"169.5\" y=\"-111.8\" font-family=\"Helvetica,sans-Serif\" font-size=\"14.00\">class = 1</text>\n</g>\n<!-- 24&#45;&gt;25 -->\n<g id=\"edge25\" class=\"edge\">\n<title>24&#45;&gt;25</title>\n<path fill=\"none\" stroke=\"black\" d=\"M245.91,-222.91C236.65,-213.65 226.73,-203.73 217.21,-194.21\"/>\n<polygon fill=\"black\" stroke=\"black\" points=\"219.57,-191.62 210.02,-187.02 214.62,-196.57 219.57,-191.62\"/>\n</g>\n<!-- 28 -->\n<g id=\"node29\" class=\"node\">\n<title>28</title>\n<polygon fill=\"#e58139\" stroke=\"black\" points=\"393,-179.5 276,-179.5 276,-111.5 393,-111.5 393,-179.5\"/>\n<text text-anchor=\"middle\" x=\"334.5\" y=\"-164.3\" font-family=\"Helvetica,sans-Serif\" font-size=\"14.00\">entropy = 0.0</text>\n<text text-anchor=\"middle\" x=\"334.5\" y=\"-149.3\" font-family=\"Helvetica,sans-Serif\" font-size=\"14.00\">samples = 12</text>\n<text text-anchor=\"middle\" x=\"334.5\" y=\"-134.3\" font-family=\"Helvetica,sans-Serif\" font-size=\"14.00\">value = [12, 0, 0]</text>\n<text text-anchor=\"middle\" x=\"334.5\" y=\"-119.3\" font-family=\"Helvetica,sans-Serif\" font-size=\"14.00\">class = 1</text>\n</g>\n<!-- 24&#45;&gt;28 -->\n<g id=\"edge28\" class=\"edge\">\n<title>24&#45;&gt;28</title>\n<path fill=\"none\" stroke=\"black\" d=\"M303.15,-222.91C307.64,-211.98 312.5,-200.14 317.02,-189.11\"/>\n<polygon fill=\"black\" stroke=\"black\" points=\"320.34,-190.25 320.89,-179.67 313.86,-187.59 320.34,-190.25\"/>\n</g>\n<!-- 26 -->\n<g id=\"node27\" class=\"node\">\n<title>26</title>\n<polygon fill=\"#e58139\" stroke=\"black\" points=\"160.5,-68 50.5,-68 50.5,0 160.5,0 160.5,-68\"/>\n<text text-anchor=\"middle\" x=\"105.5\" y=\"-52.8\" font-family=\"Helvetica,sans-Serif\" font-size=\"14.00\">entropy = 0.0</text>\n<text text-anchor=\"middle\" x=\"105.5\" y=\"-37.8\" font-family=\"Helvetica,sans-Serif\" font-size=\"14.00\">samples = 2</text>\n<text text-anchor=\"middle\" x=\"105.5\" y=\"-22.8\" font-family=\"Helvetica,sans-Serif\" font-size=\"14.00\">value = [2, 0, 0]</text>\n<text text-anchor=\"middle\" x=\"105.5\" y=\"-7.8\" font-family=\"Helvetica,sans-Serif\" font-size=\"14.00\">class = 1</text>\n</g>\n<!-- 25&#45;&gt;26 -->\n<g id=\"edge26\" class=\"edge\">\n<title>25&#45;&gt;26</title>\n<path fill=\"none\" stroke=\"black\" d=\"M145.67,-103.73C140.6,-95.06 135.25,-85.9 130.15,-77.18\"/>\n<polygon fill=\"black\" stroke=\"black\" points=\"133.03,-75.17 124.96,-68.3 126.99,-78.7 133.03,-75.17\"/>\n</g>\n<!-- 27 -->\n<g id=\"node28\" class=\"node\">\n<title>27</title>\n<polygon fill=\"#39e581\" stroke=\"black\" points=\"288.5,-68 178.5,-68 178.5,0 288.5,0 288.5,-68\"/>\n<text text-anchor=\"middle\" x=\"233.5\" y=\"-52.8\" font-family=\"Helvetica,sans-Serif\" font-size=\"14.00\">entropy = 0.0</text>\n<text text-anchor=\"middle\" x=\"233.5\" y=\"-37.8\" font-family=\"Helvetica,sans-Serif\" font-size=\"14.00\">samples = 2</text>\n<text text-anchor=\"middle\" x=\"233.5\" y=\"-22.8\" font-family=\"Helvetica,sans-Serif\" font-size=\"14.00\">value = [0, 2, 0]</text>\n<text text-anchor=\"middle\" x=\"233.5\" y=\"-7.8\" font-family=\"Helvetica,sans-Serif\" font-size=\"14.00\">class = 2</text>\n</g>\n<!-- 25&#45;&gt;27 -->\n<g id=\"edge27\" class=\"edge\">\n<title>25&#45;&gt;27</title>\n<path fill=\"none\" stroke=\"black\" d=\"M193.33,-103.73C198.4,-95.06 203.75,-85.9 208.85,-77.18\"/>\n<polygon fill=\"black\" stroke=\"black\" points=\"212.01,-78.7 214.04,-68.3 205.97,-75.17 212.01,-78.7\"/>\n</g>\n<!-- 30 -->\n<g id=\"node31\" class=\"node\">\n<title>30</title>\n<polygon fill=\"#e58139\" stroke=\"black\" points=\"536.5,-298.5 426.5,-298.5 426.5,-230.5 536.5,-230.5 536.5,-298.5\"/>\n<text text-anchor=\"middle\" x=\"481.5\" y=\"-283.3\" font-family=\"Helvetica,sans-Serif\" font-size=\"14.00\">entropy = 0.0</text>\n<text text-anchor=\"middle\" x=\"481.5\" y=\"-268.3\" font-family=\"Helvetica,sans-Serif\" font-size=\"14.00\">samples = 3</text>\n<text text-anchor=\"middle\" x=\"481.5\" y=\"-253.3\" font-family=\"Helvetica,sans-Serif\" font-size=\"14.00\">value = [3, 0, 0]</text>\n<text text-anchor=\"middle\" x=\"481.5\" y=\"-238.3\" font-family=\"Helvetica,sans-Serif\" font-size=\"14.00\">class = 1</text>\n</g>\n<!-- 29&#45;&gt;30 -->\n<g id=\"edge30\" class=\"edge\">\n<title>29&#45;&gt;30</title>\n<path fill=\"none\" stroke=\"black\" d=\"M507.62,-341.91C503.93,-331.09 499.92,-319.38 496.18,-308.44\"/>\n<polygon fill=\"black\" stroke=\"black\" points=\"499.39,-307 492.84,-298.67 492.76,-309.26 499.39,-307\"/>\n</g>\n<!-- 31 -->\n<g id=\"node32\" class=\"node\">\n<title>31</title>\n<polygon fill=\"#7beeab\" stroke=\"black\" points=\"730.5,-306 554.5,-306 554.5,-223 730.5,-223 730.5,-306\"/>\n<text text-anchor=\"middle\" x=\"642.5\" y=\"-290.8\" font-family=\"Helvetica,sans-Serif\" font-size=\"14.00\">histogram_mode &lt;= 0.071</text>\n<text text-anchor=\"middle\" x=\"642.5\" y=\"-275.8\" font-family=\"Helvetica,sans-Serif\" font-size=\"14.00\">entropy = 0.811</text>\n<text text-anchor=\"middle\" x=\"642.5\" y=\"-260.8\" font-family=\"Helvetica,sans-Serif\" font-size=\"14.00\">samples = 4</text>\n<text text-anchor=\"middle\" x=\"642.5\" y=\"-245.8\" font-family=\"Helvetica,sans-Serif\" font-size=\"14.00\">value = [1, 3, 0]</text>\n<text text-anchor=\"middle\" x=\"642.5\" y=\"-230.8\" font-family=\"Helvetica,sans-Serif\" font-size=\"14.00\">class = 2</text>\n</g>\n<!-- 29&#45;&gt;31 -->\n<g id=\"edge31\" class=\"edge\">\n<title>29&#45;&gt;31</title>\n<path fill=\"none\" stroke=\"black\" d=\"M563.48,-341.91C573.05,-332.65 583.31,-322.73 593.16,-313.21\"/>\n<polygon fill=\"black\" stroke=\"black\" points=\"595.84,-315.49 600.59,-306.02 590.97,-310.46 595.84,-315.49\"/>\n</g>\n<!-- 32 -->\n<g id=\"node33\" class=\"node\">\n<title>32</title>\n<polygon fill=\"#e58139\" stroke=\"black\" points=\"633.5,-179.5 523.5,-179.5 523.5,-111.5 633.5,-111.5 633.5,-179.5\"/>\n<text text-anchor=\"middle\" x=\"578.5\" y=\"-164.3\" font-family=\"Helvetica,sans-Serif\" font-size=\"14.00\">entropy = 0.0</text>\n<text text-anchor=\"middle\" x=\"578.5\" y=\"-149.3\" font-family=\"Helvetica,sans-Serif\" font-size=\"14.00\">samples = 1</text>\n<text text-anchor=\"middle\" x=\"578.5\" y=\"-134.3\" font-family=\"Helvetica,sans-Serif\" font-size=\"14.00\">value = [1, 0, 0]</text>\n<text text-anchor=\"middle\" x=\"578.5\" y=\"-119.3\" font-family=\"Helvetica,sans-Serif\" font-size=\"14.00\">class = 1</text>\n</g>\n<!-- 31&#45;&gt;32 -->\n<g id=\"edge32\" class=\"edge\">\n<title>31&#45;&gt;32</title>\n<path fill=\"none\" stroke=\"black\" d=\"M620.3,-222.91C614.26,-211.87 607.71,-199.9 601.62,-188.77\"/>\n<polygon fill=\"black\" stroke=\"black\" points=\"604.51,-186.76 596.64,-179.67 598.37,-190.12 604.51,-186.76\"/>\n</g>\n<!-- 33 -->\n<g id=\"node34\" class=\"node\">\n<title>33</title>\n<polygon fill=\"#39e581\" stroke=\"black\" points=\"761.5,-179.5 651.5,-179.5 651.5,-111.5 761.5,-111.5 761.5,-179.5\"/>\n<text text-anchor=\"middle\" x=\"706.5\" y=\"-164.3\" font-family=\"Helvetica,sans-Serif\" font-size=\"14.00\">entropy = 0.0</text>\n<text text-anchor=\"middle\" x=\"706.5\" y=\"-149.3\" font-family=\"Helvetica,sans-Serif\" font-size=\"14.00\">samples = 3</text>\n<text text-anchor=\"middle\" x=\"706.5\" y=\"-134.3\" font-family=\"Helvetica,sans-Serif\" font-size=\"14.00\">value = [0, 3, 0]</text>\n<text text-anchor=\"middle\" x=\"706.5\" y=\"-119.3\" font-family=\"Helvetica,sans-Serif\" font-size=\"14.00\">class = 2</text>\n</g>\n<!-- 31&#45;&gt;33 -->\n<g id=\"edge33\" class=\"edge\">\n<title>31&#45;&gt;33</title>\n<path fill=\"none\" stroke=\"black\" d=\"M664.7,-222.91C670.74,-211.87 677.29,-199.9 683.38,-188.77\"/>\n<polygon fill=\"black\" stroke=\"black\" points=\"686.63,-190.12 688.36,-179.67 680.49,-186.76 686.63,-190.12\"/>\n</g>\n<!-- 38 -->\n<g id=\"node39\" class=\"node\">\n<title>38</title>\n<polygon fill=\"#8139e5\" stroke=\"black\" points=\"1067.5,-1012.5 957.5,-1012.5 957.5,-944.5 1067.5,-944.5 1067.5,-1012.5\"/>\n<text text-anchor=\"middle\" x=\"1012.5\" y=\"-997.3\" font-family=\"Helvetica,sans-Serif\" font-size=\"14.00\">entropy = 0.0</text>\n<text text-anchor=\"middle\" x=\"1012.5\" y=\"-982.3\" font-family=\"Helvetica,sans-Serif\" font-size=\"14.00\">samples = 2</text>\n<text text-anchor=\"middle\" x=\"1012.5\" y=\"-967.3\" font-family=\"Helvetica,sans-Serif\" font-size=\"14.00\">value = [0, 0, 2]</text>\n<text text-anchor=\"middle\" x=\"1012.5\" y=\"-952.3\" font-family=\"Helvetica,sans-Serif\" font-size=\"14.00\">class = 3</text>\n</g>\n<!-- 37&#45;&gt;38 -->\n<g id=\"edge38\" class=\"edge\">\n<title>37&#45;&gt;38</title>\n<path fill=\"none\" stroke=\"black\" d=\"M1085.64,-1055.91C1074.55,-1044.32 1062.47,-1031.7 1051.38,-1020.11\"/>\n<polygon fill=\"black\" stroke=\"black\" points=\"1053.69,-1017.47 1044.25,-1012.67 1048.64,-1022.31 1053.69,-1017.47\"/>\n</g>\n<!-- 39 -->\n<g id=\"node40\" class=\"node\">\n<title>39</title>\n<polygon fill=\"#39e581\" stroke=\"black\" points=\"1195.5,-1012.5 1085.5,-1012.5 1085.5,-944.5 1195.5,-944.5 1195.5,-1012.5\"/>\n<text text-anchor=\"middle\" x=\"1140.5\" y=\"-997.3\" font-family=\"Helvetica,sans-Serif\" font-size=\"14.00\">entropy = 0.0</text>\n<text text-anchor=\"middle\" x=\"1140.5\" y=\"-982.3\" font-family=\"Helvetica,sans-Serif\" font-size=\"14.00\">samples = 3</text>\n<text text-anchor=\"middle\" x=\"1140.5\" y=\"-967.3\" font-family=\"Helvetica,sans-Serif\" font-size=\"14.00\">value = [0, 3, 0]</text>\n<text text-anchor=\"middle\" x=\"1140.5\" y=\"-952.3\" font-family=\"Helvetica,sans-Serif\" font-size=\"14.00\">class = 2</text>\n</g>\n<!-- 37&#45;&gt;39 -->\n<g id=\"edge39\" class=\"edge\">\n<title>37&#45;&gt;39</title>\n<path fill=\"none\" stroke=\"black\" d=\"M1130.05,-1055.91C1131.51,-1045.2 1133.1,-1033.62 1134.58,-1022.78\"/>\n<polygon fill=\"black\" stroke=\"black\" points=\"1138.08,-1023.05 1135.96,-1012.67 1131.14,-1022.1 1138.08,-1023.05\"/>\n</g>\n<!-- 41 -->\n<g id=\"node42\" class=\"node\">\n<title>41</title>\n<polygon fill=\"#97f1bd\" stroke=\"black\" points=\"1433,-1139 1236,-1139 1236,-1056 1433,-1056 1433,-1139\"/>\n<text text-anchor=\"middle\" x=\"1334.5\" y=\"-1123.8\" font-family=\"Helvetica,sans-Serif\" font-size=\"14.00\">histogram_variance &lt;= &#45;0.123</text>\n<text text-anchor=\"middle\" x=\"1334.5\" y=\"-1108.8\" font-family=\"Helvetica,sans-Serif\" font-size=\"14.00\">entropy = 0.907</text>\n<text text-anchor=\"middle\" x=\"1334.5\" y=\"-1093.8\" font-family=\"Helvetica,sans-Serif\" font-size=\"14.00\">samples = 31</text>\n<text text-anchor=\"middle\" x=\"1334.5\" y=\"-1078.8\" font-family=\"Helvetica,sans-Serif\" font-size=\"14.00\">value = [10, 21, 0]</text>\n<text text-anchor=\"middle\" x=\"1334.5\" y=\"-1063.8\" font-family=\"Helvetica,sans-Serif\" font-size=\"14.00\">class = 2</text>\n</g>\n<!-- 40&#45;&gt;41 -->\n<g id=\"edge41\" class=\"edge\">\n<title>40&#45;&gt;41</title>\n<path fill=\"none\" stroke=\"black\" d=\"M1442.91,-1174.91C1429.13,-1165.2 1414.32,-1154.76 1400.21,-1144.81\"/>\n<polygon fill=\"black\" stroke=\"black\" points=\"1402.18,-1141.92 1391.99,-1139.02 1398.15,-1147.64 1402.18,-1141.92\"/>\n</g>\n<!-- 56 -->\n<g id=\"node57\" class=\"node\">\n<title>56</title>\n<polygon fill=\"#f0b78e\" stroke=\"black\" points=\"1873.5,-1139 1451.5,-1139 1451.5,-1056 1873.5,-1056 1873.5,-1139\"/>\n<text text-anchor=\"middle\" x=\"1662.5\" y=\"-1123.8\" font-family=\"Helvetica,sans-Serif\" font-size=\"14.00\">percentage_of_time_with_abnormal_long_term_variability &lt;= 2.866</text>\n<text text-anchor=\"middle\" x=\"1662.5\" y=\"-1108.8\" font-family=\"Helvetica,sans-Serif\" font-size=\"14.00\">entropy = 0.997</text>\n<text text-anchor=\"middle\" x=\"1662.5\" y=\"-1093.8\" font-family=\"Helvetica,sans-Serif\" font-size=\"14.00\">samples = 49</text>\n<text text-anchor=\"middle\" x=\"1662.5\" y=\"-1078.8\" font-family=\"Helvetica,sans-Serif\" font-size=\"14.00\">value = [34, 14, 1]</text>\n<text text-anchor=\"middle\" x=\"1662.5\" y=\"-1063.8\" font-family=\"Helvetica,sans-Serif\" font-size=\"14.00\">class = 1</text>\n</g>\n<!-- 40&#45;&gt;56 -->\n<g id=\"edge56\" class=\"edge\">\n<title>40&#45;&gt;56</title>\n<path fill=\"none\" stroke=\"black\" d=\"M1556.71,-1174.91C1570.02,-1165.29 1584.33,-1154.95 1597.99,-1145.09\"/>\n<polygon fill=\"black\" stroke=\"black\" points=\"1600.34,-1147.71 1606.39,-1139.02 1596.24,-1142.04 1600.34,-1147.71\"/>\n</g>\n<!-- 42 -->\n<g id=\"node43\" class=\"node\">\n<title>42</title>\n<polygon fill=\"#72eca5\" stroke=\"black\" points=\"1395,-1020 1244,-1020 1244,-937 1395,-937 1395,-1020\"/>\n<text text-anchor=\"middle\" x=\"1319.5\" y=\"-1004.8\" font-family=\"Helvetica,sans-Serif\" font-size=\"14.00\">accelerations &lt;= &#45;0.45</text>\n<text text-anchor=\"middle\" x=\"1319.5\" y=\"-989.8\" font-family=\"Helvetica,sans-Serif\" font-size=\"14.00\">entropy = 0.764</text>\n<text text-anchor=\"middle\" x=\"1319.5\" y=\"-974.8\" font-family=\"Helvetica,sans-Serif\" font-size=\"14.00\">samples = 27</text>\n<text text-anchor=\"middle\" x=\"1319.5\" y=\"-959.8\" font-family=\"Helvetica,sans-Serif\" font-size=\"14.00\">value = [6, 21, 0]</text>\n<text text-anchor=\"middle\" x=\"1319.5\" y=\"-944.8\" font-family=\"Helvetica,sans-Serif\" font-size=\"14.00\">class = 2</text>\n</g>\n<!-- 41&#45;&gt;42 -->\n<g id=\"edge42\" class=\"edge\">\n<title>41&#45;&gt;42</title>\n<path fill=\"none\" stroke=\"black\" d=\"M1329.3,-1055.91C1328.23,-1047.56 1327.09,-1038.67 1325.98,-1030.02\"/>\n<polygon fill=\"black\" stroke=\"black\" points=\"1329.44,-1029.49 1324.69,-1020.02 1322.5,-1030.38 1329.44,-1029.49\"/>\n</g>\n<!-- 55 -->\n<g id=\"node56\" class=\"node\">\n<title>55</title>\n<polygon fill=\"#e58139\" stroke=\"black\" points=\"1523.5,-1012.5 1413.5,-1012.5 1413.5,-944.5 1523.5,-944.5 1523.5,-1012.5\"/>\n<text text-anchor=\"middle\" x=\"1468.5\" y=\"-997.3\" font-family=\"Helvetica,sans-Serif\" font-size=\"14.00\">entropy = 0.0</text>\n<text text-anchor=\"middle\" x=\"1468.5\" y=\"-982.3\" font-family=\"Helvetica,sans-Serif\" font-size=\"14.00\">samples = 4</text>\n<text text-anchor=\"middle\" x=\"1468.5\" y=\"-967.3\" font-family=\"Helvetica,sans-Serif\" font-size=\"14.00\">value = [4, 0, 0]</text>\n<text text-anchor=\"middle\" x=\"1468.5\" y=\"-952.3\" font-family=\"Helvetica,sans-Serif\" font-size=\"14.00\">class = 1</text>\n</g>\n<!-- 41&#45;&gt;55 -->\n<g id=\"edge55\" class=\"edge\">\n<title>41&#45;&gt;55</title>\n<path fill=\"none\" stroke=\"black\" d=\"M1380.99,-1055.91C1394.51,-1044.1 1409.27,-1031.22 1422.75,-1019.45\"/>\n<polygon fill=\"black\" stroke=\"black\" points=\"1425.28,-1021.88 1430.51,-1012.67 1420.68,-1016.61 1425.28,-1021.88\"/>\n</g>\n<!-- 43 -->\n<g id=\"node44\" class=\"node\">\n<title>43</title>\n<polygon fill=\"#57e994\" stroke=\"black\" points=\"1267,-901 1012,-901 1012,-818 1267,-818 1267,-901\"/>\n<text text-anchor=\"middle\" x=\"1139.5\" y=\"-885.8\" font-family=\"Helvetica,sans-Serif\" font-size=\"14.00\">histogram_number_of_peaks &lt;= &#45;1.193</text>\n<text text-anchor=\"middle\" x=\"1139.5\" y=\"-870.8\" font-family=\"Helvetica,sans-Serif\" font-size=\"14.00\">entropy = 0.559</text>\n<text text-anchor=\"middle\" x=\"1139.5\" y=\"-855.8\" font-family=\"Helvetica,sans-Serif\" font-size=\"14.00\">samples = 23</text>\n<text text-anchor=\"middle\" x=\"1139.5\" y=\"-840.8\" font-family=\"Helvetica,sans-Serif\" font-size=\"14.00\">value = [3, 20, 0]</text>\n<text text-anchor=\"middle\" x=\"1139.5\" y=\"-825.8\" font-family=\"Helvetica,sans-Serif\" font-size=\"14.00\">class = 2</text>\n</g>\n<!-- 42&#45;&gt;43 -->\n<g id=\"edge43\" class=\"edge\">\n<title>42&#45;&gt;43</title>\n<path fill=\"none\" stroke=\"black\" d=\"M1257.05,-936.91C1241.97,-927.11 1225.75,-916.56 1210.32,-906.53\"/>\n<polygon fill=\"black\" stroke=\"black\" points=\"1212.13,-903.54 1201.84,-901.02 1208.32,-909.41 1212.13,-903.54\"/>\n</g>\n<!-- 52 -->\n<g id=\"node53\" class=\"node\">\n<title>52</title>\n<polygon fill=\"#eeab7b\" stroke=\"black\" points=\"1446,-901 1285,-901 1285,-818 1446,-818 1446,-901\"/>\n<text text-anchor=\"middle\" x=\"1365.5\" y=\"-885.8\" font-family=\"Helvetica,sans-Serif\" font-size=\"14.00\">baseline value &lt;= 1.151</text>\n<text text-anchor=\"middle\" x=\"1365.5\" y=\"-870.8\" font-family=\"Helvetica,sans-Serif\" font-size=\"14.00\">entropy = 0.811</text>\n<text text-anchor=\"middle\" x=\"1365.5\" y=\"-855.8\" font-family=\"Helvetica,sans-Serif\" font-size=\"14.00\">samples = 4</text>\n<text text-anchor=\"middle\" x=\"1365.5\" y=\"-840.8\" font-family=\"Helvetica,sans-Serif\" font-size=\"14.00\">value = [3, 1, 0]</text>\n<text text-anchor=\"middle\" x=\"1365.5\" y=\"-825.8\" font-family=\"Helvetica,sans-Serif\" font-size=\"14.00\">class = 1</text>\n</g>\n<!-- 42&#45;&gt;52 -->\n<g id=\"edge52\" class=\"edge\">\n<title>42&#45;&gt;52</title>\n<path fill=\"none\" stroke=\"black\" d=\"M1335.46,-936.91C1338.81,-928.38 1342.39,-919.28 1345.86,-910.46\"/>\n<polygon fill=\"black\" stroke=\"black\" points=\"1349.17,-911.61 1349.57,-901.02 1342.65,-909.05 1349.17,-911.61\"/>\n</g>\n<!-- 44 -->\n<g id=\"node45\" class=\"node\">\n<title>44</title>\n<polygon fill=\"#f2c09c\" stroke=\"black\" points=\"1022.5,-782 822.5,-782 822.5,-699 1022.5,-699 1022.5,-782\"/>\n<text text-anchor=\"middle\" x=\"922.5\" y=\"-766.8\" font-family=\"Helvetica,sans-Serif\" font-size=\"14.00\">uterine_contractions &lt;= &#45;0.326</text>\n<text text-anchor=\"middle\" x=\"922.5\" y=\"-751.8\" font-family=\"Helvetica,sans-Serif\" font-size=\"14.00\">entropy = 0.918</text>\n<text text-anchor=\"middle\" x=\"922.5\" y=\"-736.8\" font-family=\"Helvetica,sans-Serif\" font-size=\"14.00\">samples = 3</text>\n<text text-anchor=\"middle\" x=\"922.5\" y=\"-721.8\" font-family=\"Helvetica,sans-Serif\" font-size=\"14.00\">value = [2, 1, 0]</text>\n<text text-anchor=\"middle\" x=\"922.5\" y=\"-706.8\" font-family=\"Helvetica,sans-Serif\" font-size=\"14.00\">class = 1</text>\n</g>\n<!-- 43&#45;&gt;44 -->\n<g id=\"edge44\" class=\"edge\">\n<title>43&#45;&gt;44</title>\n<path fill=\"none\" stroke=\"black\" d=\"M1064.21,-817.91C1045.61,-807.88 1025.57,-797.07 1006.59,-786.84\"/>\n<polygon fill=\"black\" stroke=\"black\" points=\"1008.12,-783.69 997.65,-782.02 1004.8,-789.85 1008.12,-783.69\"/>\n</g>\n<!-- 47 -->\n<g id=\"node48\" class=\"node\">\n<title>47</title>\n<polygon fill=\"#43e688\" stroke=\"black\" points=\"1292,-782 1041,-782 1041,-699 1292,-699 1292,-782\"/>\n<text text-anchor=\"middle\" x=\"1166.5\" y=\"-766.8\" font-family=\"Helvetica,sans-Serif\" font-size=\"14.00\">histogram_number_of_peaks &lt;= 1.515</text>\n<text text-anchor=\"middle\" x=\"1166.5\" y=\"-751.8\" font-family=\"Helvetica,sans-Serif\" font-size=\"14.00\">entropy = 0.286</text>\n<text text-anchor=\"middle\" x=\"1166.5\" y=\"-736.8\" font-family=\"Helvetica,sans-Serif\" font-size=\"14.00\">samples = 20</text>\n<text text-anchor=\"middle\" x=\"1166.5\" y=\"-721.8\" font-family=\"Helvetica,sans-Serif\" font-size=\"14.00\">value = [1, 19, 0]</text>\n<text text-anchor=\"middle\" x=\"1166.5\" y=\"-706.8\" font-family=\"Helvetica,sans-Serif\" font-size=\"14.00\">class = 2</text>\n</g>\n<!-- 43&#45;&gt;47 -->\n<g id=\"edge47\" class=\"edge\">\n<title>43&#45;&gt;47</title>\n<path fill=\"none\" stroke=\"black\" d=\"M1148.87,-817.91C1150.79,-809.56 1152.85,-800.67 1154.84,-792.02\"/>\n<polygon fill=\"black\" stroke=\"black\" points=\"1158.31,-792.55 1157.15,-782.02 1151.49,-790.98 1158.31,-792.55\"/>\n</g>\n<!-- 45 -->\n<g id=\"node46\" class=\"node\">\n<title>45</title>\n<polygon fill=\"#39e581\" stroke=\"black\" points=\"938.5,-655.5 828.5,-655.5 828.5,-587.5 938.5,-587.5 938.5,-655.5\"/>\n<text text-anchor=\"middle\" x=\"883.5\" y=\"-640.3\" font-family=\"Helvetica,sans-Serif\" font-size=\"14.00\">entropy = 0.0</text>\n<text text-anchor=\"middle\" x=\"883.5\" y=\"-625.3\" font-family=\"Helvetica,sans-Serif\" font-size=\"14.00\">samples = 1</text>\n<text text-anchor=\"middle\" x=\"883.5\" y=\"-610.3\" font-family=\"Helvetica,sans-Serif\" font-size=\"14.00\">value = [0, 1, 0]</text>\n<text text-anchor=\"middle\" x=\"883.5\" y=\"-595.3\" font-family=\"Helvetica,sans-Serif\" font-size=\"14.00\">class = 2</text>\n</g>\n<!-- 44&#45;&gt;45 -->\n<g id=\"edge45\" class=\"edge\">\n<title>44&#45;&gt;45</title>\n<path fill=\"none\" stroke=\"black\" d=\"M908.97,-698.91C905.36,-688.09 901.46,-676.38 897.81,-665.44\"/>\n<polygon fill=\"black\" stroke=\"black\" points=\"901.04,-664.05 894.56,-655.67 894.4,-666.26 901.04,-664.05\"/>\n</g>\n<!-- 46 -->\n<g id=\"node47\" class=\"node\">\n<title>46</title>\n<polygon fill=\"#e58139\" stroke=\"black\" points=\"1066.5,-655.5 956.5,-655.5 956.5,-587.5 1066.5,-587.5 1066.5,-655.5\"/>\n<text text-anchor=\"middle\" x=\"1011.5\" y=\"-640.3\" font-family=\"Helvetica,sans-Serif\" font-size=\"14.00\">entropy = 0.0</text>\n<text text-anchor=\"middle\" x=\"1011.5\" y=\"-625.3\" font-family=\"Helvetica,sans-Serif\" font-size=\"14.00\">samples = 2</text>\n<text text-anchor=\"middle\" x=\"1011.5\" y=\"-610.3\" font-family=\"Helvetica,sans-Serif\" font-size=\"14.00\">value = [2, 0, 0]</text>\n<text text-anchor=\"middle\" x=\"1011.5\" y=\"-595.3\" font-family=\"Helvetica,sans-Serif\" font-size=\"14.00\">class = 1</text>\n</g>\n<!-- 44&#45;&gt;46 -->\n<g id=\"edge46\" class=\"edge\">\n<title>44&#45;&gt;46</title>\n<path fill=\"none\" stroke=\"black\" d=\"M953.38,-698.91C962.02,-687.54 971.43,-675.18 980.1,-663.77\"/>\n<polygon fill=\"black\" stroke=\"black\" points=\"983,-665.74 986.27,-655.67 977.43,-661.51 983,-665.74\"/>\n</g>\n<!-- 48 -->\n<g id=\"node49\" class=\"node\">\n<title>48</title>\n<polygon fill=\"#39e581\" stroke=\"black\" points=\"1217,-655.5 1100,-655.5 1100,-587.5 1217,-587.5 1217,-655.5\"/>\n<text text-anchor=\"middle\" x=\"1158.5\" y=\"-640.3\" font-family=\"Helvetica,sans-Serif\" font-size=\"14.00\">entropy = 0.0</text>\n<text text-anchor=\"middle\" x=\"1158.5\" y=\"-625.3\" font-family=\"Helvetica,sans-Serif\" font-size=\"14.00\">samples = 18</text>\n<text text-anchor=\"middle\" x=\"1158.5\" y=\"-610.3\" font-family=\"Helvetica,sans-Serif\" font-size=\"14.00\">value = [0, 18, 0]</text>\n<text text-anchor=\"middle\" x=\"1158.5\" y=\"-595.3\" font-family=\"Helvetica,sans-Serif\" font-size=\"14.00\">class = 2</text>\n</g>\n<!-- 47&#45;&gt;48 -->\n<g id=\"edge48\" class=\"edge\">\n<title>47&#45;&gt;48</title>\n<path fill=\"none\" stroke=\"black\" d=\"M1163.72,-698.91C1162.99,-688.2 1162.2,-676.62 1161.46,-665.78\"/>\n<polygon fill=\"black\" stroke=\"black\" points=\"1164.94,-665.4 1160.77,-655.67 1157.96,-665.88 1164.94,-665.4\"/>\n</g>\n<!-- 49 -->\n<g id=\"node50\" class=\"node\">\n<title>49</title>\n<polygon fill=\"#ffffff\" stroke=\"black\" points=\"1404,-663 1235,-663 1235,-580 1404,-580 1404,-663\"/>\n<text text-anchor=\"middle\" x=\"1319.5\" y=\"-647.8\" font-family=\"Helvetica,sans-Serif\" font-size=\"14.00\">histogram_min &lt;= &#45;0.587</text>\n<text text-anchor=\"middle\" x=\"1319.5\" y=\"-632.8\" font-family=\"Helvetica,sans-Serif\" font-size=\"14.00\">entropy = 1.0</text>\n<text text-anchor=\"middle\" x=\"1319.5\" y=\"-617.8\" font-family=\"Helvetica,sans-Serif\" font-size=\"14.00\">samples = 2</text>\n<text text-anchor=\"middle\" x=\"1319.5\" y=\"-602.8\" font-family=\"Helvetica,sans-Serif\" font-size=\"14.00\">value = [1, 1, 0]</text>\n<text text-anchor=\"middle\" x=\"1319.5\" y=\"-587.8\" font-family=\"Helvetica,sans-Serif\" font-size=\"14.00\">class = 1</text>\n</g>\n<!-- 47&#45;&gt;49 -->\n<g id=\"edge49\" class=\"edge\">\n<title>47&#45;&gt;49</title>\n<path fill=\"none\" stroke=\"black\" d=\"M1219.58,-698.91C1232.04,-689.38 1245.42,-679.15 1258.21,-669.37\"/>\n<polygon fill=\"black\" stroke=\"black\" points=\"1260.69,-671.88 1266.51,-663.02 1256.44,-666.32 1260.69,-671.88\"/>\n</g>\n<!-- 50 -->\n<g id=\"node51\" class=\"node\">\n<title>50</title>\n<polygon fill=\"#39e581\" stroke=\"black\" points=\"1325.5,-536.5 1215.5,-536.5 1215.5,-468.5 1325.5,-468.5 1325.5,-536.5\"/>\n<text text-anchor=\"middle\" x=\"1270.5\" y=\"-521.3\" font-family=\"Helvetica,sans-Serif\" font-size=\"14.00\">entropy = 0.0</text>\n<text text-anchor=\"middle\" x=\"1270.5\" y=\"-506.3\" font-family=\"Helvetica,sans-Serif\" font-size=\"14.00\">samples = 1</text>\n<text text-anchor=\"middle\" x=\"1270.5\" y=\"-491.3\" font-family=\"Helvetica,sans-Serif\" font-size=\"14.00\">value = [0, 1, 0]</text>\n<text text-anchor=\"middle\" x=\"1270.5\" y=\"-476.3\" font-family=\"Helvetica,sans-Serif\" font-size=\"14.00\">class = 2</text>\n</g>\n<!-- 49&#45;&gt;50 -->\n<g id=\"edge50\" class=\"edge\">\n<title>49&#45;&gt;50</title>\n<path fill=\"none\" stroke=\"black\" d=\"M1302.5,-579.91C1297.92,-568.98 1292.96,-557.14 1288.34,-546.11\"/>\n<polygon fill=\"black\" stroke=\"black\" points=\"1291.48,-544.54 1284.39,-536.67 1285.03,-547.24 1291.48,-544.54\"/>\n</g>\n<!-- 51 -->\n<g id=\"node52\" class=\"node\">\n<title>51</title>\n<polygon fill=\"#e58139\" stroke=\"black\" points=\"1453.5,-536.5 1343.5,-536.5 1343.5,-468.5 1453.5,-468.5 1453.5,-536.5\"/>\n<text text-anchor=\"middle\" x=\"1398.5\" y=\"-521.3\" font-family=\"Helvetica,sans-Serif\" font-size=\"14.00\">entropy = 0.0</text>\n<text text-anchor=\"middle\" x=\"1398.5\" y=\"-506.3\" font-family=\"Helvetica,sans-Serif\" font-size=\"14.00\">samples = 1</text>\n<text text-anchor=\"middle\" x=\"1398.5\" y=\"-491.3\" font-family=\"Helvetica,sans-Serif\" font-size=\"14.00\">value = [1, 0, 0]</text>\n<text text-anchor=\"middle\" x=\"1398.5\" y=\"-476.3\" font-family=\"Helvetica,sans-Serif\" font-size=\"14.00\">class = 1</text>\n</g>\n<!-- 49&#45;&gt;51 -->\n<g id=\"edge51\" class=\"edge\">\n<title>49&#45;&gt;51</title>\n<path fill=\"none\" stroke=\"black\" d=\"M1346.91,-579.91C1354.51,-568.65 1362.77,-556.42 1370.41,-545.11\"/>\n<polygon fill=\"black\" stroke=\"black\" points=\"1373.41,-546.91 1376.11,-536.67 1367.61,-543 1373.41,-546.91\"/>\n</g>\n<!-- 53 -->\n<g id=\"node54\" class=\"node\">\n<title>53</title>\n<polygon fill=\"#e58139\" stroke=\"black\" points=\"1420.5,-774.5 1310.5,-774.5 1310.5,-706.5 1420.5,-706.5 1420.5,-774.5\"/>\n<text text-anchor=\"middle\" x=\"1365.5\" y=\"-759.3\" font-family=\"Helvetica,sans-Serif\" font-size=\"14.00\">entropy = 0.0</text>\n<text text-anchor=\"middle\" x=\"1365.5\" y=\"-744.3\" font-family=\"Helvetica,sans-Serif\" font-size=\"14.00\">samples = 3</text>\n<text text-anchor=\"middle\" x=\"1365.5\" y=\"-729.3\" font-family=\"Helvetica,sans-Serif\" font-size=\"14.00\">value = [3, 0, 0]</text>\n<text text-anchor=\"middle\" x=\"1365.5\" y=\"-714.3\" font-family=\"Helvetica,sans-Serif\" font-size=\"14.00\">class = 1</text>\n</g>\n<!-- 52&#45;&gt;53 -->\n<g id=\"edge53\" class=\"edge\">\n<title>52&#45;&gt;53</title>\n<path fill=\"none\" stroke=\"black\" d=\"M1365.5,-817.91C1365.5,-807.2 1365.5,-795.62 1365.5,-784.78\"/>\n<polygon fill=\"black\" stroke=\"black\" points=\"1369,-784.67 1365.5,-774.67 1362,-784.67 1369,-784.67\"/>\n</g>\n<!-- 54 -->\n<g id=\"node55\" class=\"node\">\n<title>54</title>\n<polygon fill=\"#39e581\" stroke=\"black\" points=\"1548.5,-774.5 1438.5,-774.5 1438.5,-706.5 1548.5,-706.5 1548.5,-774.5\"/>\n<text text-anchor=\"middle\" x=\"1493.5\" y=\"-759.3\" font-family=\"Helvetica,sans-Serif\" font-size=\"14.00\">entropy = 0.0</text>\n<text text-anchor=\"middle\" x=\"1493.5\" y=\"-744.3\" font-family=\"Helvetica,sans-Serif\" font-size=\"14.00\">samples = 1</text>\n<text text-anchor=\"middle\" x=\"1493.5\" y=\"-729.3\" font-family=\"Helvetica,sans-Serif\" font-size=\"14.00\">value = [0, 1, 0]</text>\n<text text-anchor=\"middle\" x=\"1493.5\" y=\"-714.3\" font-family=\"Helvetica,sans-Serif\" font-size=\"14.00\">class = 2</text>\n</g>\n<!-- 52&#45;&gt;54 -->\n<g id=\"edge54\" class=\"edge\">\n<title>52&#45;&gt;54</title>\n<path fill=\"none\" stroke=\"black\" d=\"M1409.91,-817.91C1422.83,-806.1 1436.92,-793.22 1449.79,-781.45\"/>\n<polygon fill=\"black\" stroke=\"black\" points=\"1452.2,-784 1457.21,-774.67 1447.47,-778.83 1452.2,-784\"/>\n</g>\n<!-- 57 -->\n<g id=\"node58\" class=\"node\">\n<title>57</title>\n<polygon fill=\"#eda673\" stroke=\"black\" points=\"1742.5,-1020 1574.5,-1020 1574.5,-937 1742.5,-937 1742.5,-1020\"/>\n<text text-anchor=\"middle\" x=\"1658.5\" y=\"-1004.8\" font-family=\"Helvetica,sans-Serif\" font-size=\"14.00\">histogram_max &lt;= 0.147</text>\n<text text-anchor=\"middle\" x=\"1658.5\" y=\"-989.8\" font-family=\"Helvetica,sans-Serif\" font-size=\"14.00\">entropy = 0.773</text>\n<text text-anchor=\"middle\" x=\"1658.5\" y=\"-974.8\" font-family=\"Helvetica,sans-Serif\" font-size=\"14.00\">samples = 44</text>\n<text text-anchor=\"middle\" x=\"1658.5\" y=\"-959.8\" font-family=\"Helvetica,sans-Serif\" font-size=\"14.00\">value = [34, 10, 0]</text>\n<text text-anchor=\"middle\" x=\"1658.5\" y=\"-944.8\" font-family=\"Helvetica,sans-Serif\" font-size=\"14.00\">class = 1</text>\n</g>\n<!-- 56&#45;&gt;57 -->\n<g id=\"edge57\" class=\"edge\">\n<title>56&#45;&gt;57</title>\n<path fill=\"none\" stroke=\"black\" d=\"M1661.11,-1055.91C1660.83,-1047.56 1660.52,-1038.67 1660.23,-1030.02\"/>\n<polygon fill=\"black\" stroke=\"black\" points=\"1663.73,-1029.9 1659.89,-1020.02 1656.73,-1030.13 1663.73,-1029.9\"/>\n</g>\n<!-- 72 -->\n<g id=\"node73\" class=\"node\">\n<title>72</title>\n<polygon fill=\"#6aeca0\" stroke=\"black\" points=\"2182.5,-1020 1760.5,-1020 1760.5,-937 2182.5,-937 2182.5,-1020\"/>\n<text text-anchor=\"middle\" x=\"1971.5\" y=\"-1004.8\" font-family=\"Helvetica,sans-Serif\" font-size=\"14.00\">percentage_of_time_with_abnormal_long_term_variability &lt;= 3.342</text>\n<text text-anchor=\"middle\" x=\"1971.5\" y=\"-989.8\" font-family=\"Helvetica,sans-Serif\" font-size=\"14.00\">entropy = 0.722</text>\n<text text-anchor=\"middle\" x=\"1971.5\" y=\"-974.8\" font-family=\"Helvetica,sans-Serif\" font-size=\"14.00\">samples = 5</text>\n<text text-anchor=\"middle\" x=\"1971.5\" y=\"-959.8\" font-family=\"Helvetica,sans-Serif\" font-size=\"14.00\">value = [0, 4, 1]</text>\n<text text-anchor=\"middle\" x=\"1971.5\" y=\"-944.8\" font-family=\"Helvetica,sans-Serif\" font-size=\"14.00\">class = 2</text>\n</g>\n<!-- 56&#45;&gt;72 -->\n<g id=\"edge72\" class=\"edge\">\n<title>56&#45;&gt;72</title>\n<path fill=\"none\" stroke=\"black\" d=\"M1769.71,-1055.91C1797.27,-1045.47 1827.05,-1034.19 1855.06,-1023.59\"/>\n<polygon fill=\"black\" stroke=\"black\" points=\"1856.37,-1026.84 1864.48,-1020.02 1853.89,-1020.29 1856.37,-1026.84\"/>\n</g>\n<!-- 58 -->\n<g id=\"node59\" class=\"node\">\n<title>58</title>\n<polygon fill=\"#e58139\" stroke=\"black\" points=\"1581,-893.5 1464,-893.5 1464,-825.5 1581,-825.5 1581,-893.5\"/>\n<text text-anchor=\"middle\" x=\"1522.5\" y=\"-878.3\" font-family=\"Helvetica,sans-Serif\" font-size=\"14.00\">entropy = 0.0</text>\n<text text-anchor=\"middle\" x=\"1522.5\" y=\"-863.3\" font-family=\"Helvetica,sans-Serif\" font-size=\"14.00\">samples = 18</text>\n<text text-anchor=\"middle\" x=\"1522.5\" y=\"-848.3\" font-family=\"Helvetica,sans-Serif\" font-size=\"14.00\">value = [18, 0, 0]</text>\n<text text-anchor=\"middle\" x=\"1522.5\" y=\"-833.3\" font-family=\"Helvetica,sans-Serif\" font-size=\"14.00\">class = 1</text>\n</g>\n<!-- 57&#45;&gt;58 -->\n<g id=\"edge58\" class=\"edge\">\n<title>57&#45;&gt;58</title>\n<path fill=\"none\" stroke=\"black\" d=\"M1611.32,-936.91C1597.59,-925.1 1582.61,-912.22 1568.94,-900.45\"/>\n<polygon fill=\"black\" stroke=\"black\" points=\"1570.92,-897.54 1561.05,-893.67 1566.35,-902.84 1570.92,-897.54\"/>\n</g>\n<!-- 59 -->\n<g id=\"node60\" class=\"node\">\n<title>59</title>\n<polygon fill=\"#f5d0b5\" stroke=\"black\" points=\"1898,-901 1599,-901 1599,-818 1898,-818 1898,-901\"/>\n<text text-anchor=\"middle\" x=\"1748.5\" y=\"-885.8\" font-family=\"Helvetica,sans-Serif\" font-size=\"14.00\">mean_value_of_long_term_variability &lt;= 0.148</text>\n<text text-anchor=\"middle\" x=\"1748.5\" y=\"-870.8\" font-family=\"Helvetica,sans-Serif\" font-size=\"14.00\">entropy = 0.961</text>\n<text text-anchor=\"middle\" x=\"1748.5\" y=\"-855.8\" font-family=\"Helvetica,sans-Serif\" font-size=\"14.00\">samples = 26</text>\n<text text-anchor=\"middle\" x=\"1748.5\" y=\"-840.8\" font-family=\"Helvetica,sans-Serif\" font-size=\"14.00\">value = [16, 10, 0]</text>\n<text text-anchor=\"middle\" x=\"1748.5\" y=\"-825.8\" font-family=\"Helvetica,sans-Serif\" font-size=\"14.00\">class = 1</text>\n</g>\n<!-- 57&#45;&gt;59 -->\n<g id=\"edge59\" class=\"edge\">\n<title>57&#45;&gt;59</title>\n<path fill=\"none\" stroke=\"black\" d=\"M1689.73,-936.91C1696.64,-927.92 1704.03,-918.32 1711.15,-909.05\"/>\n<polygon fill=\"black\" stroke=\"black\" points=\"1714.01,-911.08 1717.33,-901.02 1708.46,-906.81 1714.01,-911.08\"/>\n</g>\n<!-- 60 -->\n<g id=\"node61\" class=\"node\">\n<title>60</title>\n<polygon fill=\"#eca572\" stroke=\"black\" points=\"1834.5,-782 1658.5,-782 1658.5,-699 1834.5,-699 1834.5,-782\"/>\n<text text-anchor=\"middle\" x=\"1746.5\" y=\"-766.8\" font-family=\"Helvetica,sans-Serif\" font-size=\"14.00\">histogram_mean &lt;= 1.455</text>\n<text text-anchor=\"middle\" x=\"1746.5\" y=\"-751.8\" font-family=\"Helvetica,sans-Serif\" font-size=\"14.00\">entropy = 0.764</text>\n<text text-anchor=\"middle\" x=\"1746.5\" y=\"-736.8\" font-family=\"Helvetica,sans-Serif\" font-size=\"14.00\">samples = 18</text>\n<text text-anchor=\"middle\" x=\"1746.5\" y=\"-721.8\" font-family=\"Helvetica,sans-Serif\" font-size=\"14.00\">value = [14, 4, 0]</text>\n<text text-anchor=\"middle\" x=\"1746.5\" y=\"-706.8\" font-family=\"Helvetica,sans-Serif\" font-size=\"14.00\">class = 1</text>\n</g>\n<!-- 59&#45;&gt;60 -->\n<g id=\"edge60\" class=\"edge\">\n<title>59&#45;&gt;60</title>\n<path fill=\"none\" stroke=\"black\" d=\"M1747.81,-817.91C1747.66,-809.56 1747.51,-800.67 1747.36,-792.02\"/>\n<polygon fill=\"black\" stroke=\"black\" points=\"1750.86,-791.96 1747.19,-782.02 1743.86,-792.08 1750.86,-791.96\"/>\n</g>\n<!-- 69 -->\n<g id=\"node70\" class=\"node\">\n<title>69</title>\n<polygon fill=\"#7beeab\" stroke=\"black\" points=\"2152,-782 1853,-782 1853,-699 2152,-699 2152,-782\"/>\n<text text-anchor=\"middle\" x=\"2002.5\" y=\"-766.8\" font-family=\"Helvetica,sans-Serif\" font-size=\"14.00\">mean_value_of_long_term_variability &lt;= 0.826</text>\n<text text-anchor=\"middle\" x=\"2002.5\" y=\"-751.8\" font-family=\"Helvetica,sans-Serif\" font-size=\"14.00\">entropy = 0.811</text>\n<text text-anchor=\"middle\" x=\"2002.5\" y=\"-736.8\" font-family=\"Helvetica,sans-Serif\" font-size=\"14.00\">samples = 8</text>\n<text text-anchor=\"middle\" x=\"2002.5\" y=\"-721.8\" font-family=\"Helvetica,sans-Serif\" font-size=\"14.00\">value = [2, 6, 0]</text>\n<text text-anchor=\"middle\" x=\"2002.5\" y=\"-706.8\" font-family=\"Helvetica,sans-Serif\" font-size=\"14.00\">class = 2</text>\n</g>\n<!-- 59&#45;&gt;69 -->\n<g id=\"edge69\" class=\"edge\">\n<title>59&#45;&gt;69</title>\n<path fill=\"none\" stroke=\"black\" d=\"M1836.62,-817.91C1858.79,-807.7 1882.7,-796.68 1905.28,-786.28\"/>\n<polygon fill=\"black\" stroke=\"black\" points=\"1906.91,-789.38 1914.53,-782.02 1903.98,-783.03 1906.91,-789.38\"/>\n</g>\n<!-- 61 -->\n<g id=\"node62\" class=\"node\">\n<title>61</title>\n<polygon fill=\"#e58139\" stroke=\"black\" points=\"1650.5,-655.5 1540.5,-655.5 1540.5,-587.5 1650.5,-587.5 1650.5,-655.5\"/>\n<text text-anchor=\"middle\" x=\"1595.5\" y=\"-640.3\" font-family=\"Helvetica,sans-Serif\" font-size=\"14.00\">entropy = 0.0</text>\n<text text-anchor=\"middle\" x=\"1595.5\" y=\"-625.3\" font-family=\"Helvetica,sans-Serif\" font-size=\"14.00\">samples = 7</text>\n<text text-anchor=\"middle\" x=\"1595.5\" y=\"-610.3\" font-family=\"Helvetica,sans-Serif\" font-size=\"14.00\">value = [7, 0, 0]</text>\n<text text-anchor=\"middle\" x=\"1595.5\" y=\"-595.3\" font-family=\"Helvetica,sans-Serif\" font-size=\"14.00\">class = 1</text>\n</g>\n<!-- 60&#45;&gt;61 -->\n<g id=\"edge61\" class=\"edge\">\n<title>60&#45;&gt;61</title>\n<path fill=\"none\" stroke=\"black\" d=\"M1694.11,-698.91C1678.73,-686.99 1661.93,-673.98 1646.63,-662.12\"/>\n<polygon fill=\"black\" stroke=\"black\" points=\"1648.35,-659.03 1638.31,-655.67 1644.07,-664.56 1648.35,-659.03\"/>\n</g>\n<!-- 62 -->\n<g id=\"node63\" class=\"node\">\n<title>62</title>\n<polygon fill=\"#f4c9aa\" stroke=\"black\" points=\"1866,-663 1669,-663 1669,-580 1866,-580 1866,-663\"/>\n<text text-anchor=\"middle\" x=\"1767.5\" y=\"-647.8\" font-family=\"Helvetica,sans-Serif\" font-size=\"14.00\">histogram_variance &lt;= &#45;0.479</text>\n<text text-anchor=\"middle\" x=\"1767.5\" y=\"-632.8\" font-family=\"Helvetica,sans-Serif\" font-size=\"14.00\">entropy = 0.946</text>\n<text text-anchor=\"middle\" x=\"1767.5\" y=\"-617.8\" font-family=\"Helvetica,sans-Serif\" font-size=\"14.00\">samples = 11</text>\n<text text-anchor=\"middle\" x=\"1767.5\" y=\"-602.8\" font-family=\"Helvetica,sans-Serif\" font-size=\"14.00\">value = [7, 4, 0]</text>\n<text text-anchor=\"middle\" x=\"1767.5\" y=\"-587.8\" font-family=\"Helvetica,sans-Serif\" font-size=\"14.00\">class = 1</text>\n</g>\n<!-- 60&#45;&gt;62 -->\n<g id=\"edge62\" class=\"edge\">\n<title>60&#45;&gt;62</title>\n<path fill=\"none\" stroke=\"black\" d=\"M1753.79,-698.91C1755.28,-690.56 1756.88,-681.67 1758.43,-673.02\"/>\n<polygon fill=\"black\" stroke=\"black\" points=\"1761.91,-673.48 1760.23,-663.02 1755.02,-672.25 1761.91,-673.48\"/>\n</g>\n<!-- 63 -->\n<g id=\"node64\" class=\"node\">\n<title>63</title>\n<polygon fill=\"#eca572\" stroke=\"black\" points=\"1742.5,-544 1474.5,-544 1474.5,-461 1742.5,-461 1742.5,-544\"/>\n<text text-anchor=\"middle\" x=\"1608.5\" y=\"-528.8\" font-family=\"Helvetica,sans-Serif\" font-size=\"14.00\">abnormal_short_term_variability &lt;= 0.258</text>\n<text text-anchor=\"middle\" x=\"1608.5\" y=\"-513.8\" font-family=\"Helvetica,sans-Serif\" font-size=\"14.00\">entropy = 0.764</text>\n<text text-anchor=\"middle\" x=\"1608.5\" y=\"-498.8\" font-family=\"Helvetica,sans-Serif\" font-size=\"14.00\">samples = 9</text>\n<text text-anchor=\"middle\" x=\"1608.5\" y=\"-483.8\" font-family=\"Helvetica,sans-Serif\" font-size=\"14.00\">value = [7, 2, 0]</text>\n<text text-anchor=\"middle\" x=\"1608.5\" y=\"-468.8\" font-family=\"Helvetica,sans-Serif\" font-size=\"14.00\">class = 1</text>\n</g>\n<!-- 62&#45;&gt;63 -->\n<g id=\"edge63\" class=\"edge\">\n<title>62&#45;&gt;63</title>\n<path fill=\"none\" stroke=\"black\" d=\"M1712.34,-579.91C1699.26,-570.29 1685.22,-559.95 1671.82,-550.09\"/>\n<polygon fill=\"black\" stroke=\"black\" points=\"1673.7,-547.13 1663.57,-544.02 1669.55,-552.77 1673.7,-547.13\"/>\n</g>\n<!-- 68 -->\n<g id=\"node69\" class=\"node\">\n<title>68</title>\n<polygon fill=\"#39e581\" stroke=\"black\" points=\"1870.5,-536.5 1760.5,-536.5 1760.5,-468.5 1870.5,-468.5 1870.5,-536.5\"/>\n<text text-anchor=\"middle\" x=\"1815.5\" y=\"-521.3\" font-family=\"Helvetica,sans-Serif\" font-size=\"14.00\">entropy = 0.0</text>\n<text text-anchor=\"middle\" x=\"1815.5\" y=\"-506.3\" font-family=\"Helvetica,sans-Serif\" font-size=\"14.00\">samples = 2</text>\n<text text-anchor=\"middle\" x=\"1815.5\" y=\"-491.3\" font-family=\"Helvetica,sans-Serif\" font-size=\"14.00\">value = [0, 2, 0]</text>\n<text text-anchor=\"middle\" x=\"1815.5\" y=\"-476.3\" font-family=\"Helvetica,sans-Serif\" font-size=\"14.00\">class = 2</text>\n</g>\n<!-- 62&#45;&gt;68 -->\n<g id=\"edge68\" class=\"edge\">\n<title>62&#45;&gt;68</title>\n<path fill=\"none\" stroke=\"black\" d=\"M1784.15,-579.91C1788.64,-568.98 1793.5,-557.14 1798.02,-546.11\"/>\n<polygon fill=\"black\" stroke=\"black\" points=\"1801.34,-547.25 1801.89,-536.67 1794.86,-544.59 1801.34,-547.25\"/>\n</g>\n<!-- 64 -->\n<g id=\"node65\" class=\"node\">\n<title>64</title>\n<polygon fill=\"#9cf2c0\" stroke=\"black\" points=\"1612.5,-425 1448.5,-425 1448.5,-342 1612.5,-342 1612.5,-425\"/>\n<text text-anchor=\"middle\" x=\"1530.5\" y=\"-409.8\" font-family=\"Helvetica,sans-Serif\" font-size=\"14.00\">histogram_min &lt;= 1.795</text>\n<text text-anchor=\"middle\" x=\"1530.5\" y=\"-394.8\" font-family=\"Helvetica,sans-Serif\" font-size=\"14.00\">entropy = 0.918</text>\n<text text-anchor=\"middle\" x=\"1530.5\" y=\"-379.8\" font-family=\"Helvetica,sans-Serif\" font-size=\"14.00\">samples = 3</text>\n<text text-anchor=\"middle\" x=\"1530.5\" y=\"-364.8\" font-family=\"Helvetica,sans-Serif\" font-size=\"14.00\">value = [1, 2, 0]</text>\n<text text-anchor=\"middle\" x=\"1530.5\" y=\"-349.8\" font-family=\"Helvetica,sans-Serif\" font-size=\"14.00\">class = 2</text>\n</g>\n<!-- 63&#45;&gt;64 -->\n<g id=\"edge64\" class=\"edge\">\n<title>63&#45;&gt;64</title>\n<path fill=\"none\" stroke=\"black\" d=\"M1581.44,-460.91C1575.57,-452.1 1569.3,-442.7 1563.24,-433.61\"/>\n<polygon fill=\"black\" stroke=\"black\" points=\"1565.97,-431.4 1557.51,-425.02 1560.15,-435.28 1565.97,-431.4\"/>\n</g>\n<!-- 67 -->\n<g id=\"node68\" class=\"node\">\n<title>67</title>\n<polygon fill=\"#e58139\" stroke=\"black\" points=\"1740.5,-417.5 1630.5,-417.5 1630.5,-349.5 1740.5,-349.5 1740.5,-417.5\"/>\n<text text-anchor=\"middle\" x=\"1685.5\" y=\"-402.3\" font-family=\"Helvetica,sans-Serif\" font-size=\"14.00\">entropy = 0.0</text>\n<text text-anchor=\"middle\" x=\"1685.5\" y=\"-387.3\" font-family=\"Helvetica,sans-Serif\" font-size=\"14.00\">samples = 6</text>\n<text text-anchor=\"middle\" x=\"1685.5\" y=\"-372.3\" font-family=\"Helvetica,sans-Serif\" font-size=\"14.00\">value = [6, 0, 0]</text>\n<text text-anchor=\"middle\" x=\"1685.5\" y=\"-357.3\" font-family=\"Helvetica,sans-Serif\" font-size=\"14.00\">class = 1</text>\n</g>\n<!-- 63&#45;&gt;67 -->\n<g id=\"edge67\" class=\"edge\">\n<title>63&#45;&gt;67</title>\n<path fill=\"none\" stroke=\"black\" d=\"M1635.21,-460.91C1642.62,-449.65 1650.67,-437.42 1658.12,-426.11\"/>\n<polygon fill=\"black\" stroke=\"black\" points=\"1661.1,-427.94 1663.67,-417.67 1655.25,-424.1 1661.1,-427.94\"/>\n</g>\n<!-- 65 -->\n<g id=\"node66\" class=\"node\">\n<title>65</title>\n<polygon fill=\"#e58139\" stroke=\"black\" points=\"1521.5,-298.5 1411.5,-298.5 1411.5,-230.5 1521.5,-230.5 1521.5,-298.5\"/>\n<text text-anchor=\"middle\" x=\"1466.5\" y=\"-283.3\" font-family=\"Helvetica,sans-Serif\" font-size=\"14.00\">entropy = 0.0</text>\n<text text-anchor=\"middle\" x=\"1466.5\" y=\"-268.3\" font-family=\"Helvetica,sans-Serif\" font-size=\"14.00\">samples = 1</text>\n<text text-anchor=\"middle\" x=\"1466.5\" y=\"-253.3\" font-family=\"Helvetica,sans-Serif\" font-size=\"14.00\">value = [1, 0, 0]</text>\n<text text-anchor=\"middle\" x=\"1466.5\" y=\"-238.3\" font-family=\"Helvetica,sans-Serif\" font-size=\"14.00\">class = 1</text>\n</g>\n<!-- 64&#45;&gt;65 -->\n<g id=\"edge65\" class=\"edge\">\n<title>64&#45;&gt;65</title>\n<path fill=\"none\" stroke=\"black\" d=\"M1508.3,-341.91C1502.26,-330.87 1495.71,-318.9 1489.62,-307.77\"/>\n<polygon fill=\"black\" stroke=\"black\" points=\"1492.51,-305.76 1484.64,-298.67 1486.37,-309.12 1492.51,-305.76\"/>\n</g>\n<!-- 66 -->\n<g id=\"node67\" class=\"node\">\n<title>66</title>\n<polygon fill=\"#39e581\" stroke=\"black\" points=\"1649.5,-298.5 1539.5,-298.5 1539.5,-230.5 1649.5,-230.5 1649.5,-298.5\"/>\n<text text-anchor=\"middle\" x=\"1594.5\" y=\"-283.3\" font-family=\"Helvetica,sans-Serif\" font-size=\"14.00\">entropy = 0.0</text>\n<text text-anchor=\"middle\" x=\"1594.5\" y=\"-268.3\" font-family=\"Helvetica,sans-Serif\" font-size=\"14.00\">samples = 2</text>\n<text text-anchor=\"middle\" x=\"1594.5\" y=\"-253.3\" font-family=\"Helvetica,sans-Serif\" font-size=\"14.00\">value = [0, 2, 0]</text>\n<text text-anchor=\"middle\" x=\"1594.5\" y=\"-238.3\" font-family=\"Helvetica,sans-Serif\" font-size=\"14.00\">class = 2</text>\n</g>\n<!-- 64&#45;&gt;66 -->\n<g id=\"edge66\" class=\"edge\">\n<title>64&#45;&gt;66</title>\n<path fill=\"none\" stroke=\"black\" d=\"M1552.7,-341.91C1558.74,-330.87 1565.29,-318.9 1571.38,-307.77\"/>\n<polygon fill=\"black\" stroke=\"black\" points=\"1574.63,-309.12 1576.36,-298.67 1568.49,-305.76 1574.63,-309.12\"/>\n</g>\n<!-- 70 -->\n<g id=\"node71\" class=\"node\">\n<title>70</title>\n<polygon fill=\"#39e581\" stroke=\"black\" points=\"2036.5,-655.5 1926.5,-655.5 1926.5,-587.5 2036.5,-587.5 2036.5,-655.5\"/>\n<text text-anchor=\"middle\" x=\"1981.5\" y=\"-640.3\" font-family=\"Helvetica,sans-Serif\" font-size=\"14.00\">entropy = 0.0</text>\n<text text-anchor=\"middle\" x=\"1981.5\" y=\"-625.3\" font-family=\"Helvetica,sans-Serif\" font-size=\"14.00\">samples = 6</text>\n<text text-anchor=\"middle\" x=\"1981.5\" y=\"-610.3\" font-family=\"Helvetica,sans-Serif\" font-size=\"14.00\">value = [0, 6, 0]</text>\n<text text-anchor=\"middle\" x=\"1981.5\" y=\"-595.3\" font-family=\"Helvetica,sans-Serif\" font-size=\"14.00\">class = 2</text>\n</g>\n<!-- 69&#45;&gt;70 -->\n<g id=\"edge70\" class=\"edge\">\n<title>69&#45;&gt;70</title>\n<path fill=\"none\" stroke=\"black\" d=\"M1995.21,-698.91C1993.29,-688.2 1991.21,-676.62 1989.27,-665.78\"/>\n<polygon fill=\"black\" stroke=\"black\" points=\"1992.66,-664.89 1987.45,-655.67 1985.77,-666.13 1992.66,-664.89\"/>\n</g>\n<!-- 71 -->\n<g id=\"node72\" class=\"node\">\n<title>71</title>\n<polygon fill=\"#e58139\" stroke=\"black\" points=\"2164.5,-655.5 2054.5,-655.5 2054.5,-587.5 2164.5,-587.5 2164.5,-655.5\"/>\n<text text-anchor=\"middle\" x=\"2109.5\" y=\"-640.3\" font-family=\"Helvetica,sans-Serif\" font-size=\"14.00\">entropy = 0.0</text>\n<text text-anchor=\"middle\" x=\"2109.5\" y=\"-625.3\" font-family=\"Helvetica,sans-Serif\" font-size=\"14.00\">samples = 2</text>\n<text text-anchor=\"middle\" x=\"2109.5\" y=\"-610.3\" font-family=\"Helvetica,sans-Serif\" font-size=\"14.00\">value = [2, 0, 0]</text>\n<text text-anchor=\"middle\" x=\"2109.5\" y=\"-595.3\" font-family=\"Helvetica,sans-Serif\" font-size=\"14.00\">class = 1</text>\n</g>\n<!-- 69&#45;&gt;71 -->\n<g id=\"edge71\" class=\"edge\">\n<title>69&#45;&gt;71</title>\n<path fill=\"none\" stroke=\"black\" d=\"M2039.62,-698.91C2050.22,-687.32 2061.76,-674.7 2072.36,-663.11\"/>\n<polygon fill=\"black\" stroke=\"black\" points=\"2075,-665.41 2079.17,-655.67 2069.84,-660.68 2075,-665.41\"/>\n</g>\n<!-- 73 -->\n<g id=\"node74\" class=\"node\">\n<title>73</title>\n<polygon fill=\"#39e581\" stroke=\"black\" points=\"2026.5,-893.5 1916.5,-893.5 1916.5,-825.5 2026.5,-825.5 2026.5,-893.5\"/>\n<text text-anchor=\"middle\" x=\"1971.5\" y=\"-878.3\" font-family=\"Helvetica,sans-Serif\" font-size=\"14.00\">entropy = 0.0</text>\n<text text-anchor=\"middle\" x=\"1971.5\" y=\"-863.3\" font-family=\"Helvetica,sans-Serif\" font-size=\"14.00\">samples = 4</text>\n<text text-anchor=\"middle\" x=\"1971.5\" y=\"-848.3\" font-family=\"Helvetica,sans-Serif\" font-size=\"14.00\">value = [0, 4, 0]</text>\n<text text-anchor=\"middle\" x=\"1971.5\" y=\"-833.3\" font-family=\"Helvetica,sans-Serif\" font-size=\"14.00\">class = 2</text>\n</g>\n<!-- 72&#45;&gt;73 -->\n<g id=\"edge73\" class=\"edge\">\n<title>72&#45;&gt;73</title>\n<path fill=\"none\" stroke=\"black\" d=\"M1971.5,-936.91C1971.5,-926.2 1971.5,-914.62 1971.5,-903.78\"/>\n<polygon fill=\"black\" stroke=\"black\" points=\"1975,-903.67 1971.5,-893.67 1968,-903.67 1975,-903.67\"/>\n</g>\n<!-- 74 -->\n<g id=\"node75\" class=\"node\">\n<title>74</title>\n<polygon fill=\"#8139e5\" stroke=\"black\" points=\"2154.5,-893.5 2044.5,-893.5 2044.5,-825.5 2154.5,-825.5 2154.5,-893.5\"/>\n<text text-anchor=\"middle\" x=\"2099.5\" y=\"-878.3\" font-family=\"Helvetica,sans-Serif\" font-size=\"14.00\">entropy = 0.0</text>\n<text text-anchor=\"middle\" x=\"2099.5\" y=\"-863.3\" font-family=\"Helvetica,sans-Serif\" font-size=\"14.00\">samples = 1</text>\n<text text-anchor=\"middle\" x=\"2099.5\" y=\"-848.3\" font-family=\"Helvetica,sans-Serif\" font-size=\"14.00\">value = [0, 0, 1]</text>\n<text text-anchor=\"middle\" x=\"2099.5\" y=\"-833.3\" font-family=\"Helvetica,sans-Serif\" font-size=\"14.00\">class = 3</text>\n</g>\n<!-- 72&#45;&gt;74 -->\n<g id=\"edge74\" class=\"edge\">\n<title>72&#45;&gt;74</title>\n<path fill=\"none\" stroke=\"black\" d=\"M2015.91,-936.91C2028.83,-925.1 2042.92,-912.22 2055.79,-900.45\"/>\n<polygon fill=\"black\" stroke=\"black\" points=\"2058.2,-903 2063.21,-893.67 2053.47,-897.83 2058.2,-903\"/>\n</g>\n<!-- 76 -->\n<g id=\"node77\" class=\"node\">\n<title>76</title>\n<polygon fill=\"#ffffff\" stroke=\"black\" points=\"2059,-1258 1872,-1258 1872,-1175 2059,-1175 2059,-1258\"/>\n<text text-anchor=\"middle\" x=\"1965.5\" y=\"-1242.8\" font-family=\"Helvetica,sans-Serif\" font-size=\"14.00\">histogram_median &lt;= 0.383</text>\n<text text-anchor=\"middle\" x=\"1965.5\" y=\"-1227.8\" font-family=\"Helvetica,sans-Serif\" font-size=\"14.00\">entropy = 1.0</text>\n<text text-anchor=\"middle\" x=\"1965.5\" y=\"-1212.8\" font-family=\"Helvetica,sans-Serif\" font-size=\"14.00\">samples = 4</text>\n<text text-anchor=\"middle\" x=\"1965.5\" y=\"-1197.8\" font-family=\"Helvetica,sans-Serif\" font-size=\"14.00\">value = [2, 2, 0]</text>\n<text text-anchor=\"middle\" x=\"1965.5\" y=\"-1182.8\" font-family=\"Helvetica,sans-Serif\" font-size=\"14.00\">class = 1</text>\n</g>\n<!-- 75&#45;&gt;76 -->\n<g id=\"edge76\" class=\"edge\">\n<title>75&#45;&gt;76</title>\n<path fill=\"none\" stroke=\"black\" d=\"M1965.5,-1293.91C1965.5,-1285.65 1965.5,-1276.86 1965.5,-1268.3\"/>\n<polygon fill=\"black\" stroke=\"black\" points=\"1969,-1268.02 1965.5,-1258.02 1962,-1268.02 1969,-1268.02\"/>\n</g>\n<!-- 79 -->\n<g id=\"node80\" class=\"node\">\n<title>79</title>\n<polygon fill=\"#e5813a\" stroke=\"black\" points=\"2325.5,-1258 2095.5,-1258 2095.5,-1175 2325.5,-1175 2325.5,-1258\"/>\n<text text-anchor=\"middle\" x=\"2210.5\" y=\"-1242.8\" font-family=\"Helvetica,sans-Serif\" font-size=\"14.00\">prolongued_decelerations &lt;= 0.533</text>\n<text text-anchor=\"middle\" x=\"2210.5\" y=\"-1227.8\" font-family=\"Helvetica,sans-Serif\" font-size=\"14.00\">entropy = 0.033</text>\n<text text-anchor=\"middle\" x=\"2210.5\" y=\"-1212.8\" font-family=\"Helvetica,sans-Serif\" font-size=\"14.00\">samples = 578</text>\n<text text-anchor=\"middle\" x=\"2210.5\" y=\"-1197.8\" font-family=\"Helvetica,sans-Serif\" font-size=\"14.00\">value = [576, 2, 0]</text>\n<text text-anchor=\"middle\" x=\"2210.5\" y=\"-1182.8\" font-family=\"Helvetica,sans-Serif\" font-size=\"14.00\">class = 1</text>\n</g>\n<!-- 75&#45;&gt;79 -->\n<g id=\"edge79\" class=\"edge\">\n<title>75&#45;&gt;79</title>\n<path fill=\"none\" stroke=\"black\" d=\"M2050.5,-1293.91C2071.79,-1283.74 2094.74,-1272.78 2116.44,-1262.42\"/>\n<polygon fill=\"black\" stroke=\"black\" points=\"2118.13,-1265.49 2125.65,-1258.02 2115.12,-1259.17 2118.13,-1265.49\"/>\n</g>\n<!-- 77 -->\n<g id=\"node78\" class=\"node\">\n<title>77</title>\n<polygon fill=\"#e58139\" stroke=\"black\" points=\"2001.5,-1131.5 1891.5,-1131.5 1891.5,-1063.5 2001.5,-1063.5 2001.5,-1131.5\"/>\n<text text-anchor=\"middle\" x=\"1946.5\" y=\"-1116.3\" font-family=\"Helvetica,sans-Serif\" font-size=\"14.00\">entropy = 0.0</text>\n<text text-anchor=\"middle\" x=\"1946.5\" y=\"-1101.3\" font-family=\"Helvetica,sans-Serif\" font-size=\"14.00\">samples = 2</text>\n<text text-anchor=\"middle\" x=\"1946.5\" y=\"-1086.3\" font-family=\"Helvetica,sans-Serif\" font-size=\"14.00\">value = [2, 0, 0]</text>\n<text text-anchor=\"middle\" x=\"1946.5\" y=\"-1071.3\" font-family=\"Helvetica,sans-Serif\" font-size=\"14.00\">class = 1</text>\n</g>\n<!-- 76&#45;&gt;77 -->\n<g id=\"edge77\" class=\"edge\">\n<title>76&#45;&gt;77</title>\n<path fill=\"none\" stroke=\"black\" d=\"M1958.91,-1174.91C1957.17,-1164.2 1955.29,-1152.62 1953.53,-1141.78\"/>\n<polygon fill=\"black\" stroke=\"black\" points=\"1956.94,-1140.98 1951.89,-1131.67 1950.03,-1142.1 1956.94,-1140.98\"/>\n</g>\n<!-- 78 -->\n<g id=\"node79\" class=\"node\">\n<title>78</title>\n<polygon fill=\"#39e581\" stroke=\"black\" points=\"2129.5,-1131.5 2019.5,-1131.5 2019.5,-1063.5 2129.5,-1063.5 2129.5,-1131.5\"/>\n<text text-anchor=\"middle\" x=\"2074.5\" y=\"-1116.3\" font-family=\"Helvetica,sans-Serif\" font-size=\"14.00\">entropy = 0.0</text>\n<text text-anchor=\"middle\" x=\"2074.5\" y=\"-1101.3\" font-family=\"Helvetica,sans-Serif\" font-size=\"14.00\">samples = 2</text>\n<text text-anchor=\"middle\" x=\"2074.5\" y=\"-1086.3\" font-family=\"Helvetica,sans-Serif\" font-size=\"14.00\">value = [0, 2, 0]</text>\n<text text-anchor=\"middle\" x=\"2074.5\" y=\"-1071.3\" font-family=\"Helvetica,sans-Serif\" font-size=\"14.00\">class = 2</text>\n</g>\n<!-- 76&#45;&gt;78 -->\n<g id=\"edge78\" class=\"edge\">\n<title>76&#45;&gt;78</title>\n<path fill=\"none\" stroke=\"black\" d=\"M2003.32,-1174.91C2014.11,-1163.32 2025.87,-1150.7 2036.67,-1139.11\"/>\n<polygon fill=\"black\" stroke=\"black\" points=\"2039.35,-1141.37 2043.6,-1131.67 2034.22,-1136.6 2039.35,-1141.37\"/>\n</g>\n<!-- 80 -->\n<g id=\"node81\" class=\"node\">\n<title>80</title>\n<polygon fill=\"#e58139\" stroke=\"black\" points=\"2273,-1131.5 2148,-1131.5 2148,-1063.5 2273,-1063.5 2273,-1131.5\"/>\n<text text-anchor=\"middle\" x=\"2210.5\" y=\"-1116.3\" font-family=\"Helvetica,sans-Serif\" font-size=\"14.00\">entropy = 0.0</text>\n<text text-anchor=\"middle\" x=\"2210.5\" y=\"-1101.3\" font-family=\"Helvetica,sans-Serif\" font-size=\"14.00\">samples = 553</text>\n<text text-anchor=\"middle\" x=\"2210.5\" y=\"-1086.3\" font-family=\"Helvetica,sans-Serif\" font-size=\"14.00\">value = [553, 0, 0]</text>\n<text text-anchor=\"middle\" x=\"2210.5\" y=\"-1071.3\" font-family=\"Helvetica,sans-Serif\" font-size=\"14.00\">class = 1</text>\n</g>\n<!-- 79&#45;&gt;80 -->\n<g id=\"edge80\" class=\"edge\">\n<title>79&#45;&gt;80</title>\n<path fill=\"none\" stroke=\"black\" d=\"M2210.5,-1174.91C2210.5,-1164.2 2210.5,-1152.62 2210.5,-1141.78\"/>\n<polygon fill=\"black\" stroke=\"black\" points=\"2214,-1141.67 2210.5,-1131.67 2207,-1141.67 2214,-1141.67\"/>\n</g>\n<!-- 81 -->\n<g id=\"node82\" class=\"node\">\n<title>81</title>\n<polygon fill=\"#e78c4a\" stroke=\"black\" points=\"2456,-1139 2291,-1139 2291,-1056 2456,-1056 2456,-1139\"/>\n<text text-anchor=\"middle\" x=\"2373.5\" y=\"-1123.8\" font-family=\"Helvetica,sans-Serif\" font-size=\"14.00\">baseline value &lt;= &#45;0.056</text>\n<text text-anchor=\"middle\" x=\"2373.5\" y=\"-1108.8\" font-family=\"Helvetica,sans-Serif\" font-size=\"14.00\">entropy = 0.402</text>\n<text text-anchor=\"middle\" x=\"2373.5\" y=\"-1093.8\" font-family=\"Helvetica,sans-Serif\" font-size=\"14.00\">samples = 25</text>\n<text text-anchor=\"middle\" x=\"2373.5\" y=\"-1078.8\" font-family=\"Helvetica,sans-Serif\" font-size=\"14.00\">value = [23, 2, 0]</text>\n<text text-anchor=\"middle\" x=\"2373.5\" y=\"-1063.8\" font-family=\"Helvetica,sans-Serif\" font-size=\"14.00\">class = 1</text>\n</g>\n<!-- 79&#45;&gt;81 -->\n<g id=\"edge81\" class=\"edge\">\n<title>79&#45;&gt;81</title>\n<path fill=\"none\" stroke=\"black\" d=\"M2267.05,-1174.91C2280.45,-1165.29 2294.85,-1154.95 2308.59,-1145.09\"/>\n<polygon fill=\"black\" stroke=\"black\" points=\"2310.97,-1147.7 2317.05,-1139.02 2306.88,-1142.01 2310.97,-1147.7\"/>\n</g>\n<!-- 82 -->\n<g id=\"node83\" class=\"node\">\n<title>82</title>\n<polygon fill=\"#e68642\" stroke=\"black\" points=\"2444,-1020 2201,-1020 2201,-937 2444,-937 2444,-1020\"/>\n<text text-anchor=\"middle\" x=\"2322.5\" y=\"-1004.8\" font-family=\"Helvetica,sans-Serif\" font-size=\"14.00\">histogram_number_of_peaks &lt;= 2.53</text>\n<text text-anchor=\"middle\" x=\"2322.5\" y=\"-989.8\" font-family=\"Helvetica,sans-Serif\" font-size=\"14.00\">entropy = 0.25</text>\n<text text-anchor=\"middle\" x=\"2322.5\" y=\"-974.8\" font-family=\"Helvetica,sans-Serif\" font-size=\"14.00\">samples = 24</text>\n<text text-anchor=\"middle\" x=\"2322.5\" y=\"-959.8\" font-family=\"Helvetica,sans-Serif\" font-size=\"14.00\">value = [23, 1, 0]</text>\n<text text-anchor=\"middle\" x=\"2322.5\" y=\"-944.8\" font-family=\"Helvetica,sans-Serif\" font-size=\"14.00\">class = 1</text>\n</g>\n<!-- 81&#45;&gt;82 -->\n<g id=\"edge82\" class=\"edge\">\n<title>81&#45;&gt;82</title>\n<path fill=\"none\" stroke=\"black\" d=\"M2355.81,-1055.91C2352.09,-1047.38 2348.12,-1038.28 2344.28,-1029.46\"/>\n<polygon fill=\"black\" stroke=\"black\" points=\"2347.37,-1027.79 2340.16,-1020.02 2340.95,-1030.59 2347.37,-1027.79\"/>\n</g>\n<!-- 85 -->\n<g id=\"node86\" class=\"node\">\n<title>85</title>\n<polygon fill=\"#39e581\" stroke=\"black\" points=\"2572.5,-1012.5 2462.5,-1012.5 2462.5,-944.5 2572.5,-944.5 2572.5,-1012.5\"/>\n<text text-anchor=\"middle\" x=\"2517.5\" y=\"-997.3\" font-family=\"Helvetica,sans-Serif\" font-size=\"14.00\">entropy = 0.0</text>\n<text text-anchor=\"middle\" x=\"2517.5\" y=\"-982.3\" font-family=\"Helvetica,sans-Serif\" font-size=\"14.00\">samples = 1</text>\n<text text-anchor=\"middle\" x=\"2517.5\" y=\"-967.3\" font-family=\"Helvetica,sans-Serif\" font-size=\"14.00\">value = [0, 1, 0]</text>\n<text text-anchor=\"middle\" x=\"2517.5\" y=\"-952.3\" font-family=\"Helvetica,sans-Serif\" font-size=\"14.00\">class = 2</text>\n</g>\n<!-- 81&#45;&gt;85 -->\n<g id=\"edge85\" class=\"edge\">\n<title>81&#45;&gt;85</title>\n<path fill=\"none\" stroke=\"black\" d=\"M2423.46,-1055.91C2438.13,-1043.99 2454.15,-1030.98 2468.74,-1019.12\"/>\n<polygon fill=\"black\" stroke=\"black\" points=\"2471.13,-1021.69 2476.68,-1012.67 2466.71,-1016.26 2471.13,-1021.69\"/>\n</g>\n<!-- 83 -->\n<g id=\"node84\" class=\"node\">\n<title>83</title>\n<polygon fill=\"#e58139\" stroke=\"black\" points=\"2335,-893.5 2218,-893.5 2218,-825.5 2335,-825.5 2335,-893.5\"/>\n<text text-anchor=\"middle\" x=\"2276.5\" y=\"-878.3\" font-family=\"Helvetica,sans-Serif\" font-size=\"14.00\">entropy = 0.0</text>\n<text text-anchor=\"middle\" x=\"2276.5\" y=\"-863.3\" font-family=\"Helvetica,sans-Serif\" font-size=\"14.00\">samples = 23</text>\n<text text-anchor=\"middle\" x=\"2276.5\" y=\"-848.3\" font-family=\"Helvetica,sans-Serif\" font-size=\"14.00\">value = [23, 0, 0]</text>\n<text text-anchor=\"middle\" x=\"2276.5\" y=\"-833.3\" font-family=\"Helvetica,sans-Serif\" font-size=\"14.00\">class = 1</text>\n</g>\n<!-- 82&#45;&gt;83 -->\n<g id=\"edge83\" class=\"edge\">\n<title>82&#45;&gt;83</title>\n<path fill=\"none\" stroke=\"black\" d=\"M2306.54,-936.91C2302.25,-925.98 2297.59,-914.14 2293.25,-903.11\"/>\n<polygon fill=\"black\" stroke=\"black\" points=\"2296.46,-901.69 2289.54,-893.67 2289.94,-904.25 2296.46,-901.69\"/>\n</g>\n<!-- 84 -->\n<g id=\"node85\" class=\"node\">\n<title>84</title>\n<polygon fill=\"#39e581\" stroke=\"black\" points=\"2463.5,-893.5 2353.5,-893.5 2353.5,-825.5 2463.5,-825.5 2463.5,-893.5\"/>\n<text text-anchor=\"middle\" x=\"2408.5\" y=\"-878.3\" font-family=\"Helvetica,sans-Serif\" font-size=\"14.00\">entropy = 0.0</text>\n<text text-anchor=\"middle\" x=\"2408.5\" y=\"-863.3\" font-family=\"Helvetica,sans-Serif\" font-size=\"14.00\">samples = 1</text>\n<text text-anchor=\"middle\" x=\"2408.5\" y=\"-848.3\" font-family=\"Helvetica,sans-Serif\" font-size=\"14.00\">value = [0, 1, 0]</text>\n<text text-anchor=\"middle\" x=\"2408.5\" y=\"-833.3\" font-family=\"Helvetica,sans-Serif\" font-size=\"14.00\">class = 2</text>\n</g>\n<!-- 82&#45;&gt;84 -->\n<g id=\"edge84\" class=\"edge\">\n<title>82&#45;&gt;84</title>\n<path fill=\"none\" stroke=\"black\" d=\"M2352.34,-936.91C2360.69,-925.54 2369.78,-913.18 2378.16,-901.77\"/>\n<polygon fill=\"black\" stroke=\"black\" points=\"2381.02,-903.8 2384.12,-893.67 2375.38,-899.65 2381.02,-903.8\"/>\n</g>\n<!-- 87 -->\n<g id=\"node88\" class=\"node\">\n<title>87</title>\n<polygon fill=\"#f2c29f\" stroke=\"black\" points=\"3153,-1496 2972,-1496 2972,-1413 3153,-1413 3153,-1496\"/>\n<text text-anchor=\"middle\" x=\"3062.5\" y=\"-1480.8\" font-family=\"Helvetica,sans-Serif\" font-size=\"14.00\">histogram_mean &lt;= &#45;1.633</text>\n<text text-anchor=\"middle\" x=\"3062.5\" y=\"-1465.8\" font-family=\"Helvetica,sans-Serif\" font-size=\"14.00\">entropy = 1.151</text>\n<text text-anchor=\"middle\" x=\"3062.5\" y=\"-1450.8\" font-family=\"Helvetica,sans-Serif\" font-size=\"14.00\">samples = 218</text>\n<text text-anchor=\"middle\" x=\"3062.5\" y=\"-1435.8\" font-family=\"Helvetica,sans-Serif\" font-size=\"14.00\">value = [140, 11, 67]</text>\n<text text-anchor=\"middle\" x=\"3062.5\" y=\"-1420.8\" font-family=\"Helvetica,sans-Serif\" font-size=\"14.00\">class = 1</text>\n</g>\n<!-- 86&#45;&gt;87 -->\n<g id=\"edge87\" class=\"edge\">\n<title>86&#45;&gt;87</title>\n<path fill=\"none\" stroke=\"black\" d=\"M3062.5,-1531.91C3062.5,-1523.65 3062.5,-1514.86 3062.5,-1506.3\"/>\n<polygon fill=\"black\" stroke=\"black\" points=\"3066,-1506.02 3062.5,-1496.02 3059,-1506.02 3066,-1506.02\"/>\n</g>\n<!-- 118 -->\n<g id=\"node119\" class=\"node\">\n<title>118</title>\n<polygon fill=\"#9cf2c0\" stroke=\"black\" points=\"4909.5,-1496 4487.5,-1496 4487.5,-1413 4909.5,-1413 4909.5,-1496\"/>\n<text text-anchor=\"middle\" x=\"4698.5\" y=\"-1480.8\" font-family=\"Helvetica,sans-Serif\" font-size=\"14.00\">percentage_of_time_with_abnormal_long_term_variability &lt;= 3.314</text>\n<text text-anchor=\"middle\" x=\"4698.5\" y=\"-1465.8\" font-family=\"Helvetica,sans-Serif\" font-size=\"14.00\">entropy = 1.358</text>\n<text text-anchor=\"middle\" x=\"4698.5\" y=\"-1450.8\" font-family=\"Helvetica,sans-Serif\" font-size=\"14.00\">samples = 211</text>\n<text text-anchor=\"middle\" x=\"4698.5\" y=\"-1435.8\" font-family=\"Helvetica,sans-Serif\" font-size=\"14.00\">value = [38, 128, 45]</text>\n<text text-anchor=\"middle\" x=\"4698.5\" y=\"-1420.8\" font-family=\"Helvetica,sans-Serif\" font-size=\"14.00\">class = 2</text>\n</g>\n<!-- 86&#45;&gt;118 -->\n<g id=\"edge118\" class=\"edge\">\n<title>86&#45;&gt;118</title>\n<path fill=\"none\" stroke=\"black\" d=\"M3276.38,-1557.2C3587.51,-1534.95 4162.11,-1493.86 4477.31,-1471.32\"/>\n<polygon fill=\"black\" stroke=\"black\" points=\"4477.76,-1474.8 4487.48,-1470.59 4477.26,-1467.81 4477.76,-1474.8\"/>\n</g>\n<!-- 88 -->\n<g id=\"node89\" class=\"node\">\n<title>88</title>\n<polygon fill=\"#8c4be7\" stroke=\"black\" points=\"3038.5,-1377 2870.5,-1377 2870.5,-1294 3038.5,-1294 3038.5,-1377\"/>\n<text text-anchor=\"middle\" x=\"2954.5\" y=\"-1361.8\" font-family=\"Helvetica,sans-Serif\" font-size=\"14.00\">histogram_max &lt;= 3.956</text>\n<text text-anchor=\"middle\" x=\"2954.5\" y=\"-1346.8\" font-family=\"Helvetica,sans-Serif\" font-size=\"14.00\">entropy = 0.414</text>\n<text text-anchor=\"middle\" x=\"2954.5\" y=\"-1331.8\" font-family=\"Helvetica,sans-Serif\" font-size=\"14.00\">samples = 60</text>\n<text text-anchor=\"middle\" x=\"2954.5\" y=\"-1316.8\" font-family=\"Helvetica,sans-Serif\" font-size=\"14.00\">value = [5, 0, 55]</text>\n<text text-anchor=\"middle\" x=\"2954.5\" y=\"-1301.8\" font-family=\"Helvetica,sans-Serif\" font-size=\"14.00\">class = 3</text>\n</g>\n<!-- 87&#45;&gt;88 -->\n<g id=\"edge88\" class=\"edge\">\n<title>87&#45;&gt;88</title>\n<path fill=\"none\" stroke=\"black\" d=\"M3025.03,-1412.91C3016.57,-1403.74 3007.51,-1393.93 2998.8,-1384.49\"/>\n<polygon fill=\"black\" stroke=\"black\" points=\"3001.26,-1381.99 2991.9,-1377.02 2996.11,-1386.74 3001.26,-1381.99\"/>\n</g>\n<!-- 95 -->\n<g id=\"node96\" class=\"node\">\n<title>95</title>\n<polygon fill=\"#e99558\" stroke=\"black\" points=\"3286.5,-1377 3056.5,-1377 3056.5,-1294 3286.5,-1294 3286.5,-1377\"/>\n<text text-anchor=\"middle\" x=\"3171.5\" y=\"-1361.8\" font-family=\"Helvetica,sans-Serif\" font-size=\"14.00\">prolongued_decelerations &lt;= 3.765</text>\n<text text-anchor=\"middle\" x=\"3171.5\" y=\"-1346.8\" font-family=\"Helvetica,sans-Serif\" font-size=\"14.00\">entropy = 0.744</text>\n<text text-anchor=\"middle\" x=\"3171.5\" y=\"-1331.8\" font-family=\"Helvetica,sans-Serif\" font-size=\"14.00\">samples = 158</text>\n<text text-anchor=\"middle\" x=\"3171.5\" y=\"-1316.8\" font-family=\"Helvetica,sans-Serif\" font-size=\"14.00\">value = [135, 11, 12]</text>\n<text text-anchor=\"middle\" x=\"3171.5\" y=\"-1301.8\" font-family=\"Helvetica,sans-Serif\" font-size=\"14.00\">class = 1</text>\n</g>\n<!-- 87&#45;&gt;95 -->\n<g id=\"edge95\" class=\"edge\">\n<title>87&#45;&gt;95</title>\n<path fill=\"none\" stroke=\"black\" d=\"M3100.32,-1412.91C3108.86,-1403.74 3118,-1393.93 3126.79,-1384.49\"/>\n<polygon fill=\"black\" stroke=\"black\" points=\"3129.49,-1386.72 3133.75,-1377.02 3124.37,-1381.95 3129.49,-1386.72\"/>\n</g>\n<!-- 89 -->\n<g id=\"node90\" class=\"node\">\n<title>89</title>\n<polygon fill=\"#833de5\" stroke=\"black\" points=\"2884,-1258 2633,-1258 2633,-1175 2884,-1175 2884,-1258\"/>\n<text text-anchor=\"middle\" x=\"2758.5\" y=\"-1242.8\" font-family=\"Helvetica,sans-Serif\" font-size=\"14.00\">histogram_number_of_peaks &lt;= 2.361</text>\n<text text-anchor=\"middle\" x=\"2758.5\" y=\"-1227.8\" font-family=\"Helvetica,sans-Serif\" font-size=\"14.00\">entropy = 0.129</text>\n<text text-anchor=\"middle\" x=\"2758.5\" y=\"-1212.8\" font-family=\"Helvetica,sans-Serif\" font-size=\"14.00\">samples = 56</text>\n<text text-anchor=\"middle\" x=\"2758.5\" y=\"-1197.8\" font-family=\"Helvetica,sans-Serif\" font-size=\"14.00\">value = [1, 0, 55]</text>\n<text text-anchor=\"middle\" x=\"2758.5\" y=\"-1182.8\" font-family=\"Helvetica,sans-Serif\" font-size=\"14.00\">class = 3</text>\n</g>\n<!-- 88&#45;&gt;89 -->\n<g id=\"edge89\" class=\"edge\">\n<title>88&#45;&gt;89</title>\n<path fill=\"none\" stroke=\"black\" d=\"M2886.5,-1293.91C2869.93,-1284.02 2852.09,-1273.37 2835.15,-1263.25\"/>\n<polygon fill=\"black\" stroke=\"black\" points=\"2836.76,-1260.14 2826.38,-1258.02 2833.17,-1266.15 2836.76,-1260.14\"/>\n</g>\n<!-- 94 -->\n<g id=\"node95\" class=\"node\">\n<title>94</title>\n<polygon fill=\"#e58139\" stroke=\"black\" points=\"3012.5,-1250.5 2902.5,-1250.5 2902.5,-1182.5 3012.5,-1182.5 3012.5,-1250.5\"/>\n<text text-anchor=\"middle\" x=\"2957.5\" y=\"-1235.3\" font-family=\"Helvetica,sans-Serif\" font-size=\"14.00\">entropy = 0.0</text>\n<text text-anchor=\"middle\" x=\"2957.5\" y=\"-1220.3\" font-family=\"Helvetica,sans-Serif\" font-size=\"14.00\">samples = 4</text>\n<text text-anchor=\"middle\" x=\"2957.5\" y=\"-1205.3\" font-family=\"Helvetica,sans-Serif\" font-size=\"14.00\">value = [4, 0, 0]</text>\n<text text-anchor=\"middle\" x=\"2957.5\" y=\"-1190.3\" font-family=\"Helvetica,sans-Serif\" font-size=\"14.00\">class = 1</text>\n</g>\n<!-- 88&#45;&gt;94 -->\n<g id=\"edge94\" class=\"edge\">\n<title>88&#45;&gt;94</title>\n<path fill=\"none\" stroke=\"black\" d=\"M2955.54,-1293.91C2955.82,-1283.2 2956.11,-1271.62 2956.39,-1260.78\"/>\n<polygon fill=\"black\" stroke=\"black\" points=\"2959.89,-1260.75 2956.65,-1250.67 2952.89,-1260.57 2959.89,-1260.75\"/>\n</g>\n<!-- 90 -->\n<g id=\"node91\" class=\"node\">\n<title>90</title>\n<polygon fill=\"#8139e5\" stroke=\"black\" points=\"2599,-1131.5 2482,-1131.5 2482,-1063.5 2599,-1063.5 2599,-1131.5\"/>\n<text text-anchor=\"middle\" x=\"2540.5\" y=\"-1116.3\" font-family=\"Helvetica,sans-Serif\" font-size=\"14.00\">entropy = 0.0</text>\n<text text-anchor=\"middle\" x=\"2540.5\" y=\"-1101.3\" font-family=\"Helvetica,sans-Serif\" font-size=\"14.00\">samples = 54</text>\n<text text-anchor=\"middle\" x=\"2540.5\" y=\"-1086.3\" font-family=\"Helvetica,sans-Serif\" font-size=\"14.00\">value = [0, 0, 54]</text>\n<text text-anchor=\"middle\" x=\"2540.5\" y=\"-1071.3\" font-family=\"Helvetica,sans-Serif\" font-size=\"14.00\">class = 3</text>\n</g>\n<!-- 89&#45;&gt;90 -->\n<g id=\"edge90\" class=\"edge\">\n<title>89&#45;&gt;90</title>\n<path fill=\"none\" stroke=\"black\" d=\"M2676.64,-1174.97C2654.38,-1163.62 2630.38,-1151.08 2608.5,-1139 2607.01,-1138.18 2605.51,-1137.34 2603.99,-1136.49\"/>\n<polygon fill=\"black\" stroke=\"black\" points=\"2605.67,-1133.42 2595.25,-1131.53 2602.22,-1139.51 2605.67,-1133.42\"/>\n</g>\n<!-- 91 -->\n<g id=\"node92\" class=\"node\">\n<title>91</title>\n<polygon fill=\"#ffffff\" stroke=\"black\" points=\"2921.5,-1139 2617.5,-1139 2617.5,-1056 2921.5,-1056 2921.5,-1139\"/>\n<text text-anchor=\"middle\" x=\"2769.5\" y=\"-1123.8\" font-family=\"Helvetica,sans-Serif\" font-size=\"14.00\">mean_value_of_long_term_variability &lt;= &#45;0.847</text>\n<text text-anchor=\"middle\" x=\"2769.5\" y=\"-1108.8\" font-family=\"Helvetica,sans-Serif\" font-size=\"14.00\">entropy = 1.0</text>\n<text text-anchor=\"middle\" x=\"2769.5\" y=\"-1093.8\" font-family=\"Helvetica,sans-Serif\" font-size=\"14.00\">samples = 2</text>\n<text text-anchor=\"middle\" x=\"2769.5\" y=\"-1078.8\" font-family=\"Helvetica,sans-Serif\" font-size=\"14.00\">value = [1, 0, 1]</text>\n<text text-anchor=\"middle\" x=\"2769.5\" y=\"-1063.8\" font-family=\"Helvetica,sans-Serif\" font-size=\"14.00\">class = 1</text>\n</g>\n<!-- 89&#45;&gt;91 -->\n<g id=\"edge91\" class=\"edge\">\n<title>89&#45;&gt;91</title>\n<path fill=\"none\" stroke=\"black\" d=\"M2762.32,-1174.91C2763.1,-1166.56 2763.94,-1157.67 2764.75,-1149.02\"/>\n<polygon fill=\"black\" stroke=\"black\" points=\"2768.24,-1149.3 2765.69,-1139.02 2761.27,-1148.65 2768.24,-1149.3\"/>\n</g>\n<!-- 92 -->\n<g id=\"node93\" class=\"node\">\n<title>92</title>\n<polygon fill=\"#8139e5\" stroke=\"black\" points=\"2700.5,-1012.5 2590.5,-1012.5 2590.5,-944.5 2700.5,-944.5 2700.5,-1012.5\"/>\n<text text-anchor=\"middle\" x=\"2645.5\" y=\"-997.3\" font-family=\"Helvetica,sans-Serif\" font-size=\"14.00\">entropy = 0.0</text>\n<text text-anchor=\"middle\" x=\"2645.5\" y=\"-982.3\" font-family=\"Helvetica,sans-Serif\" font-size=\"14.00\">samples = 1</text>\n<text text-anchor=\"middle\" x=\"2645.5\" y=\"-967.3\" font-family=\"Helvetica,sans-Serif\" font-size=\"14.00\">value = [0, 0, 1]</text>\n<text text-anchor=\"middle\" x=\"2645.5\" y=\"-952.3\" font-family=\"Helvetica,sans-Serif\" font-size=\"14.00\">class = 3</text>\n</g>\n<!-- 91&#45;&gt;92 -->\n<g id=\"edge92\" class=\"edge\">\n<title>91&#45;&gt;92</title>\n<path fill=\"none\" stroke=\"black\" d=\"M2726.48,-1055.91C2714.08,-1044.21 2700.57,-1031.46 2688.19,-1019.78\"/>\n<polygon fill=\"black\" stroke=\"black\" points=\"2690.33,-1016.98 2680.65,-1012.67 2685.52,-1022.08 2690.33,-1016.98\"/>\n</g>\n<!-- 93 -->\n<g id=\"node94\" class=\"node\">\n<title>93</title>\n<polygon fill=\"#e58139\" stroke=\"black\" points=\"2828.5,-1012.5 2718.5,-1012.5 2718.5,-944.5 2828.5,-944.5 2828.5,-1012.5\"/>\n<text text-anchor=\"middle\" x=\"2773.5\" y=\"-997.3\" font-family=\"Helvetica,sans-Serif\" font-size=\"14.00\">entropy = 0.0</text>\n<text text-anchor=\"middle\" x=\"2773.5\" y=\"-982.3\" font-family=\"Helvetica,sans-Serif\" font-size=\"14.00\">samples = 1</text>\n<text text-anchor=\"middle\" x=\"2773.5\" y=\"-967.3\" font-family=\"Helvetica,sans-Serif\" font-size=\"14.00\">value = [1, 0, 0]</text>\n<text text-anchor=\"middle\" x=\"2773.5\" y=\"-952.3\" font-family=\"Helvetica,sans-Serif\" font-size=\"14.00\">class = 1</text>\n</g>\n<!-- 91&#45;&gt;93 -->\n<g id=\"edge93\" class=\"edge\">\n<title>91&#45;&gt;93</title>\n<path fill=\"none\" stroke=\"black\" d=\"M2770.89,-1055.91C2771.25,-1045.2 2771.65,-1033.62 2772.02,-1022.78\"/>\n<polygon fill=\"black\" stroke=\"black\" points=\"2775.52,-1022.78 2772.37,-1012.67 2768.53,-1022.54 2775.52,-1022.78\"/>\n</g>\n<!-- 96 -->\n<g id=\"node97\" class=\"node\">\n<title>96</title>\n<polygon fill=\"#e88f50\" stroke=\"black\" points=\"3303.5,-1258 3035.5,-1258 3035.5,-1175 3303.5,-1175 3303.5,-1258\"/>\n<text text-anchor=\"middle\" x=\"3169.5\" y=\"-1242.8\" font-family=\"Helvetica,sans-Serif\" font-size=\"14.00\">abnormal_short_term_variability &lt;= 1.617</text>\n<text text-anchor=\"middle\" x=\"3169.5\" y=\"-1227.8\" font-family=\"Helvetica,sans-Serif\" font-size=\"14.00\">entropy = 0.583</text>\n<text text-anchor=\"middle\" x=\"3169.5\" y=\"-1212.8\" font-family=\"Helvetica,sans-Serif\" font-size=\"14.00\">samples = 151</text>\n<text text-anchor=\"middle\" x=\"3169.5\" y=\"-1197.8\" font-family=\"Helvetica,sans-Serif\" font-size=\"14.00\">value = [135, 11, 5]</text>\n<text text-anchor=\"middle\" x=\"3169.5\" y=\"-1182.8\" font-family=\"Helvetica,sans-Serif\" font-size=\"14.00\">class = 1</text>\n</g>\n<!-- 95&#45;&gt;96 -->\n<g id=\"edge96\" class=\"edge\">\n<title>95&#45;&gt;96</title>\n<path fill=\"none\" stroke=\"black\" d=\"M3170.81,-1293.91C3170.66,-1285.56 3170.51,-1276.67 3170.36,-1268.02\"/>\n<polygon fill=\"black\" stroke=\"black\" points=\"3173.86,-1267.96 3170.19,-1258.02 3166.86,-1268.08 3173.86,-1267.96\"/>\n</g>\n<!-- 117 -->\n<g id=\"node118\" class=\"node\">\n<title>117</title>\n<polygon fill=\"#8139e5\" stroke=\"black\" points=\"3431.5,-1250.5 3321.5,-1250.5 3321.5,-1182.5 3431.5,-1182.5 3431.5,-1250.5\"/>\n<text text-anchor=\"middle\" x=\"3376.5\" y=\"-1235.3\" font-family=\"Helvetica,sans-Serif\" font-size=\"14.00\">entropy = 0.0</text>\n<text text-anchor=\"middle\" x=\"3376.5\" y=\"-1220.3\" font-family=\"Helvetica,sans-Serif\" font-size=\"14.00\">samples = 7</text>\n<text text-anchor=\"middle\" x=\"3376.5\" y=\"-1205.3\" font-family=\"Helvetica,sans-Serif\" font-size=\"14.00\">value = [0, 0, 7]</text>\n<text text-anchor=\"middle\" x=\"3376.5\" y=\"-1190.3\" font-family=\"Helvetica,sans-Serif\" font-size=\"14.00\">class = 3</text>\n</g>\n<!-- 95&#45;&gt;117 -->\n<g id=\"edge117\" class=\"edge\">\n<title>95&#45;&gt;117</title>\n<path fill=\"none\" stroke=\"black\" d=\"M3248.49,-1293.94C3269.42,-1282.59 3291.96,-1270.05 3312.5,-1258 3313.78,-1257.25 3315.06,-1256.49 3316.36,-1255.72\"/>\n<polygon fill=\"black\" stroke=\"black\" points=\"3318.23,-1258.68 3324.99,-1250.51 3314.62,-1252.68 3318.23,-1258.68\"/>\n</g>\n<!-- 97 -->\n<g id=\"node98\" class=\"node\">\n<title>97</title>\n<polygon fill=\"#e78946\" stroke=\"black\" points=\"3258,-1139 3061,-1139 3061,-1056 3258,-1056 3258,-1139\"/>\n<text text-anchor=\"middle\" x=\"3159.5\" y=\"-1123.8\" font-family=\"Helvetica,sans-Serif\" font-size=\"14.00\">histogram_variance &lt;= &#45;0.564</text>\n<text text-anchor=\"middle\" x=\"3159.5\" y=\"-1108.8\" font-family=\"Helvetica,sans-Serif\" font-size=\"14.00\">entropy = 0.371</text>\n<text text-anchor=\"middle\" x=\"3159.5\" y=\"-1093.8\" font-family=\"Helvetica,sans-Serif\" font-size=\"14.00\">samples = 143</text>\n<text text-anchor=\"middle\" x=\"3159.5\" y=\"-1078.8\" font-family=\"Helvetica,sans-Serif\" font-size=\"14.00\">value = [134, 8, 1]</text>\n<text text-anchor=\"middle\" x=\"3159.5\" y=\"-1063.8\" font-family=\"Helvetica,sans-Serif\" font-size=\"14.00\">class = 1</text>\n</g>\n<!-- 96&#45;&gt;97 -->\n<g id=\"edge97\" class=\"edge\">\n<title>96&#45;&gt;97</title>\n<path fill=\"none\" stroke=\"black\" d=\"M3166.03,-1174.91C3165.32,-1166.56 3164.56,-1157.67 3163.82,-1149.02\"/>\n<polygon fill=\"black\" stroke=\"black\" points=\"3167.3,-1148.69 3162.96,-1139.02 3160.33,-1149.28 3167.3,-1148.69\"/>\n</g>\n<!-- 110 -->\n<g id=\"node111\" class=\"node\">\n<title>110</title>\n<polygon fill=\"#e6d7fa\" stroke=\"black\" points=\"3540.5,-1139 3364.5,-1139 3364.5,-1056 3540.5,-1056 3540.5,-1139\"/>\n<text text-anchor=\"middle\" x=\"3452.5\" y=\"-1123.8\" font-family=\"Helvetica,sans-Serif\" font-size=\"14.00\">histogram_mean &lt;= 1.014</text>\n<text text-anchor=\"middle\" x=\"3452.5\" y=\"-1108.8\" font-family=\"Helvetica,sans-Serif\" font-size=\"14.00\">entropy = 1.406</text>\n<text text-anchor=\"middle\" x=\"3452.5\" y=\"-1093.8\" font-family=\"Helvetica,sans-Serif\" font-size=\"14.00\">samples = 8</text>\n<text text-anchor=\"middle\" x=\"3452.5\" y=\"-1078.8\" font-family=\"Helvetica,sans-Serif\" font-size=\"14.00\">value = [1, 3, 4]</text>\n<text text-anchor=\"middle\" x=\"3452.5\" y=\"-1063.8\" font-family=\"Helvetica,sans-Serif\" font-size=\"14.00\">class = 3</text>\n</g>\n<!-- 96&#45;&gt;110 -->\n<g id=\"edge110\" class=\"edge\">\n<title>96&#45;&gt;110</title>\n<path fill=\"none\" stroke=\"black\" d=\"M3267.69,-1174.91C3295.94,-1163.23 3326.75,-1150.49 3354.96,-1138.82\"/>\n<polygon fill=\"black\" stroke=\"black\" points=\"3356.52,-1141.97 3364.43,-1134.91 3353.85,-1135.5 3356.52,-1141.97\"/>\n</g>\n<!-- 98 -->\n<g id=\"node99\" class=\"node\">\n<title>98</title>\n<polygon fill=\"#eca26c\" stroke=\"black\" points=\"3016,-1020 2847,-1020 2847,-937 3016,-937 3016,-1020\"/>\n<text text-anchor=\"middle\" x=\"2931.5\" y=\"-1004.8\" font-family=\"Helvetica,sans-Serif\" font-size=\"14.00\">histogram_min &lt;= &#45;0.199</text>\n<text text-anchor=\"middle\" x=\"2931.5\" y=\"-989.8\" font-family=\"Helvetica,sans-Serif\" font-size=\"14.00\">entropy = 0.732</text>\n<text text-anchor=\"middle\" x=\"2931.5\" y=\"-974.8\" font-family=\"Helvetica,sans-Serif\" font-size=\"14.00\">samples = 39</text>\n<text text-anchor=\"middle\" x=\"2931.5\" y=\"-959.8\" font-family=\"Helvetica,sans-Serif\" font-size=\"14.00\">value = [31, 8, 0]</text>\n<text text-anchor=\"middle\" x=\"2931.5\" y=\"-944.8\" font-family=\"Helvetica,sans-Serif\" font-size=\"14.00\">class = 1</text>\n</g>\n<!-- 97&#45;&gt;98 -->\n<g id=\"edge98\" class=\"edge\">\n<title>97&#45;&gt;98</title>\n<path fill=\"none\" stroke=\"black\" d=\"M3080.4,-1055.91C3060.77,-1045.83 3039.61,-1034.98 3019.58,-1024.7\"/>\n<polygon fill=\"black\" stroke=\"black\" points=\"3020.96,-1021.47 3010.46,-1020.02 3017.76,-1027.7 3020.96,-1021.47\"/>\n</g>\n<!-- 107 -->\n<g id=\"node108\" class=\"node\">\n<title>107</title>\n<polygon fill=\"#e5823b\" stroke=\"black\" points=\"3285,-1020 3034,-1020 3034,-937 3285,-937 3285,-1020\"/>\n<text text-anchor=\"middle\" x=\"3159.5\" y=\"-1004.8\" font-family=\"Helvetica,sans-Serif\" font-size=\"14.00\">histogram_number_of_peaks &lt;= 2.192</text>\n<text text-anchor=\"middle\" x=\"3159.5\" y=\"-989.8\" font-family=\"Helvetica,sans-Serif\" font-size=\"14.00\">entropy = 0.078</text>\n<text text-anchor=\"middle\" x=\"3159.5\" y=\"-974.8\" font-family=\"Helvetica,sans-Serif\" font-size=\"14.00\">samples = 104</text>\n<text text-anchor=\"middle\" x=\"3159.5\" y=\"-959.8\" font-family=\"Helvetica,sans-Serif\" font-size=\"14.00\">value = [103, 0, 1]</text>\n<text text-anchor=\"middle\" x=\"3159.5\" y=\"-944.8\" font-family=\"Helvetica,sans-Serif\" font-size=\"14.00\">class = 1</text>\n</g>\n<!-- 97&#45;&gt;107 -->\n<g id=\"edge107\" class=\"edge\">\n<title>97&#45;&gt;107</title>\n<path fill=\"none\" stroke=\"black\" d=\"M3159.5,-1055.91C3159.5,-1047.65 3159.5,-1038.86 3159.5,-1030.3\"/>\n<polygon fill=\"black\" stroke=\"black\" points=\"3163,-1030.02 3159.5,-1020.02 3156,-1030.02 3163,-1030.02\"/>\n</g>\n<!-- 99 -->\n<g id=\"node100\" class=\"node\">\n<title>99</title>\n<polygon fill=\"#39e581\" stroke=\"black\" points=\"2814.5,-893.5 2704.5,-893.5 2704.5,-825.5 2814.5,-825.5 2814.5,-893.5\"/>\n<text text-anchor=\"middle\" x=\"2759.5\" y=\"-878.3\" font-family=\"Helvetica,sans-Serif\" font-size=\"14.00\">entropy = 0.0</text>\n<text text-anchor=\"middle\" x=\"2759.5\" y=\"-863.3\" font-family=\"Helvetica,sans-Serif\" font-size=\"14.00\">samples = 5</text>\n<text text-anchor=\"middle\" x=\"2759.5\" y=\"-848.3\" font-family=\"Helvetica,sans-Serif\" font-size=\"14.00\">value = [0, 5, 0]</text>\n<text text-anchor=\"middle\" x=\"2759.5\" y=\"-833.3\" font-family=\"Helvetica,sans-Serif\" font-size=\"14.00\">class = 2</text>\n</g>\n<!-- 98&#45;&gt;99 -->\n<g id=\"edge99\" class=\"edge\">\n<title>98&#45;&gt;99</title>\n<path fill=\"none\" stroke=\"black\" d=\"M2871.83,-936.91C2853.98,-924.77 2834.46,-911.49 2816.78,-899.46\"/>\n<polygon fill=\"black\" stroke=\"black\" points=\"2818.5,-896.4 2808.26,-893.67 2814.56,-902.19 2818.5,-896.4\"/>\n</g>\n<!-- 100 -->\n<g id=\"node101\" class=\"node\">\n<title>100</title>\n<polygon fill=\"#e88d4c\" stroke=\"black\" points=\"3032.5,-901 2832.5,-901 2832.5,-818 3032.5,-818 3032.5,-901\"/>\n<text text-anchor=\"middle\" x=\"2932.5\" y=\"-885.8\" font-family=\"Helvetica,sans-Serif\" font-size=\"14.00\">uterine_contractions &lt;= &#45;1.341</text>\n<text text-anchor=\"middle\" x=\"2932.5\" y=\"-870.8\" font-family=\"Helvetica,sans-Serif\" font-size=\"14.00\">entropy = 0.431</text>\n<text text-anchor=\"middle\" x=\"2932.5\" y=\"-855.8\" font-family=\"Helvetica,sans-Serif\" font-size=\"14.00\">samples = 34</text>\n<text text-anchor=\"middle\" x=\"2932.5\" y=\"-840.8\" font-family=\"Helvetica,sans-Serif\" font-size=\"14.00\">value = [31, 3, 0]</text>\n<text text-anchor=\"middle\" x=\"2932.5\" y=\"-825.8\" font-family=\"Helvetica,sans-Serif\" font-size=\"14.00\">class = 1</text>\n</g>\n<!-- 98&#45;&gt;100 -->\n<g id=\"edge100\" class=\"edge\">\n<title>98&#45;&gt;100</title>\n<path fill=\"none\" stroke=\"black\" d=\"M2931.85,-936.91C2931.92,-928.65 2931.99,-919.86 2932.07,-911.3\"/>\n<polygon fill=\"black\" stroke=\"black\" points=\"2935.57,-911.05 2932.15,-901.02 2928.57,-910.99 2935.57,-911.05\"/>\n</g>\n<!-- 101 -->\n<g id=\"node102\" class=\"node\">\n<title>101</title>\n<polygon fill=\"#39e581\" stroke=\"black\" points=\"2887.5,-774.5 2777.5,-774.5 2777.5,-706.5 2887.5,-706.5 2887.5,-774.5\"/>\n<text text-anchor=\"middle\" x=\"2832.5\" y=\"-759.3\" font-family=\"Helvetica,sans-Serif\" font-size=\"14.00\">entropy = 0.0</text>\n<text text-anchor=\"middle\" x=\"2832.5\" y=\"-744.3\" font-family=\"Helvetica,sans-Serif\" font-size=\"14.00\">samples = 2</text>\n<text text-anchor=\"middle\" x=\"2832.5\" y=\"-729.3\" font-family=\"Helvetica,sans-Serif\" font-size=\"14.00\">value = [0, 2, 0]</text>\n<text text-anchor=\"middle\" x=\"2832.5\" y=\"-714.3\" font-family=\"Helvetica,sans-Serif\" font-size=\"14.00\">class = 2</text>\n</g>\n<!-- 100&#45;&gt;101 -->\n<g id=\"edge101\" class=\"edge\">\n<title>100&#45;&gt;101</title>\n<path fill=\"none\" stroke=\"black\" d=\"M2897.81,-817.91C2888,-806.43 2877.32,-793.94 2867.49,-782.44\"/>\n<polygon fill=\"black\" stroke=\"black\" points=\"2870.01,-779.99 2860.85,-774.67 2864.68,-784.54 2870.01,-779.99\"/>\n</g>\n<!-- 102 -->\n<g id=\"node103\" class=\"node\">\n<title>102</title>\n<polygon fill=\"#e6853f\" stroke=\"black\" points=\"3161,-782 2906,-782 2906,-699 3161,-699 3161,-782\"/>\n<text text-anchor=\"middle\" x=\"3033.5\" y=\"-766.8\" font-family=\"Helvetica,sans-Serif\" font-size=\"14.00\">histogram_number_of_zeroes &lt;= 0.299</text>\n<text text-anchor=\"middle\" x=\"3033.5\" y=\"-751.8\" font-family=\"Helvetica,sans-Serif\" font-size=\"14.00\">entropy = 0.201</text>\n<text text-anchor=\"middle\" x=\"3033.5\" y=\"-736.8\" font-family=\"Helvetica,sans-Serif\" font-size=\"14.00\">samples = 32</text>\n<text text-anchor=\"middle\" x=\"3033.5\" y=\"-721.8\" font-family=\"Helvetica,sans-Serif\" font-size=\"14.00\">value = [31, 1, 0]</text>\n<text text-anchor=\"middle\" x=\"3033.5\" y=\"-706.8\" font-family=\"Helvetica,sans-Serif\" font-size=\"14.00\">class = 1</text>\n</g>\n<!-- 100&#45;&gt;102 -->\n<g id=\"edge102\" class=\"edge\">\n<title>100&#45;&gt;102</title>\n<path fill=\"none\" stroke=\"black\" d=\"M2967.54,-817.91C2975.38,-808.83 2983.76,-799.12 2991.83,-789.77\"/>\n<polygon fill=\"black\" stroke=\"black\" points=\"2994.64,-791.88 2998.52,-782.02 2989.34,-787.3 2994.64,-791.88\"/>\n</g>\n<!-- 103 -->\n<g id=\"node104\" class=\"node\">\n<title>103</title>\n<polygon fill=\"#e58139\" stroke=\"black\" points=\"3004,-655.5 2887,-655.5 2887,-587.5 3004,-587.5 3004,-655.5\"/>\n<text text-anchor=\"middle\" x=\"2945.5\" y=\"-640.3\" font-family=\"Helvetica,sans-Serif\" font-size=\"14.00\">entropy = 0.0</text>\n<text text-anchor=\"middle\" x=\"2945.5\" y=\"-625.3\" font-family=\"Helvetica,sans-Serif\" font-size=\"14.00\">samples = 27</text>\n<text text-anchor=\"middle\" x=\"2945.5\" y=\"-610.3\" font-family=\"Helvetica,sans-Serif\" font-size=\"14.00\">value = [27, 0, 0]</text>\n<text text-anchor=\"middle\" x=\"2945.5\" y=\"-595.3\" font-family=\"Helvetica,sans-Serif\" font-size=\"14.00\">class = 1</text>\n</g>\n<!-- 102&#45;&gt;103 -->\n<g id=\"edge103\" class=\"edge\">\n<title>102&#45;&gt;103</title>\n<path fill=\"none\" stroke=\"black\" d=\"M3002.97,-698.91C2994.42,-687.54 2985.12,-675.18 2976.54,-663.77\"/>\n<polygon fill=\"black\" stroke=\"black\" points=\"2979.25,-661.55 2970.45,-655.67 2973.66,-665.76 2979.25,-661.55\"/>\n</g>\n<!-- 104 -->\n<g id=\"node105\" class=\"node\">\n<title>104</title>\n<polygon fill=\"#eca06a\" stroke=\"black\" points=\"3222.5,-663 3022.5,-663 3022.5,-580 3222.5,-580 3222.5,-663\"/>\n<text text-anchor=\"middle\" x=\"3122.5\" y=\"-647.8\" font-family=\"Helvetica,sans-Serif\" font-size=\"14.00\">uterine_contractions &lt;= &#45;0.664</text>\n<text text-anchor=\"middle\" x=\"3122.5\" y=\"-632.8\" font-family=\"Helvetica,sans-Serif\" font-size=\"14.00\">entropy = 0.722</text>\n<text text-anchor=\"middle\" x=\"3122.5\" y=\"-617.8\" font-family=\"Helvetica,sans-Serif\" font-size=\"14.00\">samples = 5</text>\n<text text-anchor=\"middle\" x=\"3122.5\" y=\"-602.8\" font-family=\"Helvetica,sans-Serif\" font-size=\"14.00\">value = [4, 1, 0]</text>\n<text text-anchor=\"middle\" x=\"3122.5\" y=\"-587.8\" font-family=\"Helvetica,sans-Serif\" font-size=\"14.00\">class = 1</text>\n</g>\n<!-- 102&#45;&gt;104 -->\n<g id=\"edge104\" class=\"edge\">\n<title>102&#45;&gt;104</title>\n<path fill=\"none\" stroke=\"black\" d=\"M3064.38,-698.91C3071.21,-689.92 3078.52,-680.32 3085.57,-671.05\"/>\n<polygon fill=\"black\" stroke=\"black\" points=\"3088.41,-673.1 3091.68,-663.02 3082.84,-668.86 3088.41,-673.1\"/>\n</g>\n<!-- 105 -->\n<g id=\"node106\" class=\"node\">\n<title>105</title>\n<polygon fill=\"#39e581\" stroke=\"black\" points=\"3113.5,-536.5 3003.5,-536.5 3003.5,-468.5 3113.5,-468.5 3113.5,-536.5\"/>\n<text text-anchor=\"middle\" x=\"3058.5\" y=\"-521.3\" font-family=\"Helvetica,sans-Serif\" font-size=\"14.00\">entropy = 0.0</text>\n<text text-anchor=\"middle\" x=\"3058.5\" y=\"-506.3\" font-family=\"Helvetica,sans-Serif\" font-size=\"14.00\">samples = 1</text>\n<text text-anchor=\"middle\" x=\"3058.5\" y=\"-491.3\" font-family=\"Helvetica,sans-Serif\" font-size=\"14.00\">value = [0, 1, 0]</text>\n<text text-anchor=\"middle\" x=\"3058.5\" y=\"-476.3\" font-family=\"Helvetica,sans-Serif\" font-size=\"14.00\">class = 2</text>\n</g>\n<!-- 104&#45;&gt;105 -->\n<g id=\"edge105\" class=\"edge\">\n<title>104&#45;&gt;105</title>\n<path fill=\"none\" stroke=\"black\" d=\"M3100.3,-579.91C3094.26,-568.87 3087.71,-556.9 3081.62,-545.77\"/>\n<polygon fill=\"black\" stroke=\"black\" points=\"3084.51,-543.76 3076.64,-536.67 3078.37,-547.12 3084.51,-543.76\"/>\n</g>\n<!-- 106 -->\n<g id=\"node107\" class=\"node\">\n<title>106</title>\n<polygon fill=\"#e58139\" stroke=\"black\" points=\"3241.5,-536.5 3131.5,-536.5 3131.5,-468.5 3241.5,-468.5 3241.5,-536.5\"/>\n<text text-anchor=\"middle\" x=\"3186.5\" y=\"-521.3\" font-family=\"Helvetica,sans-Serif\" font-size=\"14.00\">entropy = 0.0</text>\n<text text-anchor=\"middle\" x=\"3186.5\" y=\"-506.3\" font-family=\"Helvetica,sans-Serif\" font-size=\"14.00\">samples = 4</text>\n<text text-anchor=\"middle\" x=\"3186.5\" y=\"-491.3\" font-family=\"Helvetica,sans-Serif\" font-size=\"14.00\">value = [4, 0, 0]</text>\n<text text-anchor=\"middle\" x=\"3186.5\" y=\"-476.3\" font-family=\"Helvetica,sans-Serif\" font-size=\"14.00\">class = 1</text>\n</g>\n<!-- 104&#45;&gt;106 -->\n<g id=\"edge106\" class=\"edge\">\n<title>104&#45;&gt;106</title>\n<path fill=\"none\" stroke=\"black\" d=\"M3144.7,-579.91C3150.74,-568.87 3157.29,-556.9 3163.38,-545.77\"/>\n<polygon fill=\"black\" stroke=\"black\" points=\"3166.63,-547.12 3168.36,-536.67 3160.49,-543.76 3166.63,-547.12\"/>\n</g>\n<!-- 108 -->\n<g id=\"node109\" class=\"node\">\n<title>108</title>\n<polygon fill=\"#e58139\" stroke=\"black\" points=\"3179,-893.5 3054,-893.5 3054,-825.5 3179,-825.5 3179,-893.5\"/>\n<text text-anchor=\"middle\" x=\"3116.5\" y=\"-878.3\" font-family=\"Helvetica,sans-Serif\" font-size=\"14.00\">entropy = 0.0</text>\n<text text-anchor=\"middle\" x=\"3116.5\" y=\"-863.3\" font-family=\"Helvetica,sans-Serif\" font-size=\"14.00\">samples = 103</text>\n<text text-anchor=\"middle\" x=\"3116.5\" y=\"-848.3\" font-family=\"Helvetica,sans-Serif\" font-size=\"14.00\">value = [103, 0, 0]</text>\n<text text-anchor=\"middle\" x=\"3116.5\" y=\"-833.3\" font-family=\"Helvetica,sans-Serif\" font-size=\"14.00\">class = 1</text>\n</g>\n<!-- 107&#45;&gt;108 -->\n<g id=\"edge108\" class=\"edge\">\n<title>107&#45;&gt;108</title>\n<path fill=\"none\" stroke=\"black\" d=\"M3144.58,-936.91C3140.57,-925.98 3136.21,-914.14 3132.16,-903.11\"/>\n<polygon fill=\"black\" stroke=\"black\" points=\"3135.42,-901.85 3128.69,-893.67 3128.85,-904.26 3135.42,-901.85\"/>\n</g>\n<!-- 109 -->\n<g id=\"node110\" class=\"node\">\n<title>109</title>\n<polygon fill=\"#8139e5\" stroke=\"black\" points=\"3307.5,-893.5 3197.5,-893.5 3197.5,-825.5 3307.5,-825.5 3307.5,-893.5\"/>\n<text text-anchor=\"middle\" x=\"3252.5\" y=\"-878.3\" font-family=\"Helvetica,sans-Serif\" font-size=\"14.00\">entropy = 0.0</text>\n<text text-anchor=\"middle\" x=\"3252.5\" y=\"-863.3\" font-family=\"Helvetica,sans-Serif\" font-size=\"14.00\">samples = 1</text>\n<text text-anchor=\"middle\" x=\"3252.5\" y=\"-848.3\" font-family=\"Helvetica,sans-Serif\" font-size=\"14.00\">value = [0, 0, 1]</text>\n<text text-anchor=\"middle\" x=\"3252.5\" y=\"-833.3\" font-family=\"Helvetica,sans-Serif\" font-size=\"14.00\">class = 3</text>\n</g>\n<!-- 107&#45;&gt;109 -->\n<g id=\"edge109\" class=\"edge\">\n<title>107&#45;&gt;109</title>\n<path fill=\"none\" stroke=\"black\" d=\"M3191.77,-936.91C3200.8,-925.54 3210.63,-913.18 3219.69,-901.77\"/>\n<polygon fill=\"black\" stroke=\"black\" points=\"3222.65,-903.67 3226.14,-893.67 3217.17,-899.32 3222.65,-903.67\"/>\n</g>\n<!-- 111 -->\n<g id=\"node112\" class=\"node\">\n<title>111</title>\n<polygon fill=\"#a06aec\" stroke=\"black\" points=\"3602,-1020 3303,-1020 3303,-937 3602,-937 3602,-1020\"/>\n<text text-anchor=\"middle\" x=\"3452.5\" y=\"-1004.8\" font-family=\"Helvetica,sans-Serif\" font-size=\"14.00\">mean_value_of_long_term_variability &lt;= 0.333</text>\n<text text-anchor=\"middle\" x=\"3452.5\" y=\"-989.8\" font-family=\"Helvetica,sans-Serif\" font-size=\"14.00\">entropy = 0.722</text>\n<text text-anchor=\"middle\" x=\"3452.5\" y=\"-974.8\" font-family=\"Helvetica,sans-Serif\" font-size=\"14.00\">samples = 5</text>\n<text text-anchor=\"middle\" x=\"3452.5\" y=\"-959.8\" font-family=\"Helvetica,sans-Serif\" font-size=\"14.00\">value = [0, 1, 4]</text>\n<text text-anchor=\"middle\" x=\"3452.5\" y=\"-944.8\" font-family=\"Helvetica,sans-Serif\" font-size=\"14.00\">class = 3</text>\n</g>\n<!-- 110&#45;&gt;111 -->\n<g id=\"edge111\" class=\"edge\">\n<title>110&#45;&gt;111</title>\n<path fill=\"none\" stroke=\"black\" d=\"M3452.5,-1055.91C3452.5,-1047.65 3452.5,-1038.86 3452.5,-1030.3\"/>\n<polygon fill=\"black\" stroke=\"black\" points=\"3456,-1030.02 3452.5,-1020.02 3449,-1030.02 3456,-1030.02\"/>\n</g>\n<!-- 114 -->\n<g id=\"node115\" class=\"node\">\n<title>114</title>\n<polygon fill=\"#9cf2c0\" stroke=\"black\" points=\"3912.5,-1020 3620.5,-1020 3620.5,-937 3912.5,-937 3912.5,-1020\"/>\n<text text-anchor=\"middle\" x=\"3766.5\" y=\"-1004.8\" font-family=\"Helvetica,sans-Serif\" font-size=\"14.00\">mean_value_of_long_term_variability &lt;= 0.28</text>\n<text text-anchor=\"middle\" x=\"3766.5\" y=\"-989.8\" font-family=\"Helvetica,sans-Serif\" font-size=\"14.00\">entropy = 0.918</text>\n<text text-anchor=\"middle\" x=\"3766.5\" y=\"-974.8\" font-family=\"Helvetica,sans-Serif\" font-size=\"14.00\">samples = 3</text>\n<text text-anchor=\"middle\" x=\"3766.5\" y=\"-959.8\" font-family=\"Helvetica,sans-Serif\" font-size=\"14.00\">value = [1, 2, 0]</text>\n<text text-anchor=\"middle\" x=\"3766.5\" y=\"-944.8\" font-family=\"Helvetica,sans-Serif\" font-size=\"14.00\">class = 2</text>\n</g>\n<!-- 110&#45;&gt;114 -->\n<g id=\"edge114\" class=\"edge\">\n<title>110&#45;&gt;114</title>\n<path fill=\"none\" stroke=\"black\" d=\"M3540.8,-1063.6C3574.1,-1051.19 3612.54,-1036.87 3648.15,-1023.6\"/>\n<polygon fill=\"black\" stroke=\"black\" points=\"3649.48,-1026.84 3657.63,-1020.07 3647.04,-1020.28 3649.48,-1026.84\"/>\n</g>\n<!-- 112 -->\n<g id=\"node113\" class=\"node\">\n<title>112</title>\n<polygon fill=\"#39e581\" stroke=\"black\" points=\"3436.5,-893.5 3326.5,-893.5 3326.5,-825.5 3436.5,-825.5 3436.5,-893.5\"/>\n<text text-anchor=\"middle\" x=\"3381.5\" y=\"-878.3\" font-family=\"Helvetica,sans-Serif\" font-size=\"14.00\">entropy = 0.0</text>\n<text text-anchor=\"middle\" x=\"3381.5\" y=\"-863.3\" font-family=\"Helvetica,sans-Serif\" font-size=\"14.00\">samples = 1</text>\n<text text-anchor=\"middle\" x=\"3381.5\" y=\"-848.3\" font-family=\"Helvetica,sans-Serif\" font-size=\"14.00\">value = [0, 1, 0]</text>\n<text text-anchor=\"middle\" x=\"3381.5\" y=\"-833.3\" font-family=\"Helvetica,sans-Serif\" font-size=\"14.00\">class = 2</text>\n</g>\n<!-- 111&#45;&gt;112 -->\n<g id=\"edge112\" class=\"edge\">\n<title>111&#45;&gt;112</title>\n<path fill=\"none\" stroke=\"black\" d=\"M3427.87,-936.91C3421.1,-925.76 3413.76,-913.66 3406.95,-902.44\"/>\n<polygon fill=\"black\" stroke=\"black\" points=\"3409.81,-900.4 3401.63,-893.67 3403.82,-904.03 3409.81,-900.4\"/>\n</g>\n<!-- 113 -->\n<g id=\"node114\" class=\"node\">\n<title>113</title>\n<polygon fill=\"#8139e5\" stroke=\"black\" points=\"3564.5,-893.5 3454.5,-893.5 3454.5,-825.5 3564.5,-825.5 3564.5,-893.5\"/>\n<text text-anchor=\"middle\" x=\"3509.5\" y=\"-878.3\" font-family=\"Helvetica,sans-Serif\" font-size=\"14.00\">entropy = 0.0</text>\n<text text-anchor=\"middle\" x=\"3509.5\" y=\"-863.3\" font-family=\"Helvetica,sans-Serif\" font-size=\"14.00\">samples = 4</text>\n<text text-anchor=\"middle\" x=\"3509.5\" y=\"-848.3\" font-family=\"Helvetica,sans-Serif\" font-size=\"14.00\">value = [0, 0, 4]</text>\n<text text-anchor=\"middle\" x=\"3509.5\" y=\"-833.3\" font-family=\"Helvetica,sans-Serif\" font-size=\"14.00\">class = 3</text>\n</g>\n<!-- 111&#45;&gt;113 -->\n<g id=\"edge113\" class=\"edge\">\n<title>111&#45;&gt;113</title>\n<path fill=\"none\" stroke=\"black\" d=\"M3472.28,-936.91C3477.65,-925.87 3483.49,-913.9 3488.91,-902.77\"/>\n<polygon fill=\"black\" stroke=\"black\" points=\"3492.11,-904.19 3493.34,-893.67 3485.82,-901.12 3492.11,-904.19\"/>\n</g>\n<!-- 115 -->\n<g id=\"node116\" class=\"node\">\n<title>115</title>\n<polygon fill=\"#e58139\" stroke=\"black\" points=\"3693.5,-893.5 3583.5,-893.5 3583.5,-825.5 3693.5,-825.5 3693.5,-893.5\"/>\n<text text-anchor=\"middle\" x=\"3638.5\" y=\"-878.3\" font-family=\"Helvetica,sans-Serif\" font-size=\"14.00\">entropy = 0.0</text>\n<text text-anchor=\"middle\" x=\"3638.5\" y=\"-863.3\" font-family=\"Helvetica,sans-Serif\" font-size=\"14.00\">samples = 1</text>\n<text text-anchor=\"middle\" x=\"3638.5\" y=\"-848.3\" font-family=\"Helvetica,sans-Serif\" font-size=\"14.00\">value = [1, 0, 0]</text>\n<text text-anchor=\"middle\" x=\"3638.5\" y=\"-833.3\" font-family=\"Helvetica,sans-Serif\" font-size=\"14.00\">class = 1</text>\n</g>\n<!-- 114&#45;&gt;115 -->\n<g id=\"edge115\" class=\"edge\">\n<title>114&#45;&gt;115</title>\n<path fill=\"none\" stroke=\"black\" d=\"M3722.09,-936.91C3709.17,-925.1 3695.08,-912.22 3682.21,-900.45\"/>\n<polygon fill=\"black\" stroke=\"black\" points=\"3684.53,-897.83 3674.79,-893.67 3679.8,-903 3684.53,-897.83\"/>\n</g>\n<!-- 116 -->\n<g id=\"node117\" class=\"node\">\n<title>116</title>\n<polygon fill=\"#39e581\" stroke=\"black\" points=\"3821.5,-893.5 3711.5,-893.5 3711.5,-825.5 3821.5,-825.5 3821.5,-893.5\"/>\n<text text-anchor=\"middle\" x=\"3766.5\" y=\"-878.3\" font-family=\"Helvetica,sans-Serif\" font-size=\"14.00\">entropy = 0.0</text>\n<text text-anchor=\"middle\" x=\"3766.5\" y=\"-863.3\" font-family=\"Helvetica,sans-Serif\" font-size=\"14.00\">samples = 2</text>\n<text text-anchor=\"middle\" x=\"3766.5\" y=\"-848.3\" font-family=\"Helvetica,sans-Serif\" font-size=\"14.00\">value = [0, 2, 0]</text>\n<text text-anchor=\"middle\" x=\"3766.5\" y=\"-833.3\" font-family=\"Helvetica,sans-Serif\" font-size=\"14.00\">class = 2</text>\n</g>\n<!-- 114&#45;&gt;116 -->\n<g id=\"edge116\" class=\"edge\">\n<title>114&#45;&gt;116</title>\n<path fill=\"none\" stroke=\"black\" d=\"M3766.5,-936.91C3766.5,-926.2 3766.5,-914.62 3766.5,-903.78\"/>\n<polygon fill=\"black\" stroke=\"black\" points=\"3770,-903.67 3766.5,-893.67 3763,-903.67 3770,-903.67\"/>\n</g>\n<!-- 119 -->\n<g id=\"node120\" class=\"node\">\n<title>119</title>\n<polygon fill=\"#7eeead\" stroke=\"black\" points=\"4832.5,-1377 4564.5,-1377 4564.5,-1294 4832.5,-1294 4832.5,-1377\"/>\n<text text-anchor=\"middle\" x=\"4698.5\" y=\"-1361.8\" font-family=\"Helvetica,sans-Serif\" font-size=\"14.00\">abnormal_short_term_variability &lt;= 1.907</text>\n<text text-anchor=\"middle\" x=\"4698.5\" y=\"-1346.8\" font-family=\"Helvetica,sans-Serif\" font-size=\"14.00\">entropy = 1.111</text>\n<text text-anchor=\"middle\" x=\"4698.5\" y=\"-1331.8\" font-family=\"Helvetica,sans-Serif\" font-size=\"14.00\">samples = 178</text>\n<text text-anchor=\"middle\" x=\"4698.5\" y=\"-1316.8\" font-family=\"Helvetica,sans-Serif\" font-size=\"14.00\">value = [34, 128, 16]</text>\n<text text-anchor=\"middle\" x=\"4698.5\" y=\"-1301.8\" font-family=\"Helvetica,sans-Serif\" font-size=\"14.00\">class = 2</text>\n</g>\n<!-- 118&#45;&gt;119 -->\n<g id=\"edge119\" class=\"edge\">\n<title>118&#45;&gt;119</title>\n<path fill=\"none\" stroke=\"black\" d=\"M4698.5,-1412.91C4698.5,-1404.65 4698.5,-1395.86 4698.5,-1387.3\"/>\n<polygon fill=\"black\" stroke=\"black\" points=\"4702,-1387.02 4698.5,-1377.02 4695,-1387.02 4702,-1387.02\"/>\n</g>\n<!-- 156 -->\n<g id=\"node157\" class=\"node\">\n<title>156</title>\n<polygon fill=\"#9254e9\" stroke=\"black\" points=\"5109.5,-1377 4913.5,-1377 4913.5,-1294 5109.5,-1294 5109.5,-1377\"/>\n<text text-anchor=\"middle\" x=\"5011.5\" y=\"-1361.8\" font-family=\"Helvetica,sans-Serif\" font-size=\"14.00\">uterine_contractions &lt;= 0.013</text>\n<text text-anchor=\"middle\" x=\"5011.5\" y=\"-1346.8\" font-family=\"Helvetica,sans-Serif\" font-size=\"14.00\">entropy = 0.533</text>\n<text text-anchor=\"middle\" x=\"5011.5\" y=\"-1331.8\" font-family=\"Helvetica,sans-Serif\" font-size=\"14.00\">samples = 33</text>\n<text text-anchor=\"middle\" x=\"5011.5\" y=\"-1316.8\" font-family=\"Helvetica,sans-Serif\" font-size=\"14.00\">value = [4, 0, 29]</text>\n<text text-anchor=\"middle\" x=\"5011.5\" y=\"-1301.8\" font-family=\"Helvetica,sans-Serif\" font-size=\"14.00\">class = 3</text>\n</g>\n<!-- 118&#45;&gt;156 -->\n<g id=\"edge156\" class=\"edge\">\n<title>118&#45;&gt;156</title>\n<path fill=\"none\" stroke=\"black\" d=\"M4807.09,-1412.91C4838.38,-1401.21 4872.49,-1388.46 4903.72,-1376.79\"/>\n<polygon fill=\"black\" stroke=\"black\" points=\"4905.17,-1379.98 4913.31,-1373.2 4902.72,-1373.43 4905.17,-1379.98\"/>\n</g>\n<!-- 120 -->\n<g id=\"node121\" class=\"node\">\n<title>120</title>\n<polygon fill=\"#6eeca3\" stroke=\"black\" points=\"4716,-1258 4555,-1258 4555,-1175 4716,-1175 4716,-1258\"/>\n<text text-anchor=\"middle\" x=\"4635.5\" y=\"-1242.8\" font-family=\"Helvetica,sans-Serif\" font-size=\"14.00\">baseline value &lt;= 0.346</text>\n<text text-anchor=\"middle\" x=\"4635.5\" y=\"-1227.8\" font-family=\"Helvetica,sans-Serif\" font-size=\"14.00\">entropy = 0.841</text>\n<text text-anchor=\"middle\" x=\"4635.5\" y=\"-1212.8\" font-family=\"Helvetica,sans-Serif\" font-size=\"14.00\">samples = 163</text>\n<text text-anchor=\"middle\" x=\"4635.5\" y=\"-1197.8\" font-family=\"Helvetica,sans-Serif\" font-size=\"14.00\">value = [32, 128, 3]</text>\n<text text-anchor=\"middle\" x=\"4635.5\" y=\"-1182.8\" font-family=\"Helvetica,sans-Serif\" font-size=\"14.00\">class = 2</text>\n</g>\n<!-- 119&#45;&gt;120 -->\n<g id=\"edge120\" class=\"edge\">\n<title>119&#45;&gt;120</title>\n<path fill=\"none\" stroke=\"black\" d=\"M4676.64,-1293.91C4671.95,-1285.2 4666.94,-1275.9 4662.1,-1266.89\"/>\n<polygon fill=\"black\" stroke=\"black\" points=\"4665.14,-1265.17 4657.32,-1258.02 4658.98,-1268.48 4665.14,-1265.17\"/>\n</g>\n<!-- 153 -->\n<g id=\"node154\" class=\"node\">\n<title>153</title>\n<polygon fill=\"#9457e9\" stroke=\"black\" points=\"4934.5,-1258 4734.5,-1258 4734.5,-1175 4934.5,-1175 4934.5,-1258\"/>\n<text text-anchor=\"middle\" x=\"4834.5\" y=\"-1242.8\" font-family=\"Helvetica,sans-Serif\" font-size=\"14.00\">uterine_contractions &lt;= &#45;0.495</text>\n<text text-anchor=\"middle\" x=\"4834.5\" y=\"-1227.8\" font-family=\"Helvetica,sans-Serif\" font-size=\"14.00\">entropy = 0.567</text>\n<text text-anchor=\"middle\" x=\"4834.5\" y=\"-1212.8\" font-family=\"Helvetica,sans-Serif\" font-size=\"14.00\">samples = 15</text>\n<text text-anchor=\"middle\" x=\"4834.5\" y=\"-1197.8\" font-family=\"Helvetica,sans-Serif\" font-size=\"14.00\">value = [2, 0, 13]</text>\n<text text-anchor=\"middle\" x=\"4834.5\" y=\"-1182.8\" font-family=\"Helvetica,sans-Serif\" font-size=\"14.00\">class = 3</text>\n</g>\n<!-- 119&#45;&gt;153 -->\n<g id=\"edge153\" class=\"edge\">\n<title>119&#45;&gt;153</title>\n<path fill=\"none\" stroke=\"black\" d=\"M4745.68,-1293.91C4756.66,-1284.47 4768.43,-1274.34 4779.69,-1264.65\"/>\n<polygon fill=\"black\" stroke=\"black\" points=\"4782.1,-1267.2 4787.4,-1258.02 4777.54,-1261.89 4782.1,-1267.2\"/>\n</g>\n<!-- 121 -->\n<g id=\"node122\" class=\"node\">\n<title>121</title>\n<polygon fill=\"#f8dbc6\" stroke=\"black\" points=\"4567.5,-1139 4259.5,-1139 4259.5,-1056 4567.5,-1056 4567.5,-1139\"/>\n<text text-anchor=\"middle\" x=\"4413.5\" y=\"-1123.8\" font-family=\"Helvetica,sans-Serif\" font-size=\"14.00\">mean_value_of_short_term_variability &lt;= &#45;0.895</text>\n<text text-anchor=\"middle\" x=\"4413.5\" y=\"-1108.8\" font-family=\"Helvetica,sans-Serif\" font-size=\"14.00\">entropy = 1.192</text>\n<text text-anchor=\"middle\" x=\"4413.5\" y=\"-1093.8\" font-family=\"Helvetica,sans-Serif\" font-size=\"14.00\">samples = 46</text>\n<text text-anchor=\"middle\" x=\"4413.5\" y=\"-1078.8\" font-family=\"Helvetica,sans-Serif\" font-size=\"14.00\">value = [26, 18, 2]</text>\n<text text-anchor=\"middle\" x=\"4413.5\" y=\"-1063.8\" font-family=\"Helvetica,sans-Serif\" font-size=\"14.00\">class = 1</text>\n</g>\n<!-- 120&#45;&gt;121 -->\n<g id=\"edge121\" class=\"edge\">\n<title>120&#45;&gt;121</title>\n<path fill=\"none\" stroke=\"black\" d=\"M4558.48,-1174.91C4539.36,-1164.83 4518.76,-1153.98 4499.26,-1143.7\"/>\n<polygon fill=\"black\" stroke=\"black\" points=\"4500.86,-1140.59 4490.39,-1139.02 4497.6,-1146.78 4500.86,-1140.59\"/>\n</g>\n<!-- 138 -->\n<g id=\"node139\" class=\"node\">\n<title>138</title>\n<polygon fill=\"#45e789\" stroke=\"black\" points=\"4757.5,-1139 4585.5,-1139 4585.5,-1056 4757.5,-1056 4757.5,-1139\"/>\n<text text-anchor=\"middle\" x=\"4671.5\" y=\"-1123.8\" font-family=\"Helvetica,sans-Serif\" font-size=\"14.00\">fetal_movement &lt;= 0.311</text>\n<text text-anchor=\"middle\" x=\"4671.5\" y=\"-1108.8\" font-family=\"Helvetica,sans-Serif\" font-size=\"14.00\">entropy = 0.362</text>\n<text text-anchor=\"middle\" x=\"4671.5\" y=\"-1093.8\" font-family=\"Helvetica,sans-Serif\" font-size=\"14.00\">samples = 117</text>\n<text text-anchor=\"middle\" x=\"4671.5\" y=\"-1078.8\" font-family=\"Helvetica,sans-Serif\" font-size=\"14.00\">value = [6, 110, 1]</text>\n<text text-anchor=\"middle\" x=\"4671.5\" y=\"-1063.8\" font-family=\"Helvetica,sans-Serif\" font-size=\"14.00\">class = 2</text>\n</g>\n<!-- 120&#45;&gt;138 -->\n<g id=\"edge138\" class=\"edge\">\n<title>120&#45;&gt;138</title>\n<path fill=\"none\" stroke=\"black\" d=\"M4647.99,-1174.91C4650.59,-1166.47 4653.35,-1157.48 4656.04,-1148.74\"/>\n<polygon fill=\"black\" stroke=\"black\" points=\"4659.44,-1149.61 4659.03,-1139.02 4652.75,-1147.55 4659.44,-1149.61\"/>\n</g>\n<!-- 122 -->\n<g id=\"node123\" class=\"node\">\n<title>122</title>\n<polygon fill=\"#86efb2\" stroke=\"black\" points=\"4272,-1020 4085,-1020 4085,-937 4272,-937 4272,-1020\"/>\n<text text-anchor=\"middle\" x=\"4178.5\" y=\"-1004.8\" font-family=\"Helvetica,sans-Serif\" font-size=\"14.00\">histogram_median &lt;= 0.043</text>\n<text text-anchor=\"middle\" x=\"4178.5\" y=\"-989.8\" font-family=\"Helvetica,sans-Serif\" font-size=\"14.00\">entropy = 1.149</text>\n<text text-anchor=\"middle\" x=\"4178.5\" y=\"-974.8\" font-family=\"Helvetica,sans-Serif\" font-size=\"14.00\">samples = 23</text>\n<text text-anchor=\"middle\" x=\"4178.5\" y=\"-959.8\" font-family=\"Helvetica,sans-Serif\" font-size=\"14.00\">value = [5, 16, 2]</text>\n<text text-anchor=\"middle\" x=\"4178.5\" y=\"-944.8\" font-family=\"Helvetica,sans-Serif\" font-size=\"14.00\">class = 2</text>\n</g>\n<!-- 121&#45;&gt;122 -->\n<g id=\"edge122\" class=\"edge\">\n<title>121&#45;&gt;122</title>\n<path fill=\"none\" stroke=\"black\" d=\"M4331.97,-1055.91C4311.64,-1045.79 4289.73,-1034.88 4269,-1024.56\"/>\n<polygon fill=\"black\" stroke=\"black\" points=\"4270.4,-1021.34 4259.89,-1020.02 4267.28,-1027.61 4270.4,-1021.34\"/>\n</g>\n<!-- 135 -->\n<g id=\"node136\" class=\"node\">\n<title>135</title>\n<polygon fill=\"#e78d4c\" stroke=\"black\" points=\"4541,-1020 4290,-1020 4290,-937 4541,-937 4541,-1020\"/>\n<text text-anchor=\"middle\" x=\"4415.5\" y=\"-1004.8\" font-family=\"Helvetica,sans-Serif\" font-size=\"14.00\">histogram_number_of_peaks &lt;= 0.499</text>\n<text text-anchor=\"middle\" x=\"4415.5\" y=\"-989.8\" font-family=\"Helvetica,sans-Serif\" font-size=\"14.00\">entropy = 0.426</text>\n<text text-anchor=\"middle\" x=\"4415.5\" y=\"-974.8\" font-family=\"Helvetica,sans-Serif\" font-size=\"14.00\">samples = 23</text>\n<text text-anchor=\"middle\" x=\"4415.5\" y=\"-959.8\" font-family=\"Helvetica,sans-Serif\" font-size=\"14.00\">value = [21, 2, 0]</text>\n<text text-anchor=\"middle\" x=\"4415.5\" y=\"-944.8\" font-family=\"Helvetica,sans-Serif\" font-size=\"14.00\">class = 1</text>\n</g>\n<!-- 121&#45;&gt;135 -->\n<g id=\"edge135\" class=\"edge\">\n<title>121&#45;&gt;135</title>\n<path fill=\"none\" stroke=\"black\" d=\"M4414.19,-1055.91C4414.34,-1047.56 4414.49,-1038.67 4414.64,-1030.02\"/>\n<polygon fill=\"black\" stroke=\"black\" points=\"4418.14,-1030.08 4414.81,-1020.02 4411.14,-1029.96 4418.14,-1030.08\"/>\n</g>\n<!-- 123 -->\n<g id=\"node124\" class=\"node\">\n<title>123</title>\n<polygon fill=\"#65eb9d\" stroke=\"black\" points=\"4107.5,-901 3839.5,-901 3839.5,-818 4107.5,-818 4107.5,-901\"/>\n<text text-anchor=\"middle\" x=\"3973.5\" y=\"-885.8\" font-family=\"Helvetica,sans-Serif\" font-size=\"14.00\">abnormal_short_term_variability &lt;= 1.097</text>\n<text text-anchor=\"middle\" x=\"3973.5\" y=\"-870.8\" font-family=\"Helvetica,sans-Serif\" font-size=\"14.00\">entropy = 0.922</text>\n<text text-anchor=\"middle\" x=\"3973.5\" y=\"-855.8\" font-family=\"Helvetica,sans-Serif\" font-size=\"14.00\">samples = 20</text>\n<text text-anchor=\"middle\" x=\"3973.5\" y=\"-840.8\" font-family=\"Helvetica,sans-Serif\" font-size=\"14.00\">value = [2, 16, 2]</text>\n<text text-anchor=\"middle\" x=\"3973.5\" y=\"-825.8\" font-family=\"Helvetica,sans-Serif\" font-size=\"14.00\">class = 2</text>\n</g>\n<!-- 122&#45;&gt;123 -->\n<g id=\"edge123\" class=\"edge\">\n<title>122&#45;&gt;123</title>\n<path fill=\"none\" stroke=\"black\" d=\"M4107.38,-936.91C4090.04,-927.02 4071.39,-916.37 4053.67,-906.25\"/>\n<polygon fill=\"black\" stroke=\"black\" points=\"4054.92,-902.94 4044.5,-901.02 4051.45,-909.02 4054.92,-902.94\"/>\n</g>\n<!-- 134 -->\n<g id=\"node135\" class=\"node\">\n<title>134</title>\n<polygon fill=\"#e58139\" stroke=\"black\" points=\"4235.5,-893.5 4125.5,-893.5 4125.5,-825.5 4235.5,-825.5 4235.5,-893.5\"/>\n<text text-anchor=\"middle\" x=\"4180.5\" y=\"-878.3\" font-family=\"Helvetica,sans-Serif\" font-size=\"14.00\">entropy = 0.0</text>\n<text text-anchor=\"middle\" x=\"4180.5\" y=\"-863.3\" font-family=\"Helvetica,sans-Serif\" font-size=\"14.00\">samples = 3</text>\n<text text-anchor=\"middle\" x=\"4180.5\" y=\"-848.3\" font-family=\"Helvetica,sans-Serif\" font-size=\"14.00\">value = [3, 0, 0]</text>\n<text text-anchor=\"middle\" x=\"4180.5\" y=\"-833.3\" font-family=\"Helvetica,sans-Serif\" font-size=\"14.00\">class = 1</text>\n</g>\n<!-- 122&#45;&gt;134 -->\n<g id=\"edge134\" class=\"edge\">\n<title>122&#45;&gt;134</title>\n<path fill=\"none\" stroke=\"black\" d=\"M4179.19,-936.91C4179.38,-926.2 4179.57,-914.62 4179.76,-903.78\"/>\n<polygon fill=\"black\" stroke=\"black\" points=\"4183.26,-903.73 4179.93,-893.67 4176.26,-903.61 4183.26,-903.73\"/>\n</g>\n<!-- 124 -->\n<g id=\"node125\" class=\"node\">\n<title>124</title>\n<polygon fill=\"#bdf6d5\" stroke=\"black\" points=\"3825,-782 3644,-782 3644,-699 3825,-699 3825,-782\"/>\n<text text-anchor=\"middle\" x=\"3734.5\" y=\"-766.8\" font-family=\"Helvetica,sans-Serif\" font-size=\"14.00\">histogram_mean &lt;= &#45;0.404</text>\n<text text-anchor=\"middle\" x=\"3734.5\" y=\"-751.8\" font-family=\"Helvetica,sans-Serif\" font-size=\"14.00\">entropy = 0.971</text>\n<text text-anchor=\"middle\" x=\"3734.5\" y=\"-736.8\" font-family=\"Helvetica,sans-Serif\" font-size=\"14.00\">samples = 5</text>\n<text text-anchor=\"middle\" x=\"3734.5\" y=\"-721.8\" font-family=\"Helvetica,sans-Serif\" font-size=\"14.00\">value = [2, 3, 0]</text>\n<text text-anchor=\"middle\" x=\"3734.5\" y=\"-706.8\" font-family=\"Helvetica,sans-Serif\" font-size=\"14.00\">class = 2</text>\n</g>\n<!-- 123&#45;&gt;124 -->\n<g id=\"edge124\" class=\"edge\">\n<title>123&#45;&gt;124</title>\n<path fill=\"none\" stroke=\"black\" d=\"M3890.58,-817.91C3869.82,-807.74 3847.42,-796.78 3826.26,-786.42\"/>\n<polygon fill=\"black\" stroke=\"black\" points=\"3827.79,-783.27 3817.27,-782.02 3824.72,-789.56 3827.79,-783.27\"/>\n</g>\n<!-- 127 -->\n<g id=\"node128\" class=\"node\">\n<title>127</title>\n<polygon fill=\"#57e994\" stroke=\"black\" points=\"4265.5,-782 3843.5,-782 3843.5,-699 4265.5,-699 4265.5,-782\"/>\n<text text-anchor=\"middle\" x=\"4054.5\" y=\"-766.8\" font-family=\"Helvetica,sans-Serif\" font-size=\"14.00\">percentage_of_time_with_abnormal_long_term_variability &lt;= 1.522</text>\n<text text-anchor=\"middle\" x=\"4054.5\" y=\"-751.8\" font-family=\"Helvetica,sans-Serif\" font-size=\"14.00\">entropy = 0.567</text>\n<text text-anchor=\"middle\" x=\"4054.5\" y=\"-736.8\" font-family=\"Helvetica,sans-Serif\" font-size=\"14.00\">samples = 15</text>\n<text text-anchor=\"middle\" x=\"4054.5\" y=\"-721.8\" font-family=\"Helvetica,sans-Serif\" font-size=\"14.00\">value = [0, 13, 2]</text>\n<text text-anchor=\"middle\" x=\"4054.5\" y=\"-706.8\" font-family=\"Helvetica,sans-Serif\" font-size=\"14.00\">class = 2</text>\n</g>\n<!-- 123&#45;&gt;127 -->\n<g id=\"edge127\" class=\"edge\">\n<title>123&#45;&gt;127</title>\n<path fill=\"none\" stroke=\"black\" d=\"M4001.6,-817.91C4007.76,-809.01 4014.34,-799.51 4020.69,-790.33\"/>\n<polygon fill=\"black\" stroke=\"black\" points=\"4023.63,-792.24 4026.45,-782.02 4017.88,-788.25 4023.63,-792.24\"/>\n</g>\n<!-- 125 -->\n<g id=\"node126\" class=\"node\">\n<title>125</title>\n<polygon fill=\"#e58139\" stroke=\"black\" points=\"3701.5,-655.5 3591.5,-655.5 3591.5,-587.5 3701.5,-587.5 3701.5,-655.5\"/>\n<text text-anchor=\"middle\" x=\"3646.5\" y=\"-640.3\" font-family=\"Helvetica,sans-Serif\" font-size=\"14.00\">entropy = 0.0</text>\n<text text-anchor=\"middle\" x=\"3646.5\" y=\"-625.3\" font-family=\"Helvetica,sans-Serif\" font-size=\"14.00\">samples = 2</text>\n<text text-anchor=\"middle\" x=\"3646.5\" y=\"-610.3\" font-family=\"Helvetica,sans-Serif\" font-size=\"14.00\">value = [2, 0, 0]</text>\n<text text-anchor=\"middle\" x=\"3646.5\" y=\"-595.3\" font-family=\"Helvetica,sans-Serif\" font-size=\"14.00\">class = 1</text>\n</g>\n<!-- 124&#45;&gt;125 -->\n<g id=\"edge125\" class=\"edge\">\n<title>124&#45;&gt;125</title>\n<path fill=\"none\" stroke=\"black\" d=\"M3703.97,-698.91C3695.42,-687.54 3686.12,-675.18 3677.54,-663.77\"/>\n<polygon fill=\"black\" stroke=\"black\" points=\"3680.25,-661.55 3671.45,-655.67 3674.66,-665.76 3680.25,-661.55\"/>\n</g>\n<!-- 126 -->\n<g id=\"node127\" class=\"node\">\n<title>126</title>\n<polygon fill=\"#39e581\" stroke=\"black\" points=\"3829.5,-655.5 3719.5,-655.5 3719.5,-587.5 3829.5,-587.5 3829.5,-655.5\"/>\n<text text-anchor=\"middle\" x=\"3774.5\" y=\"-640.3\" font-family=\"Helvetica,sans-Serif\" font-size=\"14.00\">entropy = 0.0</text>\n<text text-anchor=\"middle\" x=\"3774.5\" y=\"-625.3\" font-family=\"Helvetica,sans-Serif\" font-size=\"14.00\">samples = 3</text>\n<text text-anchor=\"middle\" x=\"3774.5\" y=\"-610.3\" font-family=\"Helvetica,sans-Serif\" font-size=\"14.00\">value = [0, 3, 0]</text>\n<text text-anchor=\"middle\" x=\"3774.5\" y=\"-595.3\" font-family=\"Helvetica,sans-Serif\" font-size=\"14.00\">class = 2</text>\n</g>\n<!-- 124&#45;&gt;126 -->\n<g id=\"edge126\" class=\"edge\">\n<title>124&#45;&gt;126</title>\n<path fill=\"none\" stroke=\"black\" d=\"M3748.38,-698.91C3752.07,-688.09 3756.08,-676.38 3759.82,-665.44\"/>\n<polygon fill=\"black\" stroke=\"black\" points=\"3763.24,-666.26 3763.16,-655.67 3756.61,-664 3763.24,-666.26\"/>\n</g>\n<!-- 128 -->\n<g id=\"node129\" class=\"node\">\n<title>128</title>\n<polygon fill=\"#39e581\" stroke=\"black\" points=\"4053.5,-655.5 3943.5,-655.5 3943.5,-587.5 4053.5,-587.5 4053.5,-655.5\"/>\n<text text-anchor=\"middle\" x=\"3998.5\" y=\"-640.3\" font-family=\"Helvetica,sans-Serif\" font-size=\"14.00\">entropy = 0.0</text>\n<text text-anchor=\"middle\" x=\"3998.5\" y=\"-625.3\" font-family=\"Helvetica,sans-Serif\" font-size=\"14.00\">samples = 7</text>\n<text text-anchor=\"middle\" x=\"3998.5\" y=\"-610.3\" font-family=\"Helvetica,sans-Serif\" font-size=\"14.00\">value = [0, 7, 0]</text>\n<text text-anchor=\"middle\" x=\"3998.5\" y=\"-595.3\" font-family=\"Helvetica,sans-Serif\" font-size=\"14.00\">class = 2</text>\n</g>\n<!-- 127&#45;&gt;128 -->\n<g id=\"edge128\" class=\"edge\">\n<title>127&#45;&gt;128</title>\n<path fill=\"none\" stroke=\"black\" d=\"M4035.07,-698.91C4029.79,-687.87 4024.06,-675.9 4018.73,-664.77\"/>\n<polygon fill=\"black\" stroke=\"black\" points=\"4021.85,-663.18 4014.37,-655.67 4015.54,-666.2 4021.85,-663.18\"/>\n</g>\n<!-- 129 -->\n<g id=\"node130\" class=\"node\">\n<title>129</title>\n<polygon fill=\"#7beeab\" stroke=\"black\" points=\"4493.5,-663 4071.5,-663 4071.5,-580 4493.5,-580 4493.5,-663\"/>\n<text text-anchor=\"middle\" x=\"4282.5\" y=\"-647.8\" font-family=\"Helvetica,sans-Serif\" font-size=\"14.00\">percentage_of_time_with_abnormal_long_term_variability &lt;= 1.802</text>\n<text text-anchor=\"middle\" x=\"4282.5\" y=\"-632.8\" font-family=\"Helvetica,sans-Serif\" font-size=\"14.00\">entropy = 0.811</text>\n<text text-anchor=\"middle\" x=\"4282.5\" y=\"-617.8\" font-family=\"Helvetica,sans-Serif\" font-size=\"14.00\">samples = 8</text>\n<text text-anchor=\"middle\" x=\"4282.5\" y=\"-602.8\" font-family=\"Helvetica,sans-Serif\" font-size=\"14.00\">value = [0, 6, 2]</text>\n<text text-anchor=\"middle\" x=\"4282.5\" y=\"-587.8\" font-family=\"Helvetica,sans-Serif\" font-size=\"14.00\">class = 2</text>\n</g>\n<!-- 127&#45;&gt;129 -->\n<g id=\"edge129\" class=\"edge\">\n<title>127&#45;&gt;129</title>\n<path fill=\"none\" stroke=\"black\" d=\"M4133.6,-698.91C4153.23,-688.83 4174.39,-677.98 4194.42,-667.7\"/>\n<polygon fill=\"black\" stroke=\"black\" points=\"4196.24,-670.7 4203.54,-663.02 4193.04,-664.47 4196.24,-670.7\"/>\n</g>\n<!-- 130 -->\n<g id=\"node131\" class=\"node\">\n<title>130</title>\n<polygon fill=\"#8139e5\" stroke=\"black\" points=\"4255.5,-536.5 4145.5,-536.5 4145.5,-468.5 4255.5,-468.5 4255.5,-536.5\"/>\n<text text-anchor=\"middle\" x=\"4200.5\" y=\"-521.3\" font-family=\"Helvetica,sans-Serif\" font-size=\"14.00\">entropy = 0.0</text>\n<text text-anchor=\"middle\" x=\"4200.5\" y=\"-506.3\" font-family=\"Helvetica,sans-Serif\" font-size=\"14.00\">samples = 1</text>\n<text text-anchor=\"middle\" x=\"4200.5\" y=\"-491.3\" font-family=\"Helvetica,sans-Serif\" font-size=\"14.00\">value = [0, 0, 1]</text>\n<text text-anchor=\"middle\" x=\"4200.5\" y=\"-476.3\" font-family=\"Helvetica,sans-Serif\" font-size=\"14.00\">class = 3</text>\n</g>\n<!-- 129&#45;&gt;130 -->\n<g id=\"edge130\" class=\"edge\">\n<title>129&#45;&gt;130</title>\n<path fill=\"none\" stroke=\"black\" d=\"M4254.05,-579.91C4246.16,-568.65 4237.59,-556.42 4229.66,-545.11\"/>\n<polygon fill=\"black\" stroke=\"black\" points=\"4232.35,-542.85 4223.75,-536.67 4226.62,-546.86 4232.35,-542.85\"/>\n</g>\n<!-- 131 -->\n<g id=\"node132\" class=\"node\">\n<title>131</title>\n<polygon fill=\"#5ae996\" stroke=\"black\" points=\"4455,-544 4274,-544 4274,-461 4455,-461 4455,-544\"/>\n<text text-anchor=\"middle\" x=\"4364.5\" y=\"-528.8\" font-family=\"Helvetica,sans-Serif\" font-size=\"14.00\">histogram_mean &lt;= &#45;0.782</text>\n<text text-anchor=\"middle\" x=\"4364.5\" y=\"-513.8\" font-family=\"Helvetica,sans-Serif\" font-size=\"14.00\">entropy = 0.592</text>\n<text text-anchor=\"middle\" x=\"4364.5\" y=\"-498.8\" font-family=\"Helvetica,sans-Serif\" font-size=\"14.00\">samples = 7</text>\n<text text-anchor=\"middle\" x=\"4364.5\" y=\"-483.8\" font-family=\"Helvetica,sans-Serif\" font-size=\"14.00\">value = [0, 6, 1]</text>\n<text text-anchor=\"middle\" x=\"4364.5\" y=\"-468.8\" font-family=\"Helvetica,sans-Serif\" font-size=\"14.00\">class = 2</text>\n</g>\n<!-- 129&#45;&gt;131 -->\n<g id=\"edge131\" class=\"edge\">\n<title>129&#45;&gt;131</title>\n<path fill=\"none\" stroke=\"black\" d=\"M4310.95,-579.91C4317.18,-571.01 4323.84,-561.51 4330.28,-552.33\"/>\n<polygon fill=\"black\" stroke=\"black\" points=\"4333.23,-554.22 4336.1,-544.02 4327.5,-550.2 4333.23,-554.22\"/>\n</g>\n<!-- 132 -->\n<g id=\"node133\" class=\"node\">\n<title>132</title>\n<polygon fill=\"#8139e5\" stroke=\"black\" points=\"4355.5,-417.5 4245.5,-417.5 4245.5,-349.5 4355.5,-349.5 4355.5,-417.5\"/>\n<text text-anchor=\"middle\" x=\"4300.5\" y=\"-402.3\" font-family=\"Helvetica,sans-Serif\" font-size=\"14.00\">entropy = 0.0</text>\n<text text-anchor=\"middle\" x=\"4300.5\" y=\"-387.3\" font-family=\"Helvetica,sans-Serif\" font-size=\"14.00\">samples = 1</text>\n<text text-anchor=\"middle\" x=\"4300.5\" y=\"-372.3\" font-family=\"Helvetica,sans-Serif\" font-size=\"14.00\">value = [0, 0, 1]</text>\n<text text-anchor=\"middle\" x=\"4300.5\" y=\"-357.3\" font-family=\"Helvetica,sans-Serif\" font-size=\"14.00\">class = 3</text>\n</g>\n<!-- 131&#45;&gt;132 -->\n<g id=\"edge132\" class=\"edge\">\n<title>131&#45;&gt;132</title>\n<path fill=\"none\" stroke=\"black\" d=\"M4342.3,-460.91C4336.26,-449.87 4329.71,-437.9 4323.62,-426.77\"/>\n<polygon fill=\"black\" stroke=\"black\" points=\"4326.51,-424.76 4318.64,-417.67 4320.37,-428.12 4326.51,-424.76\"/>\n</g>\n<!-- 133 -->\n<g id=\"node134\" class=\"node\">\n<title>133</title>\n<polygon fill=\"#39e581\" stroke=\"black\" points=\"4483.5,-417.5 4373.5,-417.5 4373.5,-349.5 4483.5,-349.5 4483.5,-417.5\"/>\n<text text-anchor=\"middle\" x=\"4428.5\" y=\"-402.3\" font-family=\"Helvetica,sans-Serif\" font-size=\"14.00\">entropy = 0.0</text>\n<text text-anchor=\"middle\" x=\"4428.5\" y=\"-387.3\" font-family=\"Helvetica,sans-Serif\" font-size=\"14.00\">samples = 6</text>\n<text text-anchor=\"middle\" x=\"4428.5\" y=\"-372.3\" font-family=\"Helvetica,sans-Serif\" font-size=\"14.00\">value = [0, 6, 0]</text>\n<text text-anchor=\"middle\" x=\"4428.5\" y=\"-357.3\" font-family=\"Helvetica,sans-Serif\" font-size=\"14.00\">class = 2</text>\n</g>\n<!-- 131&#45;&gt;133 -->\n<g id=\"edge133\" class=\"edge\">\n<title>131&#45;&gt;133</title>\n<path fill=\"none\" stroke=\"black\" d=\"M4386.7,-460.91C4392.74,-449.87 4399.29,-437.9 4405.38,-426.77\"/>\n<polygon fill=\"black\" stroke=\"black\" points=\"4408.63,-428.12 4410.36,-417.67 4402.49,-424.76 4408.63,-428.12\"/>\n</g>\n<!-- 136 -->\n<g id=\"node137\" class=\"node\">\n<title>136</title>\n<polygon fill=\"#e58139\" stroke=\"black\" points=\"4371,-893.5 4254,-893.5 4254,-825.5 4371,-825.5 4371,-893.5\"/>\n<text text-anchor=\"middle\" x=\"4312.5\" y=\"-878.3\" font-family=\"Helvetica,sans-Serif\" font-size=\"14.00\">entropy = 0.0</text>\n<text text-anchor=\"middle\" x=\"4312.5\" y=\"-863.3\" font-family=\"Helvetica,sans-Serif\" font-size=\"14.00\">samples = 21</text>\n<text text-anchor=\"middle\" x=\"4312.5\" y=\"-848.3\" font-family=\"Helvetica,sans-Serif\" font-size=\"14.00\">value = [21, 0, 0]</text>\n<text text-anchor=\"middle\" x=\"4312.5\" y=\"-833.3\" font-family=\"Helvetica,sans-Serif\" font-size=\"14.00\">class = 1</text>\n</g>\n<!-- 135&#45;&gt;136 -->\n<g id=\"edge136\" class=\"edge\">\n<title>135&#45;&gt;136</title>\n<path fill=\"none\" stroke=\"black\" d=\"M4379.76,-936.91C4369.66,-925.43 4358.66,-912.94 4348.54,-901.44\"/>\n<polygon fill=\"black\" stroke=\"black\" points=\"4350.93,-898.86 4341.7,-893.67 4345.68,-903.49 4350.93,-898.86\"/>\n</g>\n<!-- 137 -->\n<g id=\"node138\" class=\"node\">\n<title>137</title>\n<polygon fill=\"#39e581\" stroke=\"black\" points=\"4499.5,-893.5 4389.5,-893.5 4389.5,-825.5 4499.5,-825.5 4499.5,-893.5\"/>\n<text text-anchor=\"middle\" x=\"4444.5\" y=\"-878.3\" font-family=\"Helvetica,sans-Serif\" font-size=\"14.00\">entropy = 0.0</text>\n<text text-anchor=\"middle\" x=\"4444.5\" y=\"-863.3\" font-family=\"Helvetica,sans-Serif\" font-size=\"14.00\">samples = 2</text>\n<text text-anchor=\"middle\" x=\"4444.5\" y=\"-848.3\" font-family=\"Helvetica,sans-Serif\" font-size=\"14.00\">value = [0, 2, 0]</text>\n<text text-anchor=\"middle\" x=\"4444.5\" y=\"-833.3\" font-family=\"Helvetica,sans-Serif\" font-size=\"14.00\">class = 2</text>\n</g>\n<!-- 135&#45;&gt;137 -->\n<g id=\"edge137\" class=\"edge\">\n<title>135&#45;&gt;137</title>\n<path fill=\"none\" stroke=\"black\" d=\"M4425.56,-936.91C4428.24,-926.09 4431.15,-914.38 4433.86,-903.44\"/>\n<polygon fill=\"black\" stroke=\"black\" points=\"4437.27,-904.22 4436.28,-893.67 4430.48,-902.53 4437.27,-904.22\"/>\n</g>\n<!-- 139 -->\n<g id=\"node140\" class=\"node\">\n<title>139</title>\n<polygon fill=\"#44e688\" stroke=\"black\" points=\"4769.5,-1020 4573.5,-1020 4573.5,-937 4769.5,-937 4769.5,-1020\"/>\n<text text-anchor=\"middle\" x=\"4671.5\" y=\"-1004.8\" font-family=\"Helvetica,sans-Serif\" font-size=\"14.00\">uterine_contractions &lt;= 0.689</text>\n<text text-anchor=\"middle\" x=\"4671.5\" y=\"-989.8\" font-family=\"Helvetica,sans-Serif\" font-size=\"14.00\">entropy = 0.294</text>\n<text text-anchor=\"middle\" x=\"4671.5\" y=\"-974.8\" font-family=\"Helvetica,sans-Serif\" font-size=\"14.00\">samples = 116</text>\n<text text-anchor=\"middle\" x=\"4671.5\" y=\"-959.8\" font-family=\"Helvetica,sans-Serif\" font-size=\"14.00\">value = [6, 110, 0]</text>\n<text text-anchor=\"middle\" x=\"4671.5\" y=\"-944.8\" font-family=\"Helvetica,sans-Serif\" font-size=\"14.00\">class = 2</text>\n</g>\n<!-- 138&#45;&gt;139 -->\n<g id=\"edge139\" class=\"edge\">\n<title>138&#45;&gt;139</title>\n<path fill=\"none\" stroke=\"black\" d=\"M4671.5,-1055.91C4671.5,-1047.65 4671.5,-1038.86 4671.5,-1030.3\"/>\n<polygon fill=\"black\" stroke=\"black\" points=\"4675,-1030.02 4671.5,-1020.02 4668,-1030.02 4675,-1030.02\"/>\n</g>\n<!-- 152 -->\n<g id=\"node153\" class=\"node\">\n<title>152</title>\n<polygon fill=\"#8139e5\" stroke=\"black\" points=\"4897.5,-1012.5 4787.5,-1012.5 4787.5,-944.5 4897.5,-944.5 4897.5,-1012.5\"/>\n<text text-anchor=\"middle\" x=\"4842.5\" y=\"-997.3\" font-family=\"Helvetica,sans-Serif\" font-size=\"14.00\">entropy = 0.0</text>\n<text text-anchor=\"middle\" x=\"4842.5\" y=\"-982.3\" font-family=\"Helvetica,sans-Serif\" font-size=\"14.00\">samples = 1</text>\n<text text-anchor=\"middle\" x=\"4842.5\" y=\"-967.3\" font-family=\"Helvetica,sans-Serif\" font-size=\"14.00\">value = [0, 0, 1]</text>\n<text text-anchor=\"middle\" x=\"4842.5\" y=\"-952.3\" font-family=\"Helvetica,sans-Serif\" font-size=\"14.00\">class = 3</text>\n</g>\n<!-- 138&#45;&gt;152 -->\n<g id=\"edge152\" class=\"edge\">\n<title>138&#45;&gt;152</title>\n<path fill=\"none\" stroke=\"black\" d=\"M4730.83,-1055.91C4748.57,-1043.77 4767.97,-1030.49 4785.55,-1018.46\"/>\n<polygon fill=\"black\" stroke=\"black\" points=\"4787.75,-1021.2 4794.03,-1012.67 4783.8,-1015.43 4787.75,-1021.2\"/>\n</g>\n<!-- 140 -->\n<g id=\"node141\" class=\"node\">\n<title>140</title>\n<polygon fill=\"#3de684\" stroke=\"black\" points=\"4825.5,-901 4517.5,-901 4517.5,-818 4825.5,-818 4825.5,-901\"/>\n<text text-anchor=\"middle\" x=\"4671.5\" y=\"-885.8\" font-family=\"Helvetica,sans-Serif\" font-size=\"14.00\">mean_value_of_short_term_variability &lt;= &#45;0.781</text>\n<text text-anchor=\"middle\" x=\"4671.5\" y=\"-870.8\" font-family=\"Helvetica,sans-Serif\" font-size=\"14.00\">entropy = 0.139</text>\n<text text-anchor=\"middle\" x=\"4671.5\" y=\"-855.8\" font-family=\"Helvetica,sans-Serif\" font-size=\"14.00\">samples = 102</text>\n<text text-anchor=\"middle\" x=\"4671.5\" y=\"-840.8\" font-family=\"Helvetica,sans-Serif\" font-size=\"14.00\">value = [2, 100, 0]</text>\n<text text-anchor=\"middle\" x=\"4671.5\" y=\"-825.8\" font-family=\"Helvetica,sans-Serif\" font-size=\"14.00\">class = 2</text>\n</g>\n<!-- 139&#45;&gt;140 -->\n<g id=\"edge140\" class=\"edge\">\n<title>139&#45;&gt;140</title>\n<path fill=\"none\" stroke=\"black\" d=\"M4671.5,-936.91C4671.5,-928.65 4671.5,-919.86 4671.5,-911.3\"/>\n<polygon fill=\"black\" stroke=\"black\" points=\"4675,-911.02 4671.5,-901.02 4668,-911.02 4675,-911.02\"/>\n</g>\n<!-- 145 -->\n<g id=\"node146\" class=\"node\">\n<title>145</title>\n<polygon fill=\"#88efb3\" stroke=\"black\" points=\"5017,-901 4844,-901 4844,-818 5017,-818 5017,-901\"/>\n<text text-anchor=\"middle\" x=\"4930.5\" y=\"-885.8\" font-family=\"Helvetica,sans-Serif\" font-size=\"14.00\">histogram_max &lt;= &#45;0.642</text>\n<text text-anchor=\"middle\" x=\"4930.5\" y=\"-870.8\" font-family=\"Helvetica,sans-Serif\" font-size=\"14.00\">entropy = 0.863</text>\n<text text-anchor=\"middle\" x=\"4930.5\" y=\"-855.8\" font-family=\"Helvetica,sans-Serif\" font-size=\"14.00\">samples = 14</text>\n<text text-anchor=\"middle\" x=\"4930.5\" y=\"-840.8\" font-family=\"Helvetica,sans-Serif\" font-size=\"14.00\">value = [4, 10, 0]</text>\n<text text-anchor=\"middle\" x=\"4930.5\" y=\"-825.8\" font-family=\"Helvetica,sans-Serif\" font-size=\"14.00\">class = 2</text>\n</g>\n<!-- 139&#45;&gt;145 -->\n<g id=\"edge145\" class=\"edge\">\n<title>139&#45;&gt;145</title>\n<path fill=\"none\" stroke=\"black\" d=\"M4761.36,-936.91C4784.96,-926.24 4810.51,-914.7 4834.43,-903.9\"/>\n<polygon fill=\"black\" stroke=\"black\" points=\"4836.18,-906.95 4843.86,-899.64 4833.3,-900.57 4836.18,-906.95\"/>\n</g>\n<!-- 141 -->\n<g id=\"node142\" class=\"node\">\n<title>141</title>\n<polygon fill=\"#39e581\" stroke=\"black\" points=\"4577,-774.5 4460,-774.5 4460,-706.5 4577,-706.5 4577,-774.5\"/>\n<text text-anchor=\"middle\" x=\"4518.5\" y=\"-759.3\" font-family=\"Helvetica,sans-Serif\" font-size=\"14.00\">entropy = 0.0</text>\n<text text-anchor=\"middle\" x=\"4518.5\" y=\"-744.3\" font-family=\"Helvetica,sans-Serif\" font-size=\"14.00\">samples = 91</text>\n<text text-anchor=\"middle\" x=\"4518.5\" y=\"-729.3\" font-family=\"Helvetica,sans-Serif\" font-size=\"14.00\">value = [0, 91, 0]</text>\n<text text-anchor=\"middle\" x=\"4518.5\" y=\"-714.3\" font-family=\"Helvetica,sans-Serif\" font-size=\"14.00\">class = 2</text>\n</g>\n<!-- 140&#45;&gt;141 -->\n<g id=\"edge141\" class=\"edge\">\n<title>140&#45;&gt;141</title>\n<path fill=\"none\" stroke=\"black\" d=\"M4618.42,-817.91C4602.69,-805.88 4585.5,-792.73 4569.88,-780.79\"/>\n<polygon fill=\"black\" stroke=\"black\" points=\"4571.94,-777.96 4561.87,-774.67 4567.69,-783.52 4571.94,-777.96\"/>\n</g>\n<!-- 142 -->\n<g id=\"node143\" class=\"node\">\n<title>142</title>\n<polygon fill=\"#65eb9d\" stroke=\"black\" points=\"4792,-782 4595,-782 4595,-699 4792,-699 4792,-782\"/>\n<text text-anchor=\"middle\" x=\"4693.5\" y=\"-766.8\" font-family=\"Helvetica,sans-Serif\" font-size=\"14.00\">histogram_variance &lt;= &#45;0.564</text>\n<text text-anchor=\"middle\" x=\"4693.5\" y=\"-751.8\" font-family=\"Helvetica,sans-Serif\" font-size=\"14.00\">entropy = 0.684</text>\n<text text-anchor=\"middle\" x=\"4693.5\" y=\"-736.8\" font-family=\"Helvetica,sans-Serif\" font-size=\"14.00\">samples = 11</text>\n<text text-anchor=\"middle\" x=\"4693.5\" y=\"-721.8\" font-family=\"Helvetica,sans-Serif\" font-size=\"14.00\">value = [2, 9, 0]</text>\n<text text-anchor=\"middle\" x=\"4693.5\" y=\"-706.8\" font-family=\"Helvetica,sans-Serif\" font-size=\"14.00\">class = 2</text>\n</g>\n<!-- 140&#45;&gt;142 -->\n<g id=\"edge142\" class=\"edge\">\n<title>140&#45;&gt;142</title>\n<path fill=\"none\" stroke=\"black\" d=\"M4679.13,-817.91C4680.7,-809.56 4682.37,-800.67 4684,-792.02\"/>\n<polygon fill=\"black\" stroke=\"black\" points=\"4687.47,-792.5 4685.88,-782.02 4680.59,-791.2 4687.47,-792.5\"/>\n</g>\n<!-- 143 -->\n<g id=\"node144\" class=\"node\">\n<title>143</title>\n<polygon fill=\"#e58139\" stroke=\"black\" points=\"4716.5,-655.5 4606.5,-655.5 4606.5,-587.5 4716.5,-587.5 4716.5,-655.5\"/>\n<text text-anchor=\"middle\" x=\"4661.5\" y=\"-640.3\" font-family=\"Helvetica,sans-Serif\" font-size=\"14.00\">entropy = 0.0</text>\n<text text-anchor=\"middle\" x=\"4661.5\" y=\"-625.3\" font-family=\"Helvetica,sans-Serif\" font-size=\"14.00\">samples = 2</text>\n<text text-anchor=\"middle\" x=\"4661.5\" y=\"-610.3\" font-family=\"Helvetica,sans-Serif\" font-size=\"14.00\">value = [2, 0, 0]</text>\n<text text-anchor=\"middle\" x=\"4661.5\" y=\"-595.3\" font-family=\"Helvetica,sans-Serif\" font-size=\"14.00\">class = 1</text>\n</g>\n<!-- 142&#45;&gt;143 -->\n<g id=\"edge143\" class=\"edge\">\n<title>142&#45;&gt;143</title>\n<path fill=\"none\" stroke=\"black\" d=\"M4682.4,-698.91C4679.44,-688.09 4676.24,-676.38 4673.24,-665.44\"/>\n<polygon fill=\"black\" stroke=\"black\" points=\"4676.59,-664.39 4670.57,-655.67 4669.83,-666.24 4676.59,-664.39\"/>\n</g>\n<!-- 144 -->\n<g id=\"node145\" class=\"node\">\n<title>144</title>\n<polygon fill=\"#39e581\" stroke=\"black\" points=\"4844.5,-655.5 4734.5,-655.5 4734.5,-587.5 4844.5,-587.5 4844.5,-655.5\"/>\n<text text-anchor=\"middle\" x=\"4789.5\" y=\"-640.3\" font-family=\"Helvetica,sans-Serif\" font-size=\"14.00\">entropy = 0.0</text>\n<text text-anchor=\"middle\" x=\"4789.5\" y=\"-625.3\" font-family=\"Helvetica,sans-Serif\" font-size=\"14.00\">samples = 9</text>\n<text text-anchor=\"middle\" x=\"4789.5\" y=\"-610.3\" font-family=\"Helvetica,sans-Serif\" font-size=\"14.00\">value = [0, 9, 0]</text>\n<text text-anchor=\"middle\" x=\"4789.5\" y=\"-595.3\" font-family=\"Helvetica,sans-Serif\" font-size=\"14.00\">class = 2</text>\n</g>\n<!-- 142&#45;&gt;144 -->\n<g id=\"edge144\" class=\"edge\">\n<title>142&#45;&gt;144</title>\n<path fill=\"none\" stroke=\"black\" d=\"M4726.81,-698.91C4736.22,-687.43 4746.47,-674.94 4755.91,-663.44\"/>\n<polygon fill=\"black\" stroke=\"black\" points=\"4758.65,-665.62 4762.29,-655.67 4753.24,-661.18 4758.65,-665.62\"/>\n</g>\n<!-- 146 -->\n<g id=\"node147\" class=\"node\">\n<title>146</title>\n<polygon fill=\"#e58139\" stroke=\"black\" points=\"4963.5,-774.5 4853.5,-774.5 4853.5,-706.5 4963.5,-706.5 4963.5,-774.5\"/>\n<text text-anchor=\"middle\" x=\"4908.5\" y=\"-759.3\" font-family=\"Helvetica,sans-Serif\" font-size=\"14.00\">entropy = 0.0</text>\n<text text-anchor=\"middle\" x=\"4908.5\" y=\"-744.3\" font-family=\"Helvetica,sans-Serif\" font-size=\"14.00\">samples = 2</text>\n<text text-anchor=\"middle\" x=\"4908.5\" y=\"-729.3\" font-family=\"Helvetica,sans-Serif\" font-size=\"14.00\">value = [2, 0, 0]</text>\n<text text-anchor=\"middle\" x=\"4908.5\" y=\"-714.3\" font-family=\"Helvetica,sans-Serif\" font-size=\"14.00\">class = 1</text>\n</g>\n<!-- 145&#45;&gt;146 -->\n<g id=\"edge146\" class=\"edge\">\n<title>145&#45;&gt;146</title>\n<path fill=\"none\" stroke=\"black\" d=\"M4922.87,-817.91C4920.85,-807.2 4918.68,-795.62 4916.64,-784.78\"/>\n<polygon fill=\"black\" stroke=\"black\" points=\"4920.02,-783.85 4914.74,-774.67 4913.14,-785.14 4920.02,-783.85\"/>\n</g>\n<!-- 147 -->\n<g id=\"node148\" class=\"node\">\n<title>147</title>\n<polygon fill=\"#61ea9a\" stroke=\"black\" points=\"5139.5,-782 4981.5,-782 4981.5,-699 5139.5,-699 5139.5,-782\"/>\n<text text-anchor=\"middle\" x=\"5060.5\" y=\"-766.8\" font-family=\"Helvetica,sans-Serif\" font-size=\"14.00\">accelerations &lt;= &#45;0.705</text>\n<text text-anchor=\"middle\" x=\"5060.5\" y=\"-751.8\" font-family=\"Helvetica,sans-Serif\" font-size=\"14.00\">entropy = 0.65</text>\n<text text-anchor=\"middle\" x=\"5060.5\" y=\"-736.8\" font-family=\"Helvetica,sans-Serif\" font-size=\"14.00\">samples = 12</text>\n<text text-anchor=\"middle\" x=\"5060.5\" y=\"-721.8\" font-family=\"Helvetica,sans-Serif\" font-size=\"14.00\">value = [2, 10, 0]</text>\n<text text-anchor=\"middle\" x=\"5060.5\" y=\"-706.8\" font-family=\"Helvetica,sans-Serif\" font-size=\"14.00\">class = 2</text>\n</g>\n<!-- 145&#45;&gt;147 -->\n<g id=\"edge147\" class=\"edge\">\n<title>145&#45;&gt;147</title>\n<path fill=\"none\" stroke=\"black\" d=\"M4975.6,-817.91C4985.99,-808.56 4997.12,-798.54 5007.8,-788.93\"/>\n<polygon fill=\"black\" stroke=\"black\" points=\"5010.39,-791.31 5015.48,-782.02 5005.7,-786.11 5010.39,-791.31\"/>\n</g>\n<!-- 148 -->\n<g id=\"node149\" class=\"node\">\n<title>148</title>\n<polygon fill=\"#39e581\" stroke=\"black\" points=\"4993.5,-655.5 4883.5,-655.5 4883.5,-587.5 4993.5,-587.5 4993.5,-655.5\"/>\n<text text-anchor=\"middle\" x=\"4938.5\" y=\"-640.3\" font-family=\"Helvetica,sans-Serif\" font-size=\"14.00\">entropy = 0.0</text>\n<text text-anchor=\"middle\" x=\"4938.5\" y=\"-625.3\" font-family=\"Helvetica,sans-Serif\" font-size=\"14.00\">samples = 8</text>\n<text text-anchor=\"middle\" x=\"4938.5\" y=\"-610.3\" font-family=\"Helvetica,sans-Serif\" font-size=\"14.00\">value = [0, 8, 0]</text>\n<text text-anchor=\"middle\" x=\"4938.5\" y=\"-595.3\" font-family=\"Helvetica,sans-Serif\" font-size=\"14.00\">class = 2</text>\n</g>\n<!-- 147&#45;&gt;148 -->\n<g id=\"edge148\" class=\"edge\">\n<title>147&#45;&gt;148</title>\n<path fill=\"none\" stroke=\"black\" d=\"M5018.17,-698.91C5005.98,-687.21 4992.68,-674.46 4980.5,-662.78\"/>\n<polygon fill=\"black\" stroke=\"black\" points=\"4982.72,-660.06 4973.08,-655.67 4977.88,-665.11 4982.72,-660.06\"/>\n</g>\n<!-- 149 -->\n<g id=\"node150\" class=\"node\">\n<title>149</title>\n<polygon fill=\"#ffffff\" stroke=\"black\" points=\"5173,-663 5012,-663 5012,-580 5173,-580 5173,-663\"/>\n<text text-anchor=\"middle\" x=\"5092.5\" y=\"-647.8\" font-family=\"Helvetica,sans-Serif\" font-size=\"14.00\">baseline value &lt;= 0.799</text>\n<text text-anchor=\"middle\" x=\"5092.5\" y=\"-632.8\" font-family=\"Helvetica,sans-Serif\" font-size=\"14.00\">entropy = 1.0</text>\n<text text-anchor=\"middle\" x=\"5092.5\" y=\"-617.8\" font-family=\"Helvetica,sans-Serif\" font-size=\"14.00\">samples = 4</text>\n<text text-anchor=\"middle\" x=\"5092.5\" y=\"-602.8\" font-family=\"Helvetica,sans-Serif\" font-size=\"14.00\">value = [2, 2, 0]</text>\n<text text-anchor=\"middle\" x=\"5092.5\" y=\"-587.8\" font-family=\"Helvetica,sans-Serif\" font-size=\"14.00\">class = 1</text>\n</g>\n<!-- 147&#45;&gt;149 -->\n<g id=\"edge149\" class=\"edge\">\n<title>147&#45;&gt;149</title>\n<path fill=\"none\" stroke=\"black\" d=\"M5071.6,-698.91C5073.91,-690.47 5076.37,-681.48 5078.76,-672.74\"/>\n<polygon fill=\"black\" stroke=\"black\" points=\"5082.16,-673.59 5081.42,-663.02 5075.4,-671.74 5082.16,-673.59\"/>\n</g>\n<!-- 150 -->\n<g id=\"node151\" class=\"node\">\n<title>150</title>\n<polygon fill=\"#39e581\" stroke=\"black\" points=\"5083.5,-536.5 4973.5,-536.5 4973.5,-468.5 5083.5,-468.5 5083.5,-536.5\"/>\n<text text-anchor=\"middle\" x=\"5028.5\" y=\"-521.3\" font-family=\"Helvetica,sans-Serif\" font-size=\"14.00\">entropy = 0.0</text>\n<text text-anchor=\"middle\" x=\"5028.5\" y=\"-506.3\" font-family=\"Helvetica,sans-Serif\" font-size=\"14.00\">samples = 2</text>\n<text text-anchor=\"middle\" x=\"5028.5\" y=\"-491.3\" font-family=\"Helvetica,sans-Serif\" font-size=\"14.00\">value = [0, 2, 0]</text>\n<text text-anchor=\"middle\" x=\"5028.5\" y=\"-476.3\" font-family=\"Helvetica,sans-Serif\" font-size=\"14.00\">class = 2</text>\n</g>\n<!-- 149&#45;&gt;150 -->\n<g id=\"edge150\" class=\"edge\">\n<title>149&#45;&gt;150</title>\n<path fill=\"none\" stroke=\"black\" d=\"M5070.3,-579.91C5064.26,-568.87 5057.71,-556.9 5051.62,-545.77\"/>\n<polygon fill=\"black\" stroke=\"black\" points=\"5054.51,-543.76 5046.64,-536.67 5048.37,-547.12 5054.51,-543.76\"/>\n</g>\n<!-- 151 -->\n<g id=\"node152\" class=\"node\">\n<title>151</title>\n<polygon fill=\"#e58139\" stroke=\"black\" points=\"5211.5,-536.5 5101.5,-536.5 5101.5,-468.5 5211.5,-468.5 5211.5,-536.5\"/>\n<text text-anchor=\"middle\" x=\"5156.5\" y=\"-521.3\" font-family=\"Helvetica,sans-Serif\" font-size=\"14.00\">entropy = 0.0</text>\n<text text-anchor=\"middle\" x=\"5156.5\" y=\"-506.3\" font-family=\"Helvetica,sans-Serif\" font-size=\"14.00\">samples = 2</text>\n<text text-anchor=\"middle\" x=\"5156.5\" y=\"-491.3\" font-family=\"Helvetica,sans-Serif\" font-size=\"14.00\">value = [2, 0, 0]</text>\n<text text-anchor=\"middle\" x=\"5156.5\" y=\"-476.3\" font-family=\"Helvetica,sans-Serif\" font-size=\"14.00\">class = 1</text>\n</g>\n<!-- 149&#45;&gt;151 -->\n<g id=\"edge151\" class=\"edge\">\n<title>149&#45;&gt;151</title>\n<path fill=\"none\" stroke=\"black\" d=\"M5114.7,-579.91C5120.74,-568.87 5127.29,-556.9 5133.38,-545.77\"/>\n<polygon fill=\"black\" stroke=\"black\" points=\"5136.63,-547.12 5138.36,-536.67 5130.49,-543.76 5136.63,-547.12\"/>\n</g>\n<!-- 154 -->\n<g id=\"node155\" class=\"node\">\n<title>154</title>\n<polygon fill=\"#8139e5\" stroke=\"black\" points=\"4893,-1131.5 4776,-1131.5 4776,-1063.5 4893,-1063.5 4893,-1131.5\"/>\n<text text-anchor=\"middle\" x=\"4834.5\" y=\"-1116.3\" font-family=\"Helvetica,sans-Serif\" font-size=\"14.00\">entropy = 0.0</text>\n<text text-anchor=\"middle\" x=\"4834.5\" y=\"-1101.3\" font-family=\"Helvetica,sans-Serif\" font-size=\"14.00\">samples = 13</text>\n<text text-anchor=\"middle\" x=\"4834.5\" y=\"-1086.3\" font-family=\"Helvetica,sans-Serif\" font-size=\"14.00\">value = [0, 0, 13]</text>\n<text text-anchor=\"middle\" x=\"4834.5\" y=\"-1071.3\" font-family=\"Helvetica,sans-Serif\" font-size=\"14.00\">class = 3</text>\n</g>\n<!-- 153&#45;&gt;154 -->\n<g id=\"edge154\" class=\"edge\">\n<title>153&#45;&gt;154</title>\n<path fill=\"none\" stroke=\"black\" d=\"M4834.5,-1174.91C4834.5,-1164.2 4834.5,-1152.62 4834.5,-1141.78\"/>\n<polygon fill=\"black\" stroke=\"black\" points=\"4838,-1141.67 4834.5,-1131.67 4831,-1141.67 4838,-1141.67\"/>\n</g>\n<!-- 155 -->\n<g id=\"node156\" class=\"node\">\n<title>155</title>\n<polygon fill=\"#e58139\" stroke=\"black\" points=\"5021.5,-1131.5 4911.5,-1131.5 4911.5,-1063.5 5021.5,-1063.5 5021.5,-1131.5\"/>\n<text text-anchor=\"middle\" x=\"4966.5\" y=\"-1116.3\" font-family=\"Helvetica,sans-Serif\" font-size=\"14.00\">entropy = 0.0</text>\n<text text-anchor=\"middle\" x=\"4966.5\" y=\"-1101.3\" font-family=\"Helvetica,sans-Serif\" font-size=\"14.00\">samples = 2</text>\n<text text-anchor=\"middle\" x=\"4966.5\" y=\"-1086.3\" font-family=\"Helvetica,sans-Serif\" font-size=\"14.00\">value = [2, 0, 0]</text>\n<text text-anchor=\"middle\" x=\"4966.5\" y=\"-1071.3\" font-family=\"Helvetica,sans-Serif\" font-size=\"14.00\">class = 1</text>\n</g>\n<!-- 153&#45;&gt;155 -->\n<g id=\"edge155\" class=\"edge\">\n<title>153&#45;&gt;155</title>\n<path fill=\"none\" stroke=\"black\" d=\"M4880.3,-1174.91C4893.62,-1163.1 4908.15,-1150.22 4921.43,-1138.45\"/>\n<polygon fill=\"black\" stroke=\"black\" points=\"4923.92,-1140.92 4929.08,-1131.67 4919.28,-1135.68 4923.92,-1140.92\"/>\n</g>\n<!-- 157 -->\n<g id=\"node158\" class=\"node\">\n<title>157</title>\n<polygon fill=\"#8139e5\" stroke=\"black\" points=\"5070,-1250.5 4953,-1250.5 4953,-1182.5 5070,-1182.5 5070,-1250.5\"/>\n<text text-anchor=\"middle\" x=\"5011.5\" y=\"-1235.3\" font-family=\"Helvetica,sans-Serif\" font-size=\"14.00\">entropy = 0.0</text>\n<text text-anchor=\"middle\" x=\"5011.5\" y=\"-1220.3\" font-family=\"Helvetica,sans-Serif\" font-size=\"14.00\">samples = 28</text>\n<text text-anchor=\"middle\" x=\"5011.5\" y=\"-1205.3\" font-family=\"Helvetica,sans-Serif\" font-size=\"14.00\">value = [0, 0, 28]</text>\n<text text-anchor=\"middle\" x=\"5011.5\" y=\"-1190.3\" font-family=\"Helvetica,sans-Serif\" font-size=\"14.00\">class = 3</text>\n</g>\n<!-- 156&#45;&gt;157 -->\n<g id=\"edge157\" class=\"edge\">\n<title>156&#45;&gt;157</title>\n<path fill=\"none\" stroke=\"black\" d=\"M5011.5,-1293.91C5011.5,-1283.2 5011.5,-1271.62 5011.5,-1260.78\"/>\n<polygon fill=\"black\" stroke=\"black\" points=\"5015,-1260.67 5011.5,-1250.67 5008,-1260.67 5015,-1260.67\"/>\n</g>\n<!-- 158 -->\n<g id=\"node159\" class=\"node\">\n<title>158</title>\n<polygon fill=\"#eca06a\" stroke=\"black\" points=\"5503,-1258 5088,-1258 5088,-1175 5503,-1175 5503,-1258\"/>\n<text text-anchor=\"middle\" x=\"5295.5\" y=\"-1242.8\" font-family=\"Helvetica,sans-Serif\" font-size=\"14.00\">percentage_of_time_with_abnormal_long_term_variability &lt;= 3.79</text>\n<text text-anchor=\"middle\" x=\"5295.5\" y=\"-1227.8\" font-family=\"Helvetica,sans-Serif\" font-size=\"14.00\">entropy = 0.722</text>\n<text text-anchor=\"middle\" x=\"5295.5\" y=\"-1212.8\" font-family=\"Helvetica,sans-Serif\" font-size=\"14.00\">samples = 5</text>\n<text text-anchor=\"middle\" x=\"5295.5\" y=\"-1197.8\" font-family=\"Helvetica,sans-Serif\" font-size=\"14.00\">value = [4, 0, 1]</text>\n<text text-anchor=\"middle\" x=\"5295.5\" y=\"-1182.8\" font-family=\"Helvetica,sans-Serif\" font-size=\"14.00\">class = 1</text>\n</g>\n<!-- 156&#45;&gt;158 -->\n<g id=\"edge158\" class=\"edge\">\n<title>156&#45;&gt;158</title>\n<path fill=\"none\" stroke=\"black\" d=\"M5109.63,-1294.07C5134.77,-1283.72 5161.93,-1272.53 5187.53,-1261.98\"/>\n<polygon fill=\"black\" stroke=\"black\" points=\"5188.97,-1265.17 5196.88,-1258.13 5186.3,-1258.7 5188.97,-1265.17\"/>\n</g>\n<!-- 159 -->\n<g id=\"node160\" class=\"node\">\n<title>159</title>\n<polygon fill=\"#e58139\" stroke=\"black\" points=\"5286.5,-1131.5 5176.5,-1131.5 5176.5,-1063.5 5286.5,-1063.5 5286.5,-1131.5\"/>\n<text text-anchor=\"middle\" x=\"5231.5\" y=\"-1116.3\" font-family=\"Helvetica,sans-Serif\" font-size=\"14.00\">entropy = 0.0</text>\n<text text-anchor=\"middle\" x=\"5231.5\" y=\"-1101.3\" font-family=\"Helvetica,sans-Serif\" font-size=\"14.00\">samples = 4</text>\n<text text-anchor=\"middle\" x=\"5231.5\" y=\"-1086.3\" font-family=\"Helvetica,sans-Serif\" font-size=\"14.00\">value = [4, 0, 0]</text>\n<text text-anchor=\"middle\" x=\"5231.5\" y=\"-1071.3\" font-family=\"Helvetica,sans-Serif\" font-size=\"14.00\">class = 1</text>\n</g>\n<!-- 158&#45;&gt;159 -->\n<g id=\"edge159\" class=\"edge\">\n<title>158&#45;&gt;159</title>\n<path fill=\"none\" stroke=\"black\" d=\"M5273.3,-1174.91C5267.26,-1163.87 5260.71,-1151.9 5254.62,-1140.77\"/>\n<polygon fill=\"black\" stroke=\"black\" points=\"5257.51,-1138.76 5249.64,-1131.67 5251.37,-1142.12 5257.51,-1138.76\"/>\n</g>\n<!-- 160 -->\n<g id=\"node161\" class=\"node\">\n<title>160</title>\n<polygon fill=\"#8139e5\" stroke=\"black\" points=\"5414.5,-1131.5 5304.5,-1131.5 5304.5,-1063.5 5414.5,-1063.5 5414.5,-1131.5\"/>\n<text text-anchor=\"middle\" x=\"5359.5\" y=\"-1116.3\" font-family=\"Helvetica,sans-Serif\" font-size=\"14.00\">entropy = 0.0</text>\n<text text-anchor=\"middle\" x=\"5359.5\" y=\"-1101.3\" font-family=\"Helvetica,sans-Serif\" font-size=\"14.00\">samples = 1</text>\n<text text-anchor=\"middle\" x=\"5359.5\" y=\"-1086.3\" font-family=\"Helvetica,sans-Serif\" font-size=\"14.00\">value = [0, 0, 1]</text>\n<text text-anchor=\"middle\" x=\"5359.5\" y=\"-1071.3\" font-family=\"Helvetica,sans-Serif\" font-size=\"14.00\">class = 3</text>\n</g>\n<!-- 158&#45;&gt;160 -->\n<g id=\"edge160\" class=\"edge\">\n<title>158&#45;&gt;160</title>\n<path fill=\"none\" stroke=\"black\" d=\"M5317.7,-1174.91C5323.74,-1163.87 5330.29,-1151.9 5336.38,-1140.77\"/>\n<polygon fill=\"black\" stroke=\"black\" points=\"5339.63,-1142.12 5341.36,-1131.67 5333.49,-1138.76 5339.63,-1142.12\"/>\n</g>\n</g>\n</svg>\n"
          },
          "metadata": {},
          "execution_count": 75
        }
      ],
      "source": [
        "# PLOT DECISION TREE\n",
        "import graphviz\n",
        "from sklearn import tree\n",
        "dot_data=tree.export_graphviz(model_tree,out_file=None,\\\n",
        "                              feature_names=['baseline value', 'accelerations', 'fetal_movement',\n",
        "       'uterine_contractions', 'light_decelerations', 'severe_decelerations',\n",
        "       'prolongued_decelerations', 'abnormal_short_term_variability',\n",
        "       'mean_value_of_short_term_variability',\n",
        "       'percentage_of_time_with_abnormal_long_term_variability',\n",
        "       'mean_value_of_long_term_variability', 'histogram_width',\n",
        "       'histogram_min', 'histogram_max', 'histogram_number_of_peaks',\n",
        "       'histogram_number_of_zeroes', 'histogram_mode', 'histogram_mean',\n",
        "       'histogram_median', 'histogram_variance', 'histogram_tendency'],\\\n",
        "       class_names=['1','2','3'],\\\n",
        "       filled=True)\n",
        "graph = graphviz.Source(dot_data, format=\"png\")\n",
        "graph"
      ]
    },
    {
      "cell_type": "code",
      "execution_count": 76,
      "metadata": {
        "colab": {
          "base_uri": "https://localhost:8080/"
        },
        "id": "c49ggFU__vTx",
        "outputId": "672aabed-2947-441c-ec9f-353681ce6da5"
      },
      "outputs": [
        {
          "output_type": "execute_result",
          "data": {
            "text/plain": [
              "array([[478,  24,   3],\n",
              "       [ 16,  75,   1],\n",
              "       [  2,   2,  37]])"
            ]
          },
          "metadata": {},
          "execution_count": 76
        }
      ],
      "source": [
        "# PERFORMANCE EVALUATION\n",
        "mat_tree=confusion_matrix(y_pred_tree,y_test)\n",
        "mat_tree"
      ]
    },
    {
      "cell_type": "code",
      "execution_count": 77,
      "metadata": {
        "colab": {
          "base_uri": "https://localhost:8080/",
          "height": 296
        },
        "id": "-j4N-xlMFssp",
        "outputId": "b37516fd-e651-4fc1-b1dd-590417ab2dfa"
      },
      "outputs": [
        {
          "output_type": "execute_result",
          "data": {
            "text/plain": [
              "<sklearn.metrics._plot.confusion_matrix.ConfusionMatrixDisplay at 0x7f474d51c4c0>"
            ]
          },
          "metadata": {},
          "execution_count": 77
        },
        {
          "output_type": "display_data",
          "data": {
            "text/plain": [
              "<Figure size 432x288 with 2 Axes>"
            ],
            "image/png": "[encoded data removed]"
          },
          "metadata": {
            "needs_background": "light"
          }
        }
      ],
      "source": [
        "cmd_tree=ConfusionMatrixDisplay(mat_tree,display_labels=label)\n",
        "cmd_tree.plot()"
      ]
    },
    {
      "cell_type": "code",
      "execution_count": 78,
      "metadata": {
        "colab": {
          "base_uri": "https://localhost:8080/"
        },
        "id": "unjAya2PF1QD",
        "outputId": "64d8658b-1935-4ecc-8e2f-40aaaf984734"
      },
      "outputs": [
        {
          "output_type": "execute_result",
          "data": {
            "text/plain": [
              "0.9247648902821317"
            ]
          },
          "metadata": {},
          "execution_count": 78
        }
      ],
      "source": [
        "score_tree=accuracy_score(y_pred_tree,y_test)\n",
        "score_tree"
      ]
    },
    {
      "cell_type": "code",
      "execution_count": 79,
      "metadata": {
        "colab": {
          "base_uri": "https://localhost:8080/"
        },
        "id": "pGHDq4eKGCL2",
        "outputId": "3439e433-5215-4f30-aefd-f3a4ca0daa23"
      },
      "outputs": [
        {
          "output_type": "stream",
          "name": "stdout",
          "text": [
            "              precision    recall  f1-score   support\n",
            "\n",
            "         1.0       0.95      0.96      0.96       496\n",
            "         2.0       0.82      0.74      0.78       101\n",
            "         3.0       0.90      0.90      0.90        41\n",
            "\n",
            "    accuracy                           0.92       638\n",
            "   macro avg       0.89      0.87      0.88       638\n",
            "weighted avg       0.92      0.92      0.92       638\n",
            "\n"
          ]
        }
      ],
      "source": [
        "report_tree=classification_report(y_test,y_pred_tree)\n",
        "print(report_tree)"
      ]
    },
    {
      "cell_type": "markdown",
      "metadata": {
        "id": "t3nfHx_bGI4J"
      },
      "source": [
        "**5.RANDOM FOREST**"
      ]
    },
    {
      "cell_type": "code",
      "execution_count": 80,
      "metadata": {
        "id": "Iy9VmeEXGCOY"
      },
      "outputs": [],
      "source": [
        "# ML ALGORITHM\n",
        "from sklearn.ensemble import RandomForestClassifier\n",
        "model_random=RandomForestClassifier(n_estimators=5,criterion='entropy')\n",
        "model_random.fit(x_train,y_train)\n",
        "y_pred_random=model_random.predict(x_test)"
      ]
    },
    {
      "cell_type": "code",
      "execution_count": 81,
      "metadata": {
        "colab": {
          "base_uri": "https://localhost:8080/"
        },
        "id": "s_j4llzlGCRA",
        "outputId": "15ac34bb-8e07-4f56-8efe-92dc1bbf44c9"
      },
      "outputs": [
        {
          "output_type": "execute_result",
          "data": {
            "text/plain": [
              "array([[481,  19,   2],\n",
              "       [ 13,  78,   1],\n",
              "       [  2,   4,  38]])"
            ]
          },
          "metadata": {},
          "execution_count": 81
        }
      ],
      "source": [
        "# PERFORMANCE EVALUATION\n",
        "mat_random=confusion_matrix(y_pred_random,y_test)\n",
        "mat_random"
      ]
    },
    {
      "cell_type": "code",
      "execution_count": 82,
      "metadata": {
        "colab": {
          "base_uri": "https://localhost:8080/",
          "height": 296
        },
        "id": "1ZfIqc3WGCUC",
        "outputId": "213db307-d15c-4fda-956d-6fdc8c3b5c6e"
      },
      "outputs": [
        {
          "output_type": "execute_result",
          "data": {
            "text/plain": [
              "<sklearn.metrics._plot.confusion_matrix.ConfusionMatrixDisplay at 0x7f474dfa2f40>"
            ]
          },
          "metadata": {},
          "execution_count": 82
        },
        {
          "output_type": "display_data",
          "data": {
            "text/plain": [
              "<Figure size 432x288 with 2 Axes>"
            ],
            "image/png": "[encoded data removed]"
          },
          "metadata": {
            "needs_background": "light"
          }
        }
      ],
      "source": [
        "cmd_random=ConfusionMatrixDisplay(mat_random,display_labels=label)\n",
        "cmd_random.plot()"
      ]
    },
    {
      "cell_type": "code",
      "execution_count": 83,
      "metadata": {
        "colab": {
          "base_uri": "https://localhost:8080/"
        },
        "id": "73TWtCRPGCW7",
        "outputId": "2b8a809e-8065-49b7-bbee-de91179e713a"
      },
      "outputs": [
        {
          "output_type": "execute_result",
          "data": {
            "text/plain": [
              "0.9357366771159875"
            ]
          },
          "metadata": {},
          "execution_count": 83
        }
      ],
      "source": [
        "score_random=accuracy_score(y_pred_random,y_test)\n",
        "score_random"
      ]
    },
    {
      "cell_type": "code",
      "execution_count": 84,
      "metadata": {
        "colab": {
          "base_uri": "https://localhost:8080/"
        },
        "id": "JGckTA2GHz_K",
        "outputId": "2d9d05fb-88f6-4004-b9f4-185371d4ed80"
      },
      "outputs": [
        {
          "output_type": "stream",
          "name": "stdout",
          "text": [
            "              precision    recall  f1-score   support\n",
            "\n",
            "         1.0       0.96      0.97      0.96       496\n",
            "         2.0       0.85      0.77      0.81       101\n",
            "         3.0       0.86      0.93      0.89        41\n",
            "\n",
            "    accuracy                           0.94       638\n",
            "   macro avg       0.89      0.89      0.89       638\n",
            "weighted avg       0.93      0.94      0.93       638\n",
            "\n"
          ]
        }
      ],
      "source": [
        "report_random=classification_report(y_test,y_pred_random)\n",
        "print(report_random)"
      ]
    },
    {
      "cell_type": "code",
      "execution_count": 85,
      "metadata": {
        "id": "xUb7dfWyH__M"
      },
      "outputs": [],
      "source": [
        "x_lst=[\"score_knn\",\"score_nb\",\"score_svm\",\"score_tree\",\"score_random\"]\n",
        "y_lst=[score_knn,score_nb,score_svm,score_tree,score_random]"
      ]
    },
    {
      "cell_type": "code",
      "execution_count": 95,
      "metadata": {
        "colab": {
          "base_uri": "https://localhost:8080/",
          "height": 356
        },
        "id": "NU-jVvJUIZIW",
        "outputId": "f57a3e5f-8646-4574-ef00-0b26a4e8677c"
      },
      "outputs": [
        {
          "output_type": "display_data",
          "data": {
            "text/plain": [
              "<Figure size 720x360 with 1 Axes>"
            ],
            "image/png": "[encoded data removed]"
          },
          "metadata": {
            "needs_background": "light"
          }
        }
      ],
      "source": [
        "# COMPARE ACCURACIES\n",
        "import matplotlib.pyplot as plt\n",
        "plt.figure(figsize=(10,5))\n",
        "plt.barh(x_lst,y_lst,color='red')\n",
        "font={'family':'serif','color':'black','size':20,'fontweight':'bold'} \n",
        "plt.title(\"COMPARING THE ACCURACIES OF THE CLASSIFIACTION ALGORITHMS\",fontdict=font)\n",
        "plt.xlabel(\"ACCURACY SCORES\")\n",
        "plt.show()"
      ]
    }
  ],
  "metadata": {
    "colab": {
      "provenance": []
    },
    "kernelspec": {
      "display_name": "Python 3",
      "name": "python3"
    },
    "language_info": {
      "name": "python"
    }
  },
  "nbformat": 4,
  "nbformat_minor": 0
}